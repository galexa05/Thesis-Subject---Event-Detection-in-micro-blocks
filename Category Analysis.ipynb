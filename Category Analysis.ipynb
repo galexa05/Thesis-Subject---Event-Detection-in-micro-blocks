{
 "cells": [
  {
   "cell_type": "code",
   "execution_count": 1,
   "metadata": {},
   "outputs": [],
   "source": [
    "import pandas as pd\n",
    "import json\n",
    "import numpy as np\n",
    "from sklearn import metrics\n",
    "import matplotlib.pyplot as plt\n",
    "import warnings\n",
    "warnings.filterwarnings('ignore')"
   ]
  },
  {
   "cell_type": "code",
   "execution_count": 2,
   "metadata": {},
   "outputs": [],
   "source": [
    "colnames=['tweets', 'created_at', 'id', 'rt', 'lang', 'urls', 'Event']\n",
    "df_relevant = pd.read_csv('clean_relevant_tweets.csv', header='infer')\n",
    "df_clusters = pd.read_csv('temp13_8.csv',header='infer',engine='python')"
   ]
  },
  {
   "cell_type": "code",
   "execution_count": 3,
   "metadata": {},
   "outputs": [],
   "source": [
    "colnames = ['Event','Category']\n",
    "df_categories = pd.read_csv(\"event_categories.tsv\",sep='\\t',names=colnames,header=None)"
   ]
  },
  {
   "cell_type": "code",
   "execution_count": 4,
   "metadata": {},
   "outputs": [
    {
     "data": {
      "text/html": [
       "<div>\n",
       "<style scoped>\n",
       "    .dataframe tbody tr th:only-of-type {\n",
       "        vertical-align: middle;\n",
       "    }\n",
       "\n",
       "    .dataframe tbody tr th {\n",
       "        vertical-align: top;\n",
       "    }\n",
       "\n",
       "    .dataframe thead th {\n",
       "        text-align: right;\n",
       "    }\n",
       "</style>\n",
       "<table border=\"1\" class=\"dataframe\">\n",
       "  <thead>\n",
       "    <tr style=\"text-align: right;\">\n",
       "      <th></th>\n",
       "      <th>tweets</th>\n",
       "      <th>created_at</th>\n",
       "      <th>id</th>\n",
       "      <th>rt</th>\n",
       "      <th>lang</th>\n",
       "      <th>urls</th>\n",
       "      <th>Event</th>\n",
       "    </tr>\n",
       "    <tr>\n",
       "      <th>Category</th>\n",
       "      <th></th>\n",
       "      <th></th>\n",
       "      <th></th>\n",
       "      <th></th>\n",
       "      <th></th>\n",
       "      <th></th>\n",
       "      <th></th>\n",
       "    </tr>\n",
       "  </thead>\n",
       "  <tbody>\n",
       "    <tr>\n",
       "      <th>Armed Conflicts &amp; Attacks</th>\n",
       "      <td>5952</td>\n",
       "      <td>5952</td>\n",
       "      <td>5952</td>\n",
       "      <td>5952</td>\n",
       "      <td>5952</td>\n",
       "      <td>5952</td>\n",
       "      <td>5952</td>\n",
       "    </tr>\n",
       "    <tr>\n",
       "      <th>Arts, Culture &amp; Entertainment</th>\n",
       "      <td>8178</td>\n",
       "      <td>8178</td>\n",
       "      <td>8178</td>\n",
       "      <td>8178</td>\n",
       "      <td>8178</td>\n",
       "      <td>8178</td>\n",
       "      <td>8178</td>\n",
       "    </tr>\n",
       "    <tr>\n",
       "      <th>Business &amp; Economy</th>\n",
       "      <td>3190</td>\n",
       "      <td>3190</td>\n",
       "      <td>3190</td>\n",
       "      <td>3190</td>\n",
       "      <td>3190</td>\n",
       "      <td>3190</td>\n",
       "      <td>3190</td>\n",
       "    </tr>\n",
       "    <tr>\n",
       "      <th>Disasters &amp; Accidents</th>\n",
       "      <td>4612</td>\n",
       "      <td>4612</td>\n",
       "      <td>4612</td>\n",
       "      <td>4612</td>\n",
       "      <td>4612</td>\n",
       "      <td>4612</td>\n",
       "      <td>4612</td>\n",
       "    </tr>\n",
       "    <tr>\n",
       "      <th>Law, Politics &amp; Scandals</th>\n",
       "      <td>36892</td>\n",
       "      <td>36892</td>\n",
       "      <td>36892</td>\n",
       "      <td>36892</td>\n",
       "      <td>36892</td>\n",
       "      <td>36892</td>\n",
       "      <td>36892</td>\n",
       "    </tr>\n",
       "    <tr>\n",
       "      <th>Miscellaneous</th>\n",
       "      <td>4433</td>\n",
       "      <td>4433</td>\n",
       "      <td>4433</td>\n",
       "      <td>4433</td>\n",
       "      <td>4433</td>\n",
       "      <td>4433</td>\n",
       "      <td>4433</td>\n",
       "    </tr>\n",
       "    <tr>\n",
       "      <th>Science &amp; Technology</th>\n",
       "      <td>1823</td>\n",
       "      <td>1823</td>\n",
       "      <td>1823</td>\n",
       "      <td>1823</td>\n",
       "      <td>1823</td>\n",
       "      <td>1823</td>\n",
       "      <td>1823</td>\n",
       "    </tr>\n",
       "    <tr>\n",
       "      <th>Sports</th>\n",
       "      <td>32674</td>\n",
       "      <td>32674</td>\n",
       "      <td>32674</td>\n",
       "      <td>32674</td>\n",
       "      <td>32674</td>\n",
       "      <td>32674</td>\n",
       "      <td>32674</td>\n",
       "    </tr>\n",
       "  </tbody>\n",
       "</table>\n",
       "</div>"
      ],
      "text/plain": [
       "                               tweets  created_at     id     rt   lang   urls  \\\n",
       "Category                                                                        \n",
       "Armed Conflicts & Attacks        5952        5952   5952   5952   5952   5952   \n",
       "Arts, Culture & Entertainment    8178        8178   8178   8178   8178   8178   \n",
       "Business & Economy               3190        3190   3190   3190   3190   3190   \n",
       "Disasters & Accidents            4612        4612   4612   4612   4612   4612   \n",
       "Law, Politics & Scandals        36892       36892  36892  36892  36892  36892   \n",
       "Miscellaneous                    4433        4433   4433   4433   4433   4433   \n",
       "Science & Technology             1823        1823   1823   1823   1823   1823   \n",
       "Sports                          32674       32674  32674  32674  32674  32674   \n",
       "\n",
       "                               Event  \n",
       "Category                              \n",
       "Armed Conflicts & Attacks       5952  \n",
       "Arts, Culture & Entertainment   8178  \n",
       "Business & Economy              3190  \n",
       "Disasters & Accidents           4612  \n",
       "Law, Politics & Scandals       36892  \n",
       "Miscellaneous                   4433  \n",
       "Science & Technology            1823  \n",
       "Sports                         32674  "
      ]
     },
     "execution_count": 4,
     "metadata": {},
     "output_type": "execute_result"
    }
   ],
   "source": [
    "temp_1 = pd.merge(df_relevant, df_categories, how='inner', on=['Event'])\n",
    "temp_1.groupby(['Category']).count()"
   ]
  },
  {
   "cell_type": "code",
   "execution_count": 5,
   "metadata": {},
   "outputs": [
    {
     "data": {
      "text/html": [
       "<div>\n",
       "<style scoped>\n",
       "    .dataframe tbody tr th:only-of-type {\n",
       "        vertical-align: middle;\n",
       "    }\n",
       "\n",
       "    .dataframe tbody tr th {\n",
       "        vertical-align: top;\n",
       "    }\n",
       "\n",
       "    .dataframe thead th {\n",
       "        text-align: right;\n",
       "    }\n",
       "</style>\n",
       "<table border=\"1\" class=\"dataframe\">\n",
       "  <thead>\n",
       "    <tr style=\"text-align: right;\">\n",
       "      <th></th>\n",
       "      <th>tweets</th>\n",
       "      <th>Timestamp</th>\n",
       "      <th>Cluster</th>\n",
       "      <th>Event</th>\n",
       "    </tr>\n",
       "    <tr>\n",
       "      <th>Category</th>\n",
       "      <th></th>\n",
       "      <th></th>\n",
       "      <th></th>\n",
       "      <th></th>\n",
       "    </tr>\n",
       "  </thead>\n",
       "  <tbody>\n",
       "    <tr>\n",
       "      <th>Armed Conflicts &amp; Attacks</th>\n",
       "      <td>1013</td>\n",
       "      <td>1013</td>\n",
       "      <td>1013</td>\n",
       "      <td>1013</td>\n",
       "    </tr>\n",
       "    <tr>\n",
       "      <th>Arts, Culture &amp; Entertainment</th>\n",
       "      <td>4564</td>\n",
       "      <td>4564</td>\n",
       "      <td>4564</td>\n",
       "      <td>4564</td>\n",
       "    </tr>\n",
       "    <tr>\n",
       "      <th>Business &amp; Economy</th>\n",
       "      <td>1043</td>\n",
       "      <td>1043</td>\n",
       "      <td>1043</td>\n",
       "      <td>1043</td>\n",
       "    </tr>\n",
       "    <tr>\n",
       "      <th>Disasters &amp; Accidents</th>\n",
       "      <td>1752</td>\n",
       "      <td>1752</td>\n",
       "      <td>1752</td>\n",
       "      <td>1752</td>\n",
       "    </tr>\n",
       "    <tr>\n",
       "      <th>Law, Politics &amp; Scandals</th>\n",
       "      <td>12766</td>\n",
       "      <td>12766</td>\n",
       "      <td>12766</td>\n",
       "      <td>12766</td>\n",
       "    </tr>\n",
       "    <tr>\n",
       "      <th>Miscellaneous</th>\n",
       "      <td>2184</td>\n",
       "      <td>2184</td>\n",
       "      <td>2184</td>\n",
       "      <td>2184</td>\n",
       "    </tr>\n",
       "    <tr>\n",
       "      <th>Science &amp; Technology</th>\n",
       "      <td>576</td>\n",
       "      <td>576</td>\n",
       "      <td>576</td>\n",
       "      <td>576</td>\n",
       "    </tr>\n",
       "    <tr>\n",
       "      <th>Sports</th>\n",
       "      <td>13381</td>\n",
       "      <td>13381</td>\n",
       "      <td>13381</td>\n",
       "      <td>13381</td>\n",
       "    </tr>\n",
       "  </tbody>\n",
       "</table>\n",
       "</div>"
      ],
      "text/plain": [
       "                               tweets  Timestamp  Cluster  Event\n",
       "Category                                                        \n",
       "Armed Conflicts & Attacks        1013       1013     1013   1013\n",
       "Arts, Culture & Entertainment    4564       4564     4564   4564\n",
       "Business & Economy               1043       1043     1043   1043\n",
       "Disasters & Accidents            1752       1752     1752   1752\n",
       "Law, Politics & Scandals        12766      12766    12766  12766\n",
       "Miscellaneous                    2184       2184     2184   2184\n",
       "Science & Technology              576        576      576    576\n",
       "Sports                          13381      13381    13381  13381"
      ]
     },
     "execution_count": 5,
     "metadata": {},
     "output_type": "execute_result"
    }
   ],
   "source": [
    "temp_2 = pd.merge(df_clusters, df_categories, how='inner', on=['Event'])\n",
    "temp_2.groupby(['Category']).count()"
   ]
  },
  {
   "cell_type": "code",
   "execution_count": 6,
   "metadata": {},
   "outputs": [
    {
     "data": {
      "text/plain": [
       "[1013, 4564, 1043, 1752, 12766, 2184, 576, 13381]"
      ]
     },
     "execution_count": 6,
     "metadata": {},
     "output_type": "execute_result"
    }
   ],
   "source": [
    "temp_2.groupby(['Category']).count()['tweets'].tolist()"
   ]
  },
  {
   "cell_type": "code",
   "execution_count": 7,
   "metadata": {},
   "outputs": [
    {
     "data": {
      "text/html": [
       "<div>\n",
       "<style scoped>\n",
       "    .dataframe tbody tr th:only-of-type {\n",
       "        vertical-align: middle;\n",
       "    }\n",
       "\n",
       "    .dataframe tbody tr th {\n",
       "        vertical-align: top;\n",
       "    }\n",
       "\n",
       "    .dataframe thead th {\n",
       "        text-align: right;\n",
       "    }\n",
       "</style>\n",
       "<table border=\"1\" class=\"dataframe\">\n",
       "  <thead>\n",
       "    <tr style=\"text-align: right;\">\n",
       "      <th></th>\n",
       "      <th>Relevant Tweets</th>\n",
       "      <th>Cluster Tweets</th>\n",
       "    </tr>\n",
       "    <tr>\n",
       "      <th>Index</th>\n",
       "      <th></th>\n",
       "      <th></th>\n",
       "    </tr>\n",
       "  </thead>\n",
       "  <tbody>\n",
       "    <tr>\n",
       "      <th>Armed Conflicts &amp; Attacks</th>\n",
       "      <td>5952</td>\n",
       "      <td>1013</td>\n",
       "    </tr>\n",
       "    <tr>\n",
       "      <th>Arts, Culture &amp; Entertainment</th>\n",
       "      <td>8178</td>\n",
       "      <td>4564</td>\n",
       "    </tr>\n",
       "    <tr>\n",
       "      <th>Business &amp; Economy</th>\n",
       "      <td>3190</td>\n",
       "      <td>1043</td>\n",
       "    </tr>\n",
       "    <tr>\n",
       "      <th>Disasters &amp; Accidents</th>\n",
       "      <td>4612</td>\n",
       "      <td>1752</td>\n",
       "    </tr>\n",
       "    <tr>\n",
       "      <th>Law, Politics &amp; Scandals</th>\n",
       "      <td>36892</td>\n",
       "      <td>12766</td>\n",
       "    </tr>\n",
       "    <tr>\n",
       "      <th>Miscellaneous</th>\n",
       "      <td>4433</td>\n",
       "      <td>2184</td>\n",
       "    </tr>\n",
       "    <tr>\n",
       "      <th>Science &amp; Technology</th>\n",
       "      <td>1823</td>\n",
       "      <td>576</td>\n",
       "    </tr>\n",
       "    <tr>\n",
       "      <th>Sports</th>\n",
       "      <td>32674</td>\n",
       "      <td>13381</td>\n",
       "    </tr>\n",
       "  </tbody>\n",
       "</table>\n",
       "</div>"
      ],
      "text/plain": [
       "                               Relevant Tweets  Cluster Tweets\n",
       "Index                                                         \n",
       "Armed Conflicts & Attacks                 5952            1013\n",
       "Arts, Culture & Entertainment             8178            4564\n",
       "Business & Economy                        3190            1043\n",
       "Disasters & Accidents                     4612            1752\n",
       "Law, Politics & Scandals                 36892           12766\n",
       "Miscellaneous                             4433            2184\n",
       "Science & Technology                      1823             576\n",
       "Sports                                   32674           13381"
      ]
     },
     "execution_count": 7,
     "metadata": {},
     "output_type": "execute_result"
    }
   ],
   "source": [
    "list_1 = temp_1.groupby(['Category']).count()['tweets'].tolist()\n",
    "list_2 = temp_2.groupby(['Category']).count()['tweets'].tolist()\n",
    "list_index = temp_2.groupby(['Category']).count().index.tolist()\n",
    "plot_df = pd.DataFrame({'Index':list_index,'Relevant Tweets': list_1, 'Cluster Tweets': list_2})\n",
    "plot_df = plot_df.set_index('Index')\n",
    "plot_df"
   ]
  },
  {
   "cell_type": "code",
   "execution_count": 8,
   "metadata": {},
   "outputs": [
    {
     "data": {
      "text/plain": [
       "[5952, 8178, 3190, 4612, 36892, 4433, 1823, 32674]"
      ]
     },
     "execution_count": 8,
     "metadata": {},
     "output_type": "execute_result"
    }
   ],
   "source": [
    "plot_df['Relevant Tweets'].tolist()"
   ]
  },
  {
   "cell_type": "code",
   "execution_count": 9,
   "metadata": {},
   "outputs": [
    {
     "data": {
      "image/png": "[encoded data removed]",
      "text/plain": [
       "<Figure size 1440x720 with 1 Axes>"
      ]
     },
     "metadata": {
      "needs_background": "light"
     },
     "output_type": "display_data"
    }
   ],
   "source": [
    "plot_df.plot(kind='bar',figsize=(20,10));"
   ]
  },
  {
   "cell_type": "code",
   "execution_count": 10,
   "metadata": {},
   "outputs": [],
   "source": [
    "list_events = temp_1.Event.unique().tolist()\n",
    "df_events = pd.DataFrame(list_events,columns=['Event'])\n",
    "df_events = pd.merge(df_events, df_categories, how='inner', on=['Event'])"
   ]
  },
  {
   "cell_type": "code",
   "execution_count": 11,
   "metadata": {},
   "outputs": [
    {
     "data": {
      "text/html": [
       "<div>\n",
       "<style scoped>\n",
       "    .dataframe tbody tr th:only-of-type {\n",
       "        vertical-align: middle;\n",
       "    }\n",
       "\n",
       "    .dataframe tbody tr th {\n",
       "        vertical-align: top;\n",
       "    }\n",
       "\n",
       "    .dataframe thead th {\n",
       "        text-align: right;\n",
       "    }\n",
       "</style>\n",
       "<table border=\"1\" class=\"dataframe\">\n",
       "  <thead>\n",
       "    <tr style=\"text-align: right;\">\n",
       "      <th></th>\n",
       "      <th>Event</th>\n",
       "    </tr>\n",
       "    <tr>\n",
       "      <th>Category</th>\n",
       "      <th></th>\n",
       "    </tr>\n",
       "  </thead>\n",
       "  <tbody>\n",
       "    <tr>\n",
       "      <th>Armed Conflicts &amp; Attacks</th>\n",
       "      <td>56</td>\n",
       "    </tr>\n",
       "    <tr>\n",
       "      <th>Arts, Culture &amp; Entertainment</th>\n",
       "      <td>29</td>\n",
       "    </tr>\n",
       "    <tr>\n",
       "      <th>Business &amp; Economy</th>\n",
       "      <td>13</td>\n",
       "    </tr>\n",
       "    <tr>\n",
       "      <th>Disasters &amp; Accidents</th>\n",
       "      <td>21</td>\n",
       "    </tr>\n",
       "    <tr>\n",
       "      <th>Law, Politics &amp; Scandals</th>\n",
       "      <td>85</td>\n",
       "    </tr>\n",
       "    <tr>\n",
       "      <th>Miscellaneous</th>\n",
       "      <td>20</td>\n",
       "    </tr>\n",
       "    <tr>\n",
       "      <th>Science &amp; Technology</th>\n",
       "      <td>13</td>\n",
       "    </tr>\n",
       "    <tr>\n",
       "      <th>Sports</th>\n",
       "      <td>119</td>\n",
       "    </tr>\n",
       "  </tbody>\n",
       "</table>\n",
       "</div>"
      ],
      "text/plain": [
       "                               Event\n",
       "Category                            \n",
       "Armed Conflicts & Attacks         56\n",
       "Arts, Culture & Entertainment     29\n",
       "Business & Economy                13\n",
       "Disasters & Accidents             21\n",
       "Law, Politics & Scandals          85\n",
       "Miscellaneous                     20\n",
       "Science & Technology              13\n",
       "Sports                           119"
      ]
     },
     "execution_count": 11,
     "metadata": {},
     "output_type": "execute_result"
    }
   ],
   "source": [
    "df_events.groupby(['Category']).count()"
   ]
  },
  {
   "cell_type": "code",
   "execution_count": 12,
   "metadata": {},
   "outputs": [],
   "source": [
    "def getLabel(list_event):\n",
    "    try:\n",
    "        temp = list_event.value_counts()\n",
    "        return temp.keys()[0]\n",
    "    except:\n",
    "        return -1\n",
    "\n",
    "def findPurity(temp_df):\n",
    "    try:\n",
    "        label = getLabel(temp_df['Event'])\n",
    "        n1 = temp_df.loc[temp_df['Event']==label].shape[0]\n",
    "        n2 = temp_df.shape[0]\n",
    "        return n1/n2\n",
    "    except:\n",
    "        return -1\n",
    "\n",
    "def getDataframePurity(df,list_predict):\n",
    "    df_purity = pd.DataFrame()\n",
    "    df_purity['Cluster'] = np.array([cluster for cluster in list_predict])\n",
    "#     print(df_purity['Cluster'])\n",
    "    df_purity['Length_Cluster'] = [df.loc[df.Cluster==temp].shape[0] for temp in df_purity['Cluster']]\n",
    "    df_purity['Predicted_Event'] = np.array([int(getLabel(df.loc[df['Cluster']==cluster]['Event'])) for cluster in list_predict])\n",
    "    df_purity['Purity'] = np.array([round(findPurity(df.loc[df['Cluster']==cluster]),1) for cluster in list_predict])\n",
    "    return df_purity\n",
    "\n",
    "array = df_clusters.groupby([\"Cluster\"]).count().index.tolist()\n",
    "df_purity = getDataframePurity(df_clusters,array)"
   ]
  },
  {
   "cell_type": "code",
   "execution_count": 13,
   "metadata": {},
   "outputs": [
    {
     "data": {
      "text/html": [
       "<div>\n",
       "<style scoped>\n",
       "    .dataframe tbody tr th:only-of-type {\n",
       "        vertical-align: middle;\n",
       "    }\n",
       "\n",
       "    .dataframe tbody tr th {\n",
       "        vertical-align: top;\n",
       "    }\n",
       "\n",
       "    .dataframe thead th {\n",
       "        text-align: right;\n",
       "    }\n",
       "</style>\n",
       "<table border=\"1\" class=\"dataframe\">\n",
       "  <thead>\n",
       "    <tr style=\"text-align: right;\">\n",
       "      <th></th>\n",
       "      <th>Predicted Event</th>\n",
       "    </tr>\n",
       "    <tr>\n",
       "      <th>Category</th>\n",
       "      <th></th>\n",
       "    </tr>\n",
       "  </thead>\n",
       "  <tbody>\n",
       "    <tr>\n",
       "      <th>Armed Conflicts &amp; Attacks</th>\n",
       "      <td>45</td>\n",
       "    </tr>\n",
       "    <tr>\n",
       "      <th>Arts, Culture &amp; Entertainment</th>\n",
       "      <td>28</td>\n",
       "    </tr>\n",
       "    <tr>\n",
       "      <th>Business &amp; Economy</th>\n",
       "      <td>11</td>\n",
       "    </tr>\n",
       "    <tr>\n",
       "      <th>Disasters &amp; Accidents</th>\n",
       "      <td>20</td>\n",
       "    </tr>\n",
       "    <tr>\n",
       "      <th>Law, Politics &amp; Scandals</th>\n",
       "      <td>72</td>\n",
       "    </tr>\n",
       "    <tr>\n",
       "      <th>Miscellaneous</th>\n",
       "      <td>20</td>\n",
       "    </tr>\n",
       "    <tr>\n",
       "      <th>Science &amp; Technology</th>\n",
       "      <td>10</td>\n",
       "    </tr>\n",
       "    <tr>\n",
       "      <th>Sports</th>\n",
       "      <td>109</td>\n",
       "    </tr>\n",
       "  </tbody>\n",
       "</table>\n",
       "</div>"
      ],
      "text/plain": [
       "                               Predicted Event\n",
       "Category                                      \n",
       "Armed Conflicts & Attacks                   45\n",
       "Arts, Culture & Entertainment               28\n",
       "Business & Economy                          11\n",
       "Disasters & Accidents                       20\n",
       "Law, Politics & Scandals                    72\n",
       "Miscellaneous                               20\n",
       "Science & Technology                        10\n",
       "Sports                                     109"
      ]
     },
     "execution_count": 13,
     "metadata": {},
     "output_type": "execute_result"
    }
   ],
   "source": [
    "list_preticted = df_purity.loc[df_purity.Predicted_Event!=-1].Predicted_Event.unique().tolist()\n",
    "df_events_predicted = pd.DataFrame(list_preticted,columns=['Event'])\n",
    "df_events_predicted = pd.merge(df_events_predicted, df_categories, how='inner', on=['Event'])\n",
    "df_events_predicted = df_events_predicted.rename(columns={\"Event\":\"Predicted Event\"})\n",
    "\n",
    "df_events_predicted.groupby(['Category']).count()"
   ]
  },
  {
   "cell_type": "code",
   "execution_count": 14,
   "metadata": {},
   "outputs": [],
   "source": [
    "temp_events_category = df_events.groupby(['Category']).count()\n",
    "temp_events_category['Predicted Event'] = df_events_predicted.groupby(['Category']).count()['Predicted Event'].tolist()"
   ]
  },
  {
   "cell_type": "code",
   "execution_count": 15,
   "metadata": {},
   "outputs": [
    {
     "data": {
      "image/png": "[encoded data removed]",
      "text/plain": [
       "<Figure size 1440x720 with 1 Axes>"
      ]
     },
     "metadata": {
      "needs_background": "light"
     },
     "output_type": "display_data"
    }
   ],
   "source": [
    "temp_events_category.plot(kind='bar',figsize=(20,10));"
   ]
  }
 ],
 "metadata": {
  "kernelspec": {
   "display_name": "Python 3",
   "language": "python",
   "name": "python3"
  },
  "language_info": {
   "codemirror_mode": {
    "name": "ipython",
    "version": 3
   },
   "file_extension": ".py",
   "mimetype": "text/x-python",
   "name": "python",
   "nbconvert_exporter": "python",
   "pygments_lexer": "ipython3",
   "version": "3.7.6"
  }
 },
 "nbformat": 4,
 "nbformat_minor": 4
}
