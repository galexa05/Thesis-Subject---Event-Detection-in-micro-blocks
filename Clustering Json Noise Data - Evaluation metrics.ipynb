{
 "cells": [
  {
   "cell_type": "code",
   "execution_count": 1,
   "metadata": {},
   "outputs": [],
   "source": [
    "# Import libraries\n",
    "import pandas as pd\n",
    "import numpy as np\n",
    "import matplotlib.pyplot as plt\n",
    "import nltk \n",
    "import string\n",
    "import re\n",
    "import codecs\n",
    "import json\n",
    "#%matplotlib inline\n",
    "#pd.set_option('display.max_colwidth', 100)\n",
    "\n",
    "import hdbscan\n",
    "import nltk\n",
    "import numpy as np\n",
    "import pandas as pd\n",
    "import random\n",
    "import re\n",
    "import spacy\n",
    "import textacy\n",
    "import csv\n",
    "import sklearn\n",
    "\n",
    "from gmplot import gmplot\n",
    "from mapsplotlib import mapsplot as mplt\n",
    "from nltk.corpus import twitter_samples\n",
    "from nltk.tag import pos_tag_sents\n",
    "from pymprog import *\n",
    "from sklearn.cluster import DBSCAN\n",
    "from sklearn.neighbors import DistanceMetric\n",
    "from sklearn.feature_extraction.text import CountVectorizer\n",
    "\n",
    "import pandas as pd\n",
    "\n",
    "import datetime\n",
    "from time import strptime\n",
    "\n",
    "from nltk.stem.snowball import SnowballStemmer\n",
    "from nltk.corpus import stopwords\n",
    "from bs4 import BeautifulSoup\n",
    "import re\n",
    "from sklearn.cluster import KMeans\n",
    "import clustering_models as cl\n",
    "import timestamp_graphs as tg\n",
    "import warnings\n",
    "warnings.filterwarnings('ignore')"
   ]
  },
  {
   "cell_type": "code",
   "execution_count": 2,
   "metadata": {
    "scrolled": true
   },
   "outputs": [
    {
     "name": "stdout",
     "output_type": "stream",
     "text": [
      "106017\n"
     ]
    },
    {
     "data": {
      "text/html": [
       "<div>\n",
       "<style scoped>\n",
       "    .dataframe tbody tr th:only-of-type {\n",
       "        vertical-align: middle;\n",
       "    }\n",
       "\n",
       "    .dataframe tbody tr th {\n",
       "        vertical-align: top;\n",
       "    }\n",
       "\n",
       "    .dataframe thead th {\n",
       "        text-align: right;\n",
       "    }\n",
       "</style>\n",
       "<table border=\"1\" class=\"dataframe\">\n",
       "  <thead>\n",
       "    <tr style=\"text-align: right;\">\n",
       "      <th></th>\n",
       "      <th>tweets</th>\n",
       "      <th>created_at</th>\n",
       "      <th>id</th>\n",
       "      <th>rt</th>\n",
       "      <th>lang</th>\n",
       "      <th>location</th>\n",
       "      <th>coordinates</th>\n",
       "      <th>Event</th>\n",
       "    </tr>\n",
       "  </thead>\n",
       "  <tbody>\n",
       "    <tr>\n",
       "      <th>0</th>\n",
       "      <td>News: Chinese author Mo Yan wins Nobel http://...</td>\n",
       "      <td>Thu Oct 11 11:08:32 +0000 2012</td>\n",
       "      <td>256350567369175040</td>\n",
       "      <td>False</td>\n",
       "      <td>en</td>\n",
       "      <td>Eindhoven</td>\n",
       "      <td>{\"lat\": 51.47601928708412, \"lon\": 5.4647688255...</td>\n",
       "      <td>0</td>\n",
       "    </tr>\n",
       "  </tbody>\n",
       "</table>\n",
       "</div>"
      ],
      "text/plain": [
       "                                              tweets  \\\n",
       "0  News: Chinese author Mo Yan wins Nobel http://...   \n",
       "\n",
       "                       created_at                  id     rt lang   location  \\\n",
       "0  Thu Oct 11 11:08:32 +0000 2012  256350567369175040  False   en  Eindhoven   \n",
       "\n",
       "                                         coordinates  Event  \n",
       "0  {\"lat\": 51.47601928708412, \"lon\": 5.4647688255...      0  "
      ]
     },
     "execution_count": 2,
     "metadata": {},
     "output_type": "execute_result"
    }
   ],
   "source": [
    "colnames=['tweets', 'created_at', 'id','rt','lang','location','coordinates','Event'] \n",
    "df_relevant = pd.read_csv('relevant_with_coordinates.csv', names=colnames, header=None)\n",
    "print(df_relevant.shape[0])\n",
    "df_relevant.head(1)"
   ]
  },
  {
   "cell_type": "code",
   "execution_count": 3,
   "metadata": {},
   "outputs": [],
   "source": [
    "# json.loads(df_relevant[\"coordinates\"][0])['lat']"
   ]
  },
  {
   "cell_type": "code",
   "execution_count": 4,
   "metadata": {
    "scrolled": true
   },
   "outputs": [
    {
     "name": "stdout",
     "output_type": "stream",
     "text": [
      "413986\n"
     ]
    },
    {
     "data": {
      "text/html": [
       "<div>\n",
       "<style scoped>\n",
       "    .dataframe tbody tr th:only-of-type {\n",
       "        vertical-align: middle;\n",
       "    }\n",
       "\n",
       "    .dataframe tbody tr th {\n",
       "        vertical-align: top;\n",
       "    }\n",
       "\n",
       "    .dataframe thead th {\n",
       "        text-align: right;\n",
       "    }\n",
       "</style>\n",
       "<table border=\"1\" class=\"dataframe\">\n",
       "  <thead>\n",
       "    <tr style=\"text-align: right;\">\n",
       "      <th></th>\n",
       "      <th>tweets</th>\n",
       "      <th>created_at</th>\n",
       "      <th>id</th>\n",
       "      <th>rt</th>\n",
       "      <th>lang</th>\n",
       "      <th>location</th>\n",
       "      <th>coordinates</th>\n",
       "      <th>Event</th>\n",
       "    </tr>\n",
       "  </thead>\n",
       "  <tbody>\n",
       "    <tr>\n",
       "      <th>0</th>\n",
       "      <td>I love ms.sivney class (Sports &amp;amp; Entertaim...</td>\n",
       "      <td>Wed Oct 31 16:48:39 +0000 2012</td>\n",
       "      <td>263683917889040400</td>\n",
       "      <td>False</td>\n",
       "      <td>en</td>\n",
       "      <td>Macedonia</td>\n",
       "      <td>{'lat': 41.82038761113906, 'lon': 22.008566323...</td>\n",
       "      <td>-1</td>\n",
       "    </tr>\n",
       "  </tbody>\n",
       "</table>\n",
       "</div>"
      ],
      "text/plain": [
       "                                              tweets  \\\n",
       "0  I love ms.sivney class (Sports &amp; Entertaim...   \n",
       "\n",
       "                       created_at                  id     rt lang   location  \\\n",
       "0  Wed Oct 31 16:48:39 +0000 2012  263683917889040400  False   en  Macedonia   \n",
       "\n",
       "                                         coordinates  Event  \n",
       "0  {'lat': 41.82038761113906, 'lon': 22.008566323...     -1  "
      ]
     },
     "execution_count": 4,
     "metadata": {},
     "output_type": "execute_result"
    }
   ],
   "source": [
    "colnames=['tweets', 'created_at', 'id','rt','lang','location','coordinates'] \n",
    "df_irrelevant = pd.read_csv('irrelevant_with_coordinates.csv', names=colnames, header=None)\n",
    "df_irrelevant['Event'] = -1\n",
    "print(df_irrelevant.shape[0])\n",
    "df_irrelevant.head(1)"
   ]
  },
  {
   "cell_type": "code",
   "execution_count": 5,
   "metadata": {},
   "outputs": [],
   "source": [
    "frames = [df_relevant,df_irrelevant]\n",
    "df = pd.concat(frames)"
   ]
  },
  {
   "cell_type": "markdown",
   "metadata": {},
   "source": [
    "## Remove tweets that are not in English"
   ]
  },
  {
   "cell_type": "code",
   "execution_count": 6,
   "metadata": {},
   "outputs": [
    {
     "name": "stdout",
     "output_type": "stream",
     "text": [
      "Index(['en', 'und', 'in', 'tl', 'es', 'ht', 'fr', 'et', 'pt', 'de', 'nl', 'ca',\n",
      "       'ro', 'da', 'it', 'pl', 'cy', 'cs', 'sv', 'ja', 'no', 'tr', 'fi', 'hi',\n",
      "       'lt', 'zh', 'hu', 'lv', 'ko', 'eu', 'sl', 'vi', 'is', 'ar', 'th', 'hy',\n",
      "       'ru', 'my'],\n",
      "      dtype='object')\n"
     ]
    },
    {
     "data": {
      "image/png": "[encoded data removed]",
      "text/plain": [
       "<Figure size 432x288 with 1 Axes>"
      ]
     },
     "metadata": {
      "needs_background": "light"
     },
     "output_type": "display_data"
    }
   ],
   "source": [
    "import matplotlib.pyplot as plt\n",
    "# plots number of tweets in each language\n",
    "counts = df['lang'].value_counts()\n",
    "plt.bar(counts.index, counts, align='center', alpha=1)\n",
    "plt.xlabel('Tweet Language')\n",
    "plt.ylabel('# of Tweets')\n",
    "plt.title('Tweets 2012')\n",
    "print(counts.index)"
   ]
  },
  {
   "cell_type": "code",
   "execution_count": 7,
   "metadata": {
    "scrolled": true
   },
   "outputs": [
    {
     "name": "stdout",
     "output_type": "stream",
     "text": [
      "Old df shape: 520003\n",
      "New df shape: 507519\n"
     ]
    }
   ],
   "source": [
    "print(\"Old df shape:\",df.shape[0])\n",
    "df = df.loc[df[\"lang\"]=='en']\n",
    "print(\"New df shape:\",df.shape[0])"
   ]
  },
  {
   "cell_type": "markdown",
   "metadata": {},
   "source": [
    "# Flagging all potential eventful tweets"
   ]
  },
  {
   "cell_type": "code",
   "execution_count": 8,
   "metadata": {},
   "outputs": [
    {
     "data": {
      "text/plain": [
       "4033"
      ]
     },
     "execution_count": 8,
     "metadata": {},
     "output_type": "execute_result"
    }
   ],
   "source": [
    "import timestamp_graphs as tg\n",
    "df = df.reset_index(drop=True)\n",
    "df = tg.createTimestamps(df)\n",
    "list_date_ten = tg.getList(df,'Date_Ten_Minutes')\n",
    "len(list_date_ten)"
   ]
  },
  {
   "cell_type": "code",
   "execution_count": 9,
   "metadata": {},
   "outputs": [
    {
     "data": {
      "image/png": "[encoded data removed]",
      "text/plain": [
       "<Figure size 432x288 with 1 Axes>"
      ]
     },
     "metadata": {
      "needs_background": "light"
     },
     "output_type": "display_data"
    }
   ],
   "source": [
    "df_relevant = tg.createTimestamps(df_relevant)\n",
    "df_irrelevant = tg.createTimestamps(df_irrelevant)\n",
    "tg.monitorGraphPerTenMinutes(df_relevant,df_irrelevant)"
   ]
  },
  {
   "cell_type": "code",
   "execution_count": 10,
   "metadata": {},
   "outputs": [
    {
     "name": "stdout",
     "output_type": "stream",
     "text": [
      "39951\n"
     ]
    }
   ],
   "source": [
    "list_date_minutes = tg.getList(df,'Datetime')\n",
    "print(len(list_date_minutes))"
   ]
  },
  {
   "cell_type": "code",
   "execution_count": 11,
   "metadata": {},
   "outputs": [
    {
     "data": {
      "image/png": "[encoded data removed]",
      "text/plain": [
       "<Figure size 432x288 with 1 Axes>"
      ]
     },
     "metadata": {
      "needs_background": "light"
     },
     "output_type": "display_data"
    }
   ],
   "source": [
    "tg.monitorGraphPerMinute(df_relevant,df_irrelevant)"
   ]
  },
  {
   "cell_type": "code",
   "execution_count": 12,
   "metadata": {},
   "outputs": [
    {
     "name": "stdout",
     "output_type": "stream",
     "text": [
      "673\n"
     ]
    }
   ],
   "source": [
    "list_date_hour = tg.getList(df,'DateHour')\n",
    "print(len(list_date_hour))"
   ]
  },
  {
   "cell_type": "code",
   "execution_count": 13,
   "metadata": {
    "scrolled": false
   },
   "outputs": [
    {
     "data": {
      "image/png": "[encoded data removed]",
      "text/plain": [
       "<Figure size 432x288 with 1 Axes>"
      ]
     },
     "metadata": {
      "needs_background": "light"
     },
     "output_type": "display_data"
    }
   ],
   "source": [
    "tg.monitorGraphPerHour(df_relevant,df_irrelevant)"
   ]
  },
  {
   "cell_type": "code",
   "execution_count": 14,
   "metadata": {},
   "outputs": [
    {
     "data": {
      "text/plain": [
       "106017"
      ]
     },
     "execution_count": 14,
     "metadata": {},
     "output_type": "execute_result"
    }
   ],
   "source": [
    "df_relevant.shape[0]"
   ]
  },
  {
   "cell_type": "code",
   "execution_count": 15,
   "metadata": {
    "scrolled": true
   },
   "outputs": [
    {
     "data": {
      "text/plain": [
       "413986"
      ]
     },
     "execution_count": 15,
     "metadata": {},
     "output_type": "execute_result"
    }
   ],
   "source": [
    "df_irrelevant.shape[0]"
   ]
  },
  {
   "cell_type": "markdown",
   "metadata": {},
   "source": [
    "<h3> Remove hashtags,mentions,retweets from the tweet and import them to a new column </h3>"
   ]
  },
  {
   "cell_type": "code",
   "execution_count": 16,
   "metadata": {},
   "outputs": [],
   "source": [
    "import data_preprocessing_methods as dpm"
   ]
  },
  {
   "cell_type": "code",
   "execution_count": 17,
   "metadata": {},
   "outputs": [],
   "source": [
    "temp = np.vectorize(dpm.remove_patterns)(df['tweets'],\"@[\\w]*\",\"#[\\w]*\",\"RT\")\n",
    "df[\"text\"] = np.array([text[\"input_text\"] for text in temp])\n",
    "df[\"hashtag\"] = np.array([dpm.list_lower(text[\"hashtags\"]) for text in temp])\n",
    "df[\"user_mentions\"] = np.array([text[\"user_mentions\"] for text in temp]) \n",
    "df[\"RT\"] = np.array([text[\"is_RT\"] for text in temp])\n",
    "df[\"URL\"] = np.array([text[\"is_URL\"] for text in temp])"
   ]
  },
  {
   "cell_type": "markdown",
   "metadata": {},
   "source": [
    "<h3> Remove punctuation and Tokenization</h3>"
   ]
  },
  {
   "cell_type": "code",
   "execution_count": 18,
   "metadata": {},
   "outputs": [],
   "source": [
    "df['Tweet_punct'] = df['text'].apply(lambda x: dpm.remove_punct(x))\n",
    "df['Tweet_tokenized'] = df['Tweet_punct'].apply(lambda x: dpm.tokenization(x.lower()))"
   ]
  },
  {
   "cell_type": "markdown",
   "metadata": {},
   "source": [
    "<h3>Remove stopwords</h3>"
   ]
  },
  {
   "cell_type": "code",
   "execution_count": 19,
   "metadata": {},
   "outputs": [],
   "source": [
    "stopword = nltk.corpus.stopwords.words('english')\n",
    "df['Tweet_nonstop'] = df['Tweet_tokenized'].apply(lambda x: dpm.remove_stopwords(x,stopword))"
   ]
  },
  {
   "cell_type": "markdown",
   "metadata": {},
   "source": [
    "<h3> Stemming </h3"
   ]
  },
  {
   "cell_type": "code",
   "execution_count": 20,
   "metadata": {},
   "outputs": [],
   "source": [
    "# Stemming is the process of breaking a word down into its root.\n",
    "stemmer = SnowballStemmer('english')\n",
    "stops = set(stopwords.words(\"english\"))\n",
    "\n",
    "df[\"Stem_sent\"] = np.array([dpm.stemming_to_sent(temp,stemmer) for temp in df[\"Tweet_nonstop\"]])\n",
    "df[\"Stem_words\"] = np.array([dpm.stemming_to_words(temp,stemmer) for temp in df[\"Tweet_nonstop\"]])\n",
    "df[\"No\"] = np.array([i for i in range(0,df.shape[0])])"
   ]
  },
  {
   "cell_type": "code",
   "execution_count": 21,
   "metadata": {},
   "outputs": [],
   "source": [
    "df[\"clean_data\"] = np.array([dpm.new_clean_data(i,df) for i in range(df.shape[0])])"
   ]
  },
  {
   "cell_type": "markdown",
   "metadata": {},
   "source": [
    "# Reverse Geocoding"
   ]
  },
  {
   "cell_type": "code",
   "execution_count": 22,
   "metadata": {},
   "outputs": [],
   "source": [
    "%load_ext autotime\n"
   ]
  },
  {
   "cell_type": "code",
   "execution_count": 23,
   "metadata": {
    "scrolled": true
   },
   "outputs": [
    {
     "name": "stdout",
     "output_type": "stream",
     "text": [
      "Loading formatted geocoded file...\n",
      "100000\n",
      "200000\n",
      "300000\n",
      "400000\n",
      "500000\n",
      "time: 2min 31s\n"
     ]
    }
   ],
   "source": [
    "df[\"clean_data_coordinates\"] = dpm.reverse_geocoding(df)"
   ]
  },
  {
   "cell_type": "markdown",
   "metadata": {},
   "source": [
    "# Creation of Clusters"
   ]
  },
  {
   "cell_type": "markdown",
   "metadata": {},
   "source": [
    "### Time window metrics"
   ]
  },
  {
   "cell_type": "code",
   "execution_count": 27,
   "metadata": {},
   "outputs": [
    {
     "name": "stdout",
     "output_type": "stream",
     "text": [
      "time: 1.85 s\n"
     ]
    }
   ],
   "source": [
    "df = df.sort_values(by=['Datetime'])"
   ]
  },
  {
   "cell_type": "code",
   "execution_count": 24,
   "metadata": {},
   "outputs": [
    {
     "name": "stdout",
     "output_type": "stream",
     "text": [
      "time: 123 ms\n"
     ]
    }
   ],
   "source": [
    "import clustering_processing as cp"
   ]
  },
  {
   "cell_type": "code",
   "execution_count": 25,
   "metadata": {},
   "outputs": [
    {
     "name": "stdout",
     "output_type": "stream",
     "text": [
      "time: 1min 36s\n"
     ]
    }
   ],
   "source": [
    "dataframe_time_window_0_6 = cp.create_clusters_time_window(df,2,0.6,1,0,True,'hierarchical',list_date_minutes)\n",
    "# dataframe_time_window_0_6.to_csv(r'ClusterTimeWindow_0_6.csv', index = False)"
   ]
  },
  {
   "cell_type": "code",
   "execution_count": null,
   "metadata": {
    "scrolled": true
   },
   "outputs": [],
   "source": [
    "dataframe_time_window_0_5 = cp.create_clusters_time_window(df,2,0.5,0,0,True,'dbscan',list_date_minutes)\n",
    "# dataframe_time_window_0_5.to_csv(r'ClusterTimeWindow_0_5.csv', index = False)"
   ]
  },
  {
   "cell_type": "markdown",
   "metadata": {},
   "source": [
    "### Hourly metrics"
   ]
  },
  {
   "cell_type": "markdown",
   "metadata": {},
   "source": [
    "# Evaluation Metrics"
   ]
  },
  {
   "cell_type": "code",
   "execution_count": null,
   "metadata": {},
   "outputs": [],
   "source": [
    "result1,map_df,cluster_spec_df = cp.create_clusters_hourly(df,2,0.5,1,0,False,'dbscan',list_date_hour)\n",
    "result2,map_df2,cluster_spec_df2 = cp.create_clusters_hourly(df,2,0.5,1,0,True,'dbscan',list_date_hour)"
   ]
  },
  {
   "cell_type": "markdown",
   "metadata": {},
   "source": [
    "# Presentation of Clusters"
   ]
  },
  {
   "cell_type": "markdown",
   "metadata": {},
   "source": [
    "### Present clusters in time window of 30 seconds"
   ]
  },
  {
   "cell_type": "markdown",
   "metadata": {},
   "source": [
    " ### Present clusters for every hour"
   ]
  },
  {
   "cell_type": "code",
   "execution_count": null,
   "metadata": {
    "scrolled": true
   },
   "outputs": [],
   "source": [
    "dbscan_show = cp.create_clusters_show_time_window(df,2,0.4,0,0,True,'dbscan',list_date_minutes)"
   ]
  },
  {
   "cell_type": "code",
   "execution_count": null,
   "metadata": {},
   "outputs": [
    {
     "name": "stdout",
     "output_type": "stream",
     "text": [
      "Timestamp: 2012-10-10 00:05:00 - 2012-10-10 00:14:00\n",
      "Size:  1\n",
      "-1  \n",
      "\n",
      "Timestamp: 2012-10-10 00:08:00 - 2012-10-10 00:17:00\n",
      "Size:  1\n",
      "-1  \n",
      "\n",
      "Timestamp: 2012-10-10 00:10:00 - 2012-10-10 00:19:00\n",
      "Size:  58\n",
      "394  394  394  394  394  394  394  394  394  394  487  487  394  394  394  394  394  394  394  394  19  19  394  394  394  394  394  394  394  394  394  394  394  394  394  394  394  75  394  75  394  394  394  394  383  75  394  394  394  394  394  394  394  394  394  394  394  394  \n",
      "\n",
      "Timestamp: 2012-10-10 00:10:00 - 2012-10-10 00:19:00\n",
      "Size:  1\n",
      "-1  \n",
      "\n",
      "Timestamp: 2012-10-10 00:10:00 - 2012-10-10 00:19:00\n",
      "Size:  157\n",
      "-1  -1  -1  -1  -1  -1  -1  -1  -1  -1  -1  -1  -1  -1  -1  -1  -1  -1  -1  -1  -1  -1  -1  -1  -1  -1  -1  -1  -1  -1  -1  -1  -1  -1  -1  -1  -1  -1  -1  -1  -1  -1  -1  -1  -1  -1  -1  -1  -1  -1  -1  -1  -1  -1  386  -1  -1  -1  -1  -1  -1  -1  -1  -1  -1  -1  -1  -1  -1  -1  -1  -1  -1  -1  -1  -1  -1  -1  -1  -1  -1  -1  -1  -1  -1  -1  -1  -1  -1  -1  -1  -1  -1  -1  -1  -1  -1  -1  -1  -1  -1  -1  -1  -1  382  -1  -1  -1  -1  -1  -1  -1  -1  -1  -1  -1  -1  -1  -1  -1  -1  -1  -1  -1  -1  -1  -1  -1  -1  -1  -1  -1  -1  -1  -1  -1  386  -1  -1  -1  -1  -1  -1  -1  -1  -1  -1  -1  -1  -1  -1  -1  -1  -1  -1  -1  -1  \n",
      "\n",
      "Timestamp: 2012-10-10 00:10:00 - 2012-10-10 00:19:00\n",
      "Size:  8\n",
      "394  394  394  394  394  394  394  394  \n",
      "\n",
      "Timestamp: 2012-10-10 00:10:00 - 2012-10-10 00:19:00\n",
      "Size:  34\n",
      "394  394  394  394  394  394  394  394  394  394  394  394  394  394  394  394  394  394  394  394  394  394  394  394  394  394  394  394  394  394  394  394  394  394  \n",
      "\n",
      "Timestamp: 2012-10-10 00:11:00 - 2012-10-10 00:20:00\n",
      "Size:  50\n",
      "501  501  501  501  501  501  501  501  501  501  501  501  501  501  501  501  501  501  501  501  501  501  501  501  501  501  501  501  501  501  501  501  501  501  501  501  501  501  501  501  501  501  501  501  501  501  501  501  501  501  \n",
      "\n",
      "Timestamp: 2012-10-10 00:11:00 - 2012-10-10 00:20:00\n",
      "Size:  18\n",
      "394  394  394  394  394  394  394  394  394  394  394  394  394  394  394  394  394  394  \n",
      "\n",
      "Timestamp: 2012-10-10 00:14:00 - 2012-10-10 00:23:00\n",
      "Size:  171\n",
      "-1  -1  -1  -1  -1  -1  -1  -1  -1  -1  -1  -1  -1  -1  -1  380  -1  -1  -1  -1  -1  -1  -1  -1  -1  -1  -1  -1  -1  -1  -1  -1  -1  -1  -1  -1  -1  -1  -1  -1  -1  -1  -1  -1  -1  -1  -1  -1  -1  -1  -1  -1  -1  -1  -1  -1  -1  -1  -1  -1  -1  -1  -1  -1  -1  -1  -1  -1  -1  -1  -1  -1  -1  -1  -1  -1  -1  -1  -1  -1  -1  -1  -1  -1  -1  -1  -1  -1  -1  -1  -1  -1  -1  -1  -1  -1  -1  -1  -1  -1  -1  -1  -1  -1  -1  -1  -1  -1  -1  -1  -1  -1  -1  -1  -1  -1  -1  -1  -1  -1  -1  -1  -1  -1  -1  -1  -1  -1  -1  -1  -1  -1  -1  -1  -1  -1  -1  -1  -1  -1  -1  -1  382  -1  -1  -1  -1  -1  -1  -1  -1  -1  -1  -1  -1  -1  -1  -1  -1  -1  -1  -1  -1  -1  -1  -1  -1  -1  -1  -1  -1  \n",
      "\n",
      "Timestamp: 2012-10-10 00:15:00 - 2012-10-10 00:24:00\n",
      "Size:  82\n",
      "501  501  501  501  501  501  501  501  501  501  501  501  501  501  501  501  501  501  501  501  501  501  501  501  501  501  501  501  501  501  501  501  501  501  501  501  501  501  501  501  501  501  501  501  501  501  501  501  501  501  501  501  501  501  501  501  501  501  501  501  501  501  501  501  501  501  501  501  501  501  501  501  501  501  501  501  501  501  501  501  501  501  \n",
      "\n",
      "Timestamp: 2012-10-10 00:15:00 - 2012-10-10 00:24:00\n",
      "Size:  64\n",
      "394  394  394  394  394  394  394  394  394  394  394  394  394  394  394  394  394  394  487  487  394  394  394  394  394  394  394  394  394  394  394  394  394  394  394  394  394  394  394  394  394  394  394  394  394  394  394  394  394  394  394  394  394  394  394  394  394  394  394  394  394  394  394  394  \n",
      "\n",
      "Timestamp: 2012-10-10 00:16:00 - 2012-10-10 00:25:00\n",
      "Size:  70\n",
      "19  19  19  19  19  19  19  19  19  19  19  19  19  19  19  19  19  19  19  19  19  19  19  19  19  19  19  19  19  19  19  19  19  19  19  19  19  19  19  19  19  19  19  19  19  19  19  19  19  19  19  19  19  19  19  19  19  19  19  19  19  19  19  19  19  19  19  19  19  19  \n",
      "\n"
     ]
    }
   ],
   "source": [
    "cp.create_clusters_show_time_window(df,2,0.5,0,0,True,'kmeans',list_date_minutes)"
   ]
  }
 ],
 "metadata": {
  "kernelspec": {
   "display_name": "Python 3",
   "language": "python",
   "name": "python3"
  },
  "language_info": {
   "codemirror_mode": {
    "name": "ipython",
    "version": 3
   },
   "file_extension": ".py",
   "mimetype": "text/x-python",
   "name": "python",
   "nbconvert_exporter": "python",
   "pygments_lexer": "ipython3",
   "version": "3.7.1"
  }
 },
 "nbformat": 4,
 "nbformat_minor": 2
}
