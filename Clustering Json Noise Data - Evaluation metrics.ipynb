{
 "cells": [
  {
   "cell_type": "code",
   "execution_count": 109,
   "metadata": {},
   "outputs": [
    {
     "name": "stdout",
     "output_type": "stream",
     "text": [
      "time: 4.99 ms\n"
     ]
    }
   ],
   "source": [
    "# Import libraries\n",
    "import pandas as pd\n",
    "import numpy as np\n",
    "import matplotlib.pyplot as plt\n",
    "import nltk \n",
    "import string\n",
    "import re\n",
    "import codecs\n",
    "import json\n",
    "#%matplotlib inline\n",
    "#pd.set_option('display.max_colwidth', 100)\n",
    "\n",
    "import hdbscan\n",
    "import nltk\n",
    "import numpy as np\n",
    "import pandas as pd\n",
    "import random\n",
    "import re\n",
    "import spacy\n",
    "import textacy\n",
    "import csv\n",
    "import sklearn\n",
    "\n",
    "from gmplot import gmplot\n",
    "from mapsplotlib import mapsplot as mplt\n",
    "from nltk.corpus import twitter_samples\n",
    "from nltk.tag import pos_tag_sents\n",
    "from pymprog import *\n",
    "from sklearn.cluster import DBSCAN\n",
    "from sklearn.neighbors import DistanceMetric\n",
    "from sklearn.feature_extraction.text import CountVectorizer\n",
    "\n",
    "import pandas as pd\n",
    "\n",
    "import datetime\n",
    "from time import strptime\n",
    "\n",
    "from nltk.stem.snowball import SnowballStemmer\n",
    "from nltk.corpus import stopwords\n",
    "from bs4 import BeautifulSoup\n",
    "import re\n",
    "from sklearn.cluster import KMeans\n",
    "\n",
    "\n",
    "import warnings\n",
    "warnings.filterwarnings('ignore')"
   ]
  },
  {
   "cell_type": "code",
   "execution_count": 2,
   "metadata": {},
   "outputs": [],
   "source": [
    "# fname = \"relevant_json.json\"\n",
    "# list_tweets = []\n",
    "# count = 0 \n",
    "# sum = 1000\n",
    "# with open(fname,encoding=\"utf8\") as f:\n",
    "#     for line in f:\n",
    "#         try:\n",
    "#             tweet = json.loads(line)\n",
    "#         except:\n",
    "#             pass\n",
    "#         list_tweets.append(tweet)\n",
    "\n",
    "# df_relevant = pd.DataFrame(data=[tweet[\"full_text\"] for tweet in list_tweets], columns=['tweets'])\n",
    "# df_relevant['created_at'] = np.array([tweet[\"created_at\"] for tweet in list_tweets])\n",
    "# df_relevant['id'] = np.array([int(tweet[\"id_str\"]) for tweet in list_tweets])\n",
    "# df_relevant['rt'] = np.array([tweet[\"retweeted\"] for tweet in list_tweets])\n",
    "# df_relevant['lang'] = np.array([tweet[\"lang\"] for tweet in list_tweets])\n",
    "# df_relevant['Predicted_Event'] = -1\n",
    "\n",
    "# fname = \"relevant_tweets.tsv\"\n",
    "# event_id = pd.read_csv(fname, sep='\\t',header=None,names=['Event','id'])\n",
    "\n",
    "# df_relevant = df_relevant.merge(event_id, left_on='id', right_on='id')\n",
    "# df_relevant.head(1)"
   ]
  },
  {
   "cell_type": "code",
   "execution_count": 3,
   "metadata": {
    "scrolled": true
   },
   "outputs": [
    {
     "name": "stdout",
     "output_type": "stream",
     "text": [
      "106017\n"
     ]
    },
    {
     "data": {
      "text/html": [
       "<div>\n",
       "<style scoped>\n",
       "    .dataframe tbody tr th:only-of-type {\n",
       "        vertical-align: middle;\n",
       "    }\n",
       "\n",
       "    .dataframe tbody tr th {\n",
       "        vertical-align: top;\n",
       "    }\n",
       "\n",
       "    .dataframe thead th {\n",
       "        text-align: right;\n",
       "    }\n",
       "</style>\n",
       "<table border=\"1\" class=\"dataframe\">\n",
       "  <thead>\n",
       "    <tr style=\"text-align: right;\">\n",
       "      <th></th>\n",
       "      <th>tweets</th>\n",
       "      <th>created_at</th>\n",
       "      <th>id</th>\n",
       "      <th>rt</th>\n",
       "      <th>lang</th>\n",
       "      <th>location</th>\n",
       "      <th>coordinates</th>\n",
       "      <th>Event</th>\n",
       "    </tr>\n",
       "  </thead>\n",
       "  <tbody>\n",
       "    <tr>\n",
       "      <th>0</th>\n",
       "      <td>News: Chinese author Mo Yan wins Nobel http://...</td>\n",
       "      <td>Thu Oct 11 11:08:32 +0000 2012</td>\n",
       "      <td>256350567369175040</td>\n",
       "      <td>False</td>\n",
       "      <td>en</td>\n",
       "      <td>Eindhoven</td>\n",
       "      <td>{\"lat\": 51.47601928708412, \"lon\": 5.4647688255...</td>\n",
       "      <td>0</td>\n",
       "    </tr>\n",
       "  </tbody>\n",
       "</table>\n",
       "</div>"
      ],
      "text/plain": [
       "                                              tweets  \\\n",
       "0  News: Chinese author Mo Yan wins Nobel http://...   \n",
       "\n",
       "                       created_at                  id     rt lang   location  \\\n",
       "0  Thu Oct 11 11:08:32 +0000 2012  256350567369175040  False   en  Eindhoven   \n",
       "\n",
       "                                         coordinates  Event  \n",
       "0  {\"lat\": 51.47601928708412, \"lon\": 5.4647688255...      0  "
      ]
     },
     "execution_count": 3,
     "metadata": {},
     "output_type": "execute_result"
    }
   ],
   "source": [
    "colnames=['tweets', 'created_at', 'id','rt','lang','location','coordinates','Event'] \n",
    "df_relevant = pd.read_csv('relevant_with_coordinates.csv', names=colnames, header=None)\n",
    "print(df_relevant.shape[0])\n",
    "df_relevant.head(1)"
   ]
  },
  {
   "cell_type": "code",
   "execution_count": 4,
   "metadata": {},
   "outputs": [],
   "source": [
    "# json.loads(df_relevant[\"coordinates\"][0])['lat']"
   ]
  },
  {
   "cell_type": "code",
   "execution_count": 5,
   "metadata": {
    "scrolled": true
   },
   "outputs": [
    {
     "name": "stdout",
     "output_type": "stream",
     "text": [
      "413986\n"
     ]
    },
    {
     "data": {
      "text/html": [
       "<div>\n",
       "<style scoped>\n",
       "    .dataframe tbody tr th:only-of-type {\n",
       "        vertical-align: middle;\n",
       "    }\n",
       "\n",
       "    .dataframe tbody tr th {\n",
       "        vertical-align: top;\n",
       "    }\n",
       "\n",
       "    .dataframe thead th {\n",
       "        text-align: right;\n",
       "    }\n",
       "</style>\n",
       "<table border=\"1\" class=\"dataframe\">\n",
       "  <thead>\n",
       "    <tr style=\"text-align: right;\">\n",
       "      <th></th>\n",
       "      <th>tweets</th>\n",
       "      <th>created_at</th>\n",
       "      <th>id</th>\n",
       "      <th>rt</th>\n",
       "      <th>lang</th>\n",
       "      <th>location</th>\n",
       "      <th>coordinates</th>\n",
       "      <th>Event</th>\n",
       "    </tr>\n",
       "  </thead>\n",
       "  <tbody>\n",
       "    <tr>\n",
       "      <th>0</th>\n",
       "      <td>I love ms.sivney class (Sports &amp;amp; Entertaim...</td>\n",
       "      <td>Wed Oct 31 16:48:39 +0000 2012</td>\n",
       "      <td>263683917889040400</td>\n",
       "      <td>False</td>\n",
       "      <td>en</td>\n",
       "      <td>Macedonia</td>\n",
       "      <td>{'lat': 41.82038761113906, 'lon': 22.008566323...</td>\n",
       "      <td>-1</td>\n",
       "    </tr>\n",
       "  </tbody>\n",
       "</table>\n",
       "</div>"
      ],
      "text/plain": [
       "                                              tweets  \\\n",
       "0  I love ms.sivney class (Sports &amp; Entertaim...   \n",
       "\n",
       "                       created_at                  id     rt lang   location  \\\n",
       "0  Wed Oct 31 16:48:39 +0000 2012  263683917889040400  False   en  Macedonia   \n",
       "\n",
       "                                         coordinates  Event  \n",
       "0  {'lat': 41.82038761113906, 'lon': 22.008566323...     -1  "
      ]
     },
     "execution_count": 5,
     "metadata": {},
     "output_type": "execute_result"
    }
   ],
   "source": [
    "colnames=['tweets', 'created_at', 'id','rt','lang','location','coordinates'] \n",
    "df_irrelevant = pd.read_csv('irrelevant_with_coordinates.csv', names=colnames, header=None)\n",
    "df_irrelevant['Event'] = -1\n",
    "print(df_irrelevant.shape[0])\n",
    "df_irrelevant.head(1)"
   ]
  },
  {
   "cell_type": "code",
   "execution_count": 6,
   "metadata": {},
   "outputs": [],
   "source": [
    "frames = [df_relevant,df_irrelevant]\n",
    "df = pd.concat(frames)"
   ]
  },
  {
   "cell_type": "markdown",
   "metadata": {},
   "source": [
    "## Remove tweets that are not in English"
   ]
  },
  {
   "cell_type": "code",
   "execution_count": 7,
   "metadata": {},
   "outputs": [
    {
     "name": "stdout",
     "output_type": "stream",
     "text": [
      "Index(['en', 'und', 'in', 'tl', 'es', 'ht', 'fr', 'et', 'pt', 'de', 'nl', 'ca',\n",
      "       'ro', 'da', 'it', 'pl', 'cy', 'cs', 'sv', 'ja', 'no', 'tr', 'fi', 'hi',\n",
      "       'lt', 'zh', 'hu', 'lv', 'ko', 'eu', 'sl', 'vi', 'is', 'ar', 'th', 'ru',\n",
      "       'hy', 'my'],\n",
      "      dtype='object')\n"
     ]
    },
    {
     "data": {
      "image/png": "[encoded data removed]",
      "text/plain": [
       "<Figure size 432x288 with 1 Axes>"
      ]
     },
     "metadata": {
      "needs_background": "light"
     },
     "output_type": "display_data"
    }
   ],
   "source": [
    "import matplotlib.pyplot as plt\n",
    "# plots number of tweets in each language\n",
    "counts = df['lang'].value_counts()\n",
    "plt.bar(counts.index, counts, align='center', alpha=1)\n",
    "plt.xlabel('Tweet Language')\n",
    "plt.ylabel('# of Tweets')\n",
    "plt.title('Tweets 2012')\n",
    "print(counts.index)"
   ]
  },
  {
   "cell_type": "code",
   "execution_count": 8,
   "metadata": {
    "scrolled": true
   },
   "outputs": [
    {
     "name": "stdout",
     "output_type": "stream",
     "text": [
      "Old df shape: 520003\n",
      "New df shape: 507519\n"
     ]
    }
   ],
   "source": [
    "print(\"Old df shape:\",df.shape[0])\n",
    "df = df.loc[df[\"lang\"]=='en']\n",
    "print(\"New df shape:\",df.shape[0])"
   ]
  },
  {
   "cell_type": "code",
   "execution_count": 9,
   "metadata": {},
   "outputs": [
    {
     "name": "stdout",
     "output_type": "stream",
     "text": [
      "4033\n"
     ]
    }
   ],
   "source": [
    "df = df.reset_index(drop=True)\n",
    "\n",
    "def create_date(text):\n",
    "    temp = text.split(\" \")\n",
    "    x = str(datetime.datetime(int(temp[5]),int(strptime(temp[1],'%b').tm_mon),int(temp[2]))).split()[0]\n",
    "    return x\n",
    "\n",
    "df['date'] = df['created_at'].apply(lambda x: create_date(x))\n",
    "df['time'] =  np.array([tweet.split()[3] for tweet in df[\"created_at\"]])\n",
    "df['Datetime']= pd.to_datetime(df['date'].apply(str)+' '+df['time'].apply(lambda x: x.split(':')[0]) + df['time'].apply(lambda x: x.split(':')[1]))\n",
    "df['DateHour'] = pd.to_datetime(df['date'].apply(str)+' '+df['time'].apply(lambda x: x.split(':')[0])+':00')\n",
    "df['Date_Ten_Minutes'] = pd.to_datetime(df['date'].apply(str)+' '+df['time'].apply(lambda x: x.split(':')[0])+':'+df[\"time\"].apply(lambda x: x.split(\":\")[1][0]+'0'))\n",
    "\n",
    "tableFlag=[]\n",
    "data_sorted = df.sort_values(by=['date'],inplace=False)\n",
    "data_sorted = data_sorted.reset_index(drop=True)\n",
    "\n",
    "list_date_ten = []\n",
    "for temp in data_sorted[\"Date_Ten_Minutes\"]:\n",
    "    list_date_ten.append(temp)\n",
    "\n",
    "list_date_ten = list(dict.fromkeys(list_date_ten))\n",
    "list_date_ten = sorted(list_date_ten)\n",
    "print(len(list_date_ten))"
   ]
  },
  {
   "cell_type": "code",
   "execution_count": 10,
   "metadata": {},
   "outputs": [
    {
     "data": {
      "text/plain": [
       "<matplotlib.axes._subplots.AxesSubplot at 0x1ae475249e8>"
      ]
     },
     "execution_count": 10,
     "metadata": {},
     "output_type": "execute_result"
    },
    {
     "data": {
      "image/png": "[encoded data removed]",
      "text/plain": [
       "<Figure size 432x288 with 1 Axes>"
      ]
     },
     "metadata": {
      "needs_background": "light"
     },
     "output_type": "display_data"
    }
   ],
   "source": [
    "df_relevant['date'] = df_relevant['created_at'].apply(lambda x: create_date(x))\n",
    "df_relevant['time'] =  np.array([tweet.split()[3] for tweet in df_relevant[\"created_at\"]])\n",
    "df_relevant['DateHour'] = pd.to_datetime(df_relevant['date'].apply(str)+' '+df_relevant['time'].apply(lambda x: x.split(':')[0])+':00')\n",
    "df_relevant['Date_Ten_Minutes'] = pd.to_datetime(df_relevant['date'].apply(str)+' '+df_relevant['time'].apply(lambda x: x.split(':')[0])+':'+df_relevant[\"time\"].apply(lambda x: x.split(\":\")[1][0]+'0'))\n",
    "df_relevant['Datetime']= pd.to_datetime(df_relevant['date'].apply(str)+' '+df_relevant['time'].apply(lambda x: x.split(':')[0]) + df_relevant['time'].apply(lambda x: x.split(':')[1]))\n",
    "\n",
    "\n",
    "df_irrelevant['date'] = df_irrelevant['created_at'].apply(lambda x: create_date(x))\n",
    "df_irrelevant['time'] =  np.array([tweet.split()[3] for tweet in df_irrelevant[\"created_at\"]])\n",
    "df_irrelevant['DateHour'] = pd.to_datetime(df_irrelevant['date'].apply(str)+' '+df_irrelevant['time'].apply(lambda x: x.split(':')[0])+':00')\n",
    "df_irrelevant['Date_Ten_Minutes'] = pd.to_datetime(df_irrelevant['date'].apply(str)+' '+df_irrelevant['time'].apply(lambda x: x.split(':')[0])+':'+df_irrelevant[\"time\"].apply(lambda x: x.split(\":\")[1][0]+'0'))\n",
    "df_irrelevant['Datetime']= pd.to_datetime(df_irrelevant['date'].apply(str)+' '+df_irrelevant['time'].apply(lambda x: x.split(':')[0]) + df_irrelevant['time'].apply(lambda x: x.split(':')[1]))\n",
    "\n",
    "\n",
    "# graphing the threshold vs hourly tweet occurences\n",
    "dfchange = df_irrelevant.loc[df_irrelevant['date'] != -1]\n",
    "ts = dfchange.set_index('Date_Ten_Minutes')\n",
    "vc = ts.groupby('Date_Ten_Minutes').count()\n",
    "col = ['id']\n",
    "vc2 = vc[col]\n",
    "vc3 = vc2.copy()\n",
    "\n",
    "\n",
    "dfchange1 = df_relevant.loc[df_relevant[\"date\"]!=-1]\n",
    "rs = dfchange1.set_index('Date_Ten_Minutes')\n",
    "rc = rs.groupby('Date_Ten_Minutes').count()\n",
    "col = ['id']\n",
    "rc2 = rc[col]\n",
    "rc3 = rc2.copy()\n",
    "\n",
    "vc3.rename(columns={'id':'Irrelevant Tweets'},inplace=True)\n",
    "\n",
    "rc3.rename(columns={'id':'Relevant Tweets'},inplace=True)\n",
    "\n",
    "ax = vc3.plot()\n",
    "rc3.plot(ax = ax)"
   ]
  },
  {
   "cell_type": "code",
   "execution_count": 11,
   "metadata": {},
   "outputs": [
    {
     "name": "stdout",
     "output_type": "stream",
     "text": [
      "39951\n"
     ]
    }
   ],
   "source": [
    "tableFlag=[]\n",
    "data_sorted = df.sort_values(by=['date'],inplace=False)\n",
    "data_sorted = data_sorted.reset_index(drop=True)\n",
    "\n",
    "list_date_minutes = []\n",
    "for temp in data_sorted[\"Datetime\"]:\n",
    "    list_date_minutes.append(temp)\n",
    "\n",
    "list_date_minutes = list(dict.fromkeys(list_date_minutes))\n",
    "list_date_minutes = sorted(list_date_minutes)\n",
    "print(len(list_date_minutes))"
   ]
  },
  {
   "cell_type": "code",
   "execution_count": 12,
   "metadata": {},
   "outputs": [
    {
     "data": {
      "text/plain": [
       "<matplotlib.axes._subplots.AxesSubplot at 0x1ae42054e48>"
      ]
     },
     "execution_count": 12,
     "metadata": {},
     "output_type": "execute_result"
    },
    {
     "data": {
      "image/png": "[encoded data removed]",
      "text/plain": [
       "<Figure size 432x288 with 1 Axes>"
      ]
     },
     "metadata": {
      "needs_background": "light"
     },
     "output_type": "display_data"
    }
   ],
   "source": [
    "# gca stands for 'get current axis'\n",
    "# graphing the threshold vs hourly tweet occurences\n",
    "dfchange = df_irrelevant.loc[df_irrelevant['date'] != -1]\n",
    "ts = dfchange.set_index('Datetime')\n",
    "vc = ts.groupby('Datetime').count()\n",
    "col = ['id']\n",
    "vc2 = vc[col]\n",
    "vc3 = vc2.copy()\n",
    "\n",
    "\n",
    "dfchange1 = df_relevant.loc[df_relevant[\"date\"]!=-1]\n",
    "rs = dfchange1.set_index('Datetime')\n",
    "rc = rs.groupby('Datetime').count()\n",
    "col1 = ['id']\n",
    "rc2 = rc[col1]\n",
    "rc3 = rc2.copy()\n",
    "\n",
    "vc3.rename(columns={'id':'Noise Tweets'},inplace=True)\n",
    "rc3.rename(columns={'id':'Relevant Tweets'},inplace=True)\n",
    "\n",
    "ax = vc3.plot()\n",
    "rc3.plot(ax = ax)"
   ]
  },
  {
   "cell_type": "code",
   "execution_count": 13,
   "metadata": {},
   "outputs": [
    {
     "name": "stdout",
     "output_type": "stream",
     "text": [
      "673\n"
     ]
    }
   ],
   "source": [
    "list_date_hour = []\n",
    "for temp in data_sorted[\"DateHour\"]:\n",
    "    list_date_hour.append(temp)\n",
    "\n",
    "list_date_hour = list(dict.fromkeys(list_date_hour))\n",
    "list_date_hour = sorted(list_date_hour)\n",
    "print(len(list_date_hour))"
   ]
  },
  {
   "cell_type": "markdown",
   "metadata": {},
   "source": [
    "# Flagging all potential eventful tweets"
   ]
  },
  {
   "cell_type": "code",
   "execution_count": 14,
   "metadata": {
    "scrolled": false
   },
   "outputs": [
    {
     "data": {
      "text/plain": [
       "<matplotlib.axes._subplots.AxesSubplot at 0x1ae4f94f240>"
      ]
     },
     "execution_count": 14,
     "metadata": {},
     "output_type": "execute_result"
    },
    {
     "data": {
      "image/png": "[encoded data removed]",
      "text/plain": [
       "<Figure size 432x288 with 1 Axes>"
      ]
     },
     "metadata": {
      "needs_background": "light"
     },
     "output_type": "display_data"
    }
   ],
   "source": [
    "# gca stands for 'get current axis'\n",
    "# graphing the threshold vs hourly tweet occurences\n",
    "dfchange = df_irrelevant.loc[df_irrelevant['date'] != -1]\n",
    "ts = dfchange.set_index('DateHour')\n",
    "vc = ts.groupby('DateHour').count()\n",
    "col = ['id']\n",
    "vc2 = vc[col]\n",
    "vc3 = vc2.copy()\n",
    "\n",
    "\n",
    "dfchange1 = df_relevant.loc[df_relevant[\"date\"]!=-1]\n",
    "rs = dfchange1.set_index('DateHour')\n",
    "rc = rs.groupby('DateHour').count()\n",
    "col1 = ['id']\n",
    "rc2 = rc[col1]\n",
    "rc3 = rc2.copy()\n",
    "\n",
    "vc3.rename(columns={'id':'Noise Tweets'},inplace=True)\n",
    "rc3.rename(columns={'id':'Relevant Tweets'},inplace=True)\n",
    "\n",
    "ax = vc3.plot()\n",
    "rc3.plot(ax = ax)"
   ]
  },
  {
   "cell_type": "code",
   "execution_count": 15,
   "metadata": {},
   "outputs": [
    {
     "data": {
      "text/plain": [
       "106017"
      ]
     },
     "execution_count": 15,
     "metadata": {},
     "output_type": "execute_result"
    }
   ],
   "source": [
    "df_relevant.shape[0]"
   ]
  },
  {
   "cell_type": "code",
   "execution_count": 16,
   "metadata": {
    "scrolled": true
   },
   "outputs": [
    {
     "data": {
      "text/plain": [
       "413986"
      ]
     },
     "execution_count": 16,
     "metadata": {},
     "output_type": "execute_result"
    }
   ],
   "source": [
    "df_irrelevant.shape[0]"
   ]
  },
  {
   "cell_type": "markdown",
   "metadata": {},
   "source": [
    "<h3> Remove hashtags,mentions,retweets from the tweet and import them to a new column </h3>"
   ]
  },
  {
   "cell_type": "code",
   "execution_count": 17,
   "metadata": {},
   "outputs": [],
   "source": [
    "def remove_patterns(input_txt,mentions,hashtags,RT):\n",
    "    m = re.findall(mentions, input_txt)\n",
    "    h = re.findall(hashtags,input_txt)\n",
    "    r = re.findall(RT,input_txt)\n",
    "    u = re.findall(r\"http\\S+\",input_txt)\n",
    "    mention_list = []\n",
    "    hashtag_list = []\n",
    "    url_list = []\n",
    "    rt1 = 0\n",
    "    \n",
    "    \n",
    "    for i in u:\n",
    "        url_list.append(i)\n",
    "        #input_txt = re.sub(i,'',input_txt)\n",
    "    input_txt = re.sub(r\"http\\S+\",'',input_txt)\n",
    "    for i in m:\n",
    "        mention_list.append(i)\n",
    "        input_txt = re.sub(i, '', input_txt)\n",
    "    for i in h:\n",
    "        hashtag_list.append(i)\n",
    "        input_txt = re.sub(i,'',input_txt)\n",
    "    if r!=0 :\n",
    "        rt1 = 1\n",
    "    for i in r:\n",
    "        input_txt = re.sub(i,'',input_txt)\n",
    "    #Some json\n",
    "    x = {\"input_text\" : input_txt,\"user_mentions\":mention_list,\"hashtags\":hashtag_list,\"is_RT\":rt1,\"is_URL\":url_list}\n",
    "    #y = json.dumps(x)\n",
    "    return x\n",
    "\n",
    "def list_lower(temp):\n",
    "    list_lower =[]\n",
    "    for text in temp:\n",
    "        list_lower.append(text.lower())\n",
    "    return list_lower\n",
    "\n",
    "temp = np.vectorize(remove_patterns)(df['tweets'],\"@[\\w]*\",\"#[\\w]*\",\"RT\")\n",
    "\n",
    "#print(df[\"Orig_Tweet\"][12])\n",
    "df[\"text\"] = np.array([text[\"input_text\"] for text in temp])\n",
    "#df2[\"hashtag\"] = np.array([text[\"hashtags\"] for text in temp])\n",
    "df[\"hashtag\"] = np.array([list_lower(text[\"hashtags\"]) for text in temp])\n",
    "df[\"user_mentions\"] = np.array([text[\"user_mentions\"] for text in temp]) \n",
    "df[\"RT\"] = np.array([text[\"is_RT\"] for text in temp])\n",
    "df[\"URL\"] = np.array([text[\"is_URL\"] for text in temp])"
   ]
  },
  {
   "cell_type": "markdown",
   "metadata": {},
   "source": [
    "<h3> Remove punctuation and Tokenization</h3>"
   ]
  },
  {
   "cell_type": "code",
   "execution_count": 18,
   "metadata": {},
   "outputs": [],
   "source": [
    "def remove_punct(text):\n",
    "    temp = string.punctuation+\"…\"\n",
    "    text  = \"\".join([char for char in text if char not in string.punctuation])\n",
    "    text = re.sub('[0-9]+', '', text)\n",
    "    return text\n",
    "\n",
    "def tokenization(text):\n",
    "    text = re.split('\\W+', text)\n",
    "    #text = nltk.word_tokenize(text)\n",
    "    temp=[]\n",
    "    for i in text:\n",
    "        if i!='':\n",
    "            temp.append(i)\n",
    "    return temp\n",
    "\n",
    "df['Tweet_punct'] = df['text'].apply(lambda x: remove_punct(x))\n",
    "df['Tweet_tokenized'] = df['Tweet_punct'].apply(lambda x: tokenization(x.lower()))\n",
    "# df.head()"
   ]
  },
  {
   "cell_type": "markdown",
   "metadata": {},
   "source": [
    "<h3>Remove stopwords</h3>"
   ]
  },
  {
   "cell_type": "code",
   "execution_count": 19,
   "metadata": {},
   "outputs": [],
   "source": [
    "stopword = nltk.corpus.stopwords.words('english')\n",
    "\n",
    "def remove_stopwords(text):\n",
    "    text = [word for word in text if word not in stopword]\n",
    "    return text\n",
    "\n",
    "df['Tweet_nonstop'] = df['Tweet_tokenized'].apply(lambda x: remove_stopwords(x))"
   ]
  },
  {
   "cell_type": "markdown",
   "metadata": {},
   "source": [
    "<h3> Stemming </h3"
   ]
  },
  {
   "cell_type": "code",
   "execution_count": 20,
   "metadata": {},
   "outputs": [],
   "source": [
    "# Stemming is the process of breaking a word down into its root.\n",
    "stemmer = SnowballStemmer('english')\n",
    "stops = set(stopwords.words(\"english\"))\n",
    "\n",
    "def stemming_to_sent(words):\n",
    "    stemmed_words = [stemmer.stem(w) for w in words]\n",
    "    return(\" \".join(stemmed_words))\n",
    "def stemming_to_words(words):\n",
    "    stemmed_words = [stemmer.stem(w) for w in words]\n",
    "    return stemmed_words\n",
    "\n",
    "df[\"Stem_sent\"] = np.array([stemming_to_sent(temp) for temp in df[\"Tweet_nonstop\"]])\n",
    "df[\"Stem_words\"] = np.array([stemming_to_words(temp) for temp in df[\"Tweet_nonstop\"]])\n",
    "df[\"No\"] = np.array([i for i in range(0,df.shape[0])])"
   ]
  },
  {
   "cell_type": "code",
   "execution_count": 21,
   "metadata": {},
   "outputs": [],
   "source": [
    "# [print(json.loads(row)['lat']) for row in df[\"coordinates\"]]"
   ]
  },
  {
   "cell_type": "markdown",
   "metadata": {},
   "source": [
    "# Reverse Geocoding"
   ]
  },
  {
   "cell_type": "code",
   "execution_count": 22,
   "metadata": {},
   "outputs": [
    {
     "name": "stderr",
     "output_type": "stream",
     "text": [
      "C:\\Users\\giann\\Anaconda3\\lib\\site-packages\\ipykernel_launcher.py:10: TqdmDeprecationWarning:\n",
      "\n",
      "This function will be removed in tqdm==5.0.0\n",
      "Please use `tqdm.notebook.*` instead of `tqdm._tqdm_notebook.*`\n",
      "\n"
     ]
    }
   ],
   "source": [
    "%load_ext autotime\n",
    "import pandas as pd\n",
    "import geopandas as gpd\n",
    "import geopy\n",
    "from geopy.geocoders import Nominatim\n",
    "from geopy.extra.rate_limiter import RateLimiter\n",
    "import matplotlib.pyplot as plt\n",
    "import plotly_express as px\n",
    "import tqdm\n",
    "from tqdm._tqdm_notebook import tqdm_notebook"
   ]
  },
  {
   "cell_type": "code",
   "execution_count": 23,
   "metadata": {},
   "outputs": [
    {
     "name": "stdout",
     "output_type": "stream",
     "text": [
      "time: 49.2 s\n"
     ]
    }
   ],
   "source": [
    "def new_clean_data(i,df_temp):\n",
    "#     import pdb; pdb.set_trace()\n",
    "    sent = \"\"\n",
    "    for temp in df_temp[\"Stem_words\"].get(i):\n",
    "        sent+= temp + \" \"\n",
    "    for temp in df_temp[\"hashtag\"].get(i):\n",
    "        sent+= temp + \" \"\n",
    "    for temp in df_temp[\"user_mentions\"].get(i):\n",
    "        sent+= temp+ \" \"\n",
    "    for temp in df_temp[\"URL\"].get(i):\n",
    "        sent+= temp + \" \"\n",
    "    return sent\n",
    "\n",
    "df[\"clean_data\"] = np.array([new_clean_data(i,df) for i in range(df.shape[0])])"
   ]
  },
  {
   "cell_type": "code",
   "execution_count": 24,
   "metadata": {},
   "outputs": [
    {
     "name": "stdout",
     "output_type": "stream",
     "text": [
      "time: 12.5 s\n"
     ]
    }
   ],
   "source": [
    "tweetsContentLocation = df.copy()[\"clean_data\"]\n",
    "tweetsContentLocation.shape[0]\n",
    "\n",
    "result = [df['coordinates'][tweetsContentLocation.index[i]] for i in range(tweetsContentLocation.shape[0])]\n",
    "list_location = []\n",
    "for i in range(len(result)):\n",
    "    row = result[i].replace(\"\\'\", \"\\\"\")\n",
    "    row = json.loads(row)\n",
    "    lat = row['lat']\n",
    "    lon = row['lon']\n",
    "    coordinates = (lat,lon)\n",
    "    list_location.append(coordinates)"
   ]
  },
  {
   "cell_type": "code",
   "execution_count": 25,
   "metadata": {},
   "outputs": [
    {
     "name": "stdout",
     "output_type": "stream",
     "text": [
      "Loading formatted geocoded file...\n",
      "100000\n",
      "200000\n",
      "300000\n",
      "400000\n",
      "500000\n",
      "time: 49.7 s\n"
     ]
    }
   ],
   "source": [
    "import reverse_geocoder as rg\n",
    "results = rg.search(list_location)\n",
    "count = 100000\n",
    "for i in range(len(results)):\n",
    "                if (i==count):\n",
    "                    print(i)\n",
    "                    count+=100000\n",
    "                place = tweetsContentLocation.index[i]\n",
    "                if results[i]['name']:\n",
    "                    tweetsContentLocation[place] += results[i]['name'] + ' '\n",
    "                if results[i]['admin1']:\n",
    "                    tweetsContentLocation[place] += results[i]['admin1'] + ' '\n",
    "                if results[i]['admin2']:\n",
    "                    tweetsContentLocation[place] += results[i]['admin2'] + ' '\n",
    "                if results[i]['cc']:\n",
    "                    tweetsContentLocation[place] += results[i]['cc'] + ' '\n",
    "# df[\"clean_data\"] = tweetsContent"
   ]
  },
  {
   "cell_type": "code",
   "execution_count": 26,
   "metadata": {},
   "outputs": [
    {
     "name": "stdout",
     "output_type": "stream",
     "text": [
      "time: 16 ms\n"
     ]
    }
   ],
   "source": [
    "df[\"clean_data_coordinates\"] = tweetsContentLocation"
   ]
  },
  {
   "cell_type": "markdown",
   "metadata": {},
   "source": [
    "# TFIDF Vectorization"
   ]
  },
  {
   "cell_type": "code",
   "execution_count": 27,
   "metadata": {},
   "outputs": [
    {
     "name": "stdout",
     "output_type": "stream",
     "text": [
      "time: 5.99 ms\n"
     ]
    }
   ],
   "source": [
    "from sklearn.feature_extraction.text import TfidfVectorizer\n",
    "def getTfIdf(clean_train,windows_corpus,ngram1,ngram2,mindf,maxdf):\n",
    "    if (mindf==0):\n",
    "        minimum = 1\n",
    "    else:\n",
    "#         minimum = max(int(windows_corpus * 0.0025), 10)\n",
    "        minimum = 5\n",
    "    if (maxdf==0):\n",
    "        maximum = 1.0\n",
    "    else:\n",
    "        maximum = 0.8  \n",
    "        \n",
    "    tfidf_vectorizer = TfidfVectorizer(\n",
    "                                       min_df=minimum,\n",
    "                                       max_df=maximum,\n",
    "                                       max_features=2000000,\n",
    "                                       stop_words='english',\n",
    "                                       use_idf=True,\n",
    "                                       ngram_range=(ngram1,ngram2)\n",
    "    )\n",
    "    # Tf-idf-weighted term-document sparse matrix\n",
    "    try :\n",
    "        tfidf_train_data_features = tfidf_vectorizer.fit_transform(clean_train)\n",
    "    except:\n",
    "#         print(\"Hello\")\n",
    "        tfidf_vectorizer = TfidfVectorizer(max_features=2000000,stop_words='english',use_idf=True,ngram_range=(1,3))\n",
    "        tfidf_train_data_features = tfidf_vectorizer.fit_transform(clean_train)\n",
    "        minimum = 1\n",
    "        maximum = 1.0\n",
    "    finally:\n",
    "        list_sum = []\n",
    "        for i in range(0,tfidf_train_data_features.shape[0]):\n",
    "            list_sum.append(tfidf_train_data_features[i].count_nonzero())\n",
    "                \n",
    "        return {'tfidf_train_data_features':tfidf_train_data_features,'minimum':minimum,'maximum':maximum,'sum':list_sum}"
   ]
  },
  {
   "cell_type": "code",
   "execution_count": 28,
   "metadata": {},
   "outputs": [
    {
     "name": "stdout",
     "output_type": "stream",
     "text": [
      "time: 15 ms\n"
     ]
    }
   ],
   "source": [
    "# function to get unique values \n",
    "def getNumClusters(list1): \n",
    "  \n",
    "    # intilize a null list \n",
    "    unique_list = [] \n",
    "      \n",
    "    # traverse for all elements \n",
    "    for x in list1: \n",
    "        # check if exists in unique_list or not \n",
    "        if x not in unique_list: \n",
    "            unique_list.append(x) \n",
    "    return len(unique_list)\n",
    "\n",
    "# take second element for sort\n",
    "def takeSecond(elem):\n",
    "    return elem[1]"
   ]
  },
  {
   "cell_type": "markdown",
   "metadata": {},
   "source": [
    "# Affinity Propagation Clustering"
   ]
  },
  {
   "cell_type": "code",
   "execution_count": 29,
   "metadata": {},
   "outputs": [
    {
     "name": "stdout",
     "output_type": "stream",
     "text": [
      "time: 18 ms\n"
     ]
    }
   ],
   "source": [
    "from sklearn.cluster import AffinityPropagation\n",
    "def getAffinity(tweets,tfidf):\n",
    "    clustering = AffinityPropagation().fit(tfidf.toarray())\n",
    "    \n",
    "    clusters = clustering.labels_.tolist()\n",
    "    temp = clusters.copy()\n",
    "    temp.remove\n",
    "    \n",
    "    addedCluster = tweets.copy()\n",
    "    addedCluster['Cluster'] = clusters\n",
    "    num_clusters = getNumClusters(clusters)\n",
    "\n",
    "    pd.options.display.max_colwidth = 100\n",
    "\n",
    "    cls = []\n",
    "    #num_clusters = 55\n",
    "    max_num_cluster = 0\n",
    "\n",
    "    for i in range(0, num_clusters):\n",
    "        tweetsInCluster = addedCluster[addedCluster['Cluster'] == i]\n",
    "        if(tweetsInCluster.shape[0] > 0):\n",
    "            cls.append((tweetsInCluster,tweetsInCluster.shape[0]))\n",
    "            \n",
    "#     cls.sort(key=takeSecond,reverse=True)\n",
    "    clusters = []\n",
    "    for i in range(len(cls)):\n",
    "        clusters.append(cls[i][0])\n",
    "    \n",
    "    return {\"clusters\":clusters,\"labels_pr\":clustering.labels_.tolist()}\n",
    "    "
   ]
  },
  {
   "cell_type": "markdown",
   "metadata": {},
   "source": [
    "# KMeans Clustering"
   ]
  },
  {
   "cell_type": "code",
   "execution_count": 30,
   "metadata": {},
   "outputs": [
    {
     "name": "stdout",
     "output_type": "stream",
     "text": [
      "time: 17 ms\n"
     ]
    }
   ],
   "source": [
    "from sklearn.cluster import KMeans\n",
    "def getKMeans(tweets,tfidf):\n",
    "    clustering = KMeans(n_clusters=5,n_jobs=-1).fit(tfidf.toarray())\n",
    "    \n",
    "    clusters = clustering.labels_.tolist()\n",
    "    temp = clusters.copy()\n",
    "    temp.remove\n",
    "    \n",
    "    addedCluster = tweets.copy()\n",
    "    addedCluster['Cluster'] = clusters\n",
    "    num_clusters = getNumClusters(clusters)\n",
    "\n",
    "    pd.options.display.max_colwidth = 100\n",
    "\n",
    "    cls = []\n",
    "    #num_clusters = 55\n",
    "    max_num_cluster = 0\n",
    "\n",
    "    for i in range(0, num_clusters):\n",
    "        tweetsInCluster = addedCluster[addedCluster['Cluster'] == i]\n",
    "        if(tweetsInCluster.shape[0] > 0):\n",
    "            cls.append((tweetsInCluster,tweetsInCluster.shape[0]))\n",
    "            \n",
    "#     cls.sort(key=takeSecond,reverse=True)\n",
    "    clusters = []\n",
    "    for i in range(len(cls)):\n",
    "        clusters.append(cls[i][0])\n",
    "    \n",
    "    return {\"clusters\":clusters,\"labels_pr\":clustering.labels_.tolist()}\n",
    "    "
   ]
  },
  {
   "cell_type": "markdown",
   "metadata": {},
   "source": [
    "# Hierarchical Clustering"
   ]
  },
  {
   "cell_type": "code",
   "execution_count": 31,
   "metadata": {},
   "outputs": [
    {
     "name": "stdout",
     "output_type": "stream",
     "text": [
      "time: 3.99 ms\n"
     ]
    }
   ],
   "source": [
    "from sklearn.cluster import AgglomerativeClustering\n",
    "def getHierarchical(tweets,tfidf):\n",
    "    clustering = AgglomerativeClustering(n_clusters=5).fit(tfidf.toarray())\n",
    "    \n",
    "    clusters = clustering.labels_.tolist()\n",
    "    temp = clusters.copy()\n",
    "    temp.remove\n",
    "    \n",
    "    addedCluster = tweets.copy()\n",
    "    addedCluster['Cluster'] = clusters\n",
    "    num_clusters = getNumClusters(clusters)\n",
    "\n",
    "    pd.options.display.max_colwidth = 100\n",
    "\n",
    "    cls = []\n",
    "    #num_clusters = 55\n",
    "    max_num_cluster = 0\n",
    "\n",
    "    for i in range(0, num_clusters):\n",
    "        tweetsInCluster = addedCluster[addedCluster['Cluster'] == i]\n",
    "        if(tweetsInCluster.shape[0] > 0):\n",
    "            cls.append((tweetsInCluster,tweetsInCluster.shape[0]))\n",
    "            \n",
    "#     cls.sort(key=takeSecond,reverse=True)\n",
    "    clusters = []\n",
    "    for i in range(len(cls)):\n",
    "        clusters.append(cls[i][0])\n",
    "    \n",
    "    return {\"clusters\":clusters,\"labels_pr\":clustering.labels_.tolist()}\n",
    "    "
   ]
  },
  {
   "cell_type": "markdown",
   "metadata": {},
   "source": [
    "# HDBSCAN (Hierarchical Density-based Clustering)"
   ]
  },
  {
   "cell_type": "code",
   "execution_count": 32,
   "metadata": {},
   "outputs": [
    {
     "name": "stdout",
     "output_type": "stream",
     "text": [
      "time: 5.98 ms\n"
     ]
    }
   ],
   "source": [
    "def getHDBSCAN(tweets,tfidf):\n",
    "    clustering = hdbscan.HDBSCAN(min_cluster_size=5,metric='cosine').fit(tfidf)\n",
    "    \n",
    "    clusters = clustering.labels_.tolist()\n",
    "    temp = clusters.copy()\n",
    "    temp.remove\n",
    "    \n",
    "    addedCluster = tweets.copy()\n",
    "    addedCluster['Cluster'] = clusters\n",
    "    num_clusters = getNumClusters(clusters)\n",
    "\n",
    "    pd.options.display.max_colwidth = 100\n",
    "\n",
    "    cls = []\n",
    "    #num_clusters = 55\n",
    "    max_num_cluster = 0\n",
    "\n",
    "    for i in range(0, num_clusters):\n",
    "        tweetsInCluster = addedCluster[addedCluster['Cluster'] == i]\n",
    "        if(tweetsInCluster.shape[0] > 0):\n",
    "            cls.append((tweetsInCluster,tweetsInCluster.shape[0]))\n",
    "            \n",
    "#     cls.sort(key=takeSecond,reverse=True)\n",
    "    clusters = []\n",
    "    for i in range(len(cls)):\n",
    "        clusters.append(cls[i][0])\n",
    "        \n",
    "    #Noise Data\n",
    "    noise_data = addedCluster[addedCluster['Cluster']==-1]\n",
    "#     noise_data = addedCluster[addedCluster['Cluster'] == -1]\n",
    "#     print(\"Size:\",noise_data.shape[0])\n",
    "#     print(noise_data[\"tweets\"],noise_data[\"Event\"])\n",
    "    \n",
    "    return {\"clusters\":clusters,\"noise_data\":noise_data,\"labels_pr\":clustering.labels_.tolist()}"
   ]
  },
  {
   "cell_type": "markdown",
   "metadata": {},
   "source": [
    "# DBSCAN Clustering (Density-based Clustering)"
   ]
  },
  {
   "cell_type": "code",
   "execution_count": 33,
   "metadata": {},
   "outputs": [
    {
     "name": "stdout",
     "output_type": "stream",
     "text": [
      "time: 11 ms\n"
     ]
    }
   ],
   "source": [
    "def getDBSCAN(tweets,tfidf,e):\n",
    "    clustering = DBSCAN(eps=e, min_samples=5,n_jobs=-1,metric='cosine').fit(tfidf)\n",
    "    \n",
    "    clusters = clustering.labels_.tolist()\n",
    "    temp = clusters.copy()\n",
    "    temp.remove\n",
    "    \n",
    "    addedCluster = tweets.copy()\n",
    "    addedCluster['Cluster'] = clusters\n",
    "    num_clusters = getNumClusters(clusters)\n",
    "\n",
    "    pd.options.display.max_colwidth = 100\n",
    "\n",
    "    cls = []\n",
    "    #num_clusters = 55\n",
    "    max_num_cluster = 0\n",
    "\n",
    "    for i in range(0, num_clusters):\n",
    "        tweetsInCluster = addedCluster[addedCluster['Cluster'] == i]\n",
    "        if(tweetsInCluster.shape[0] > 0):\n",
    "            cls.append((tweetsInCluster,tweetsInCluster.shape[0]))\n",
    "            \n",
    "#     cls.sort(key=takeSecond,reverse=True)\n",
    "    clusters = []\n",
    "    for i in range(len(cls)):\n",
    "        clusters.append(cls[i][0])\n",
    "        \n",
    "    #Noise Data\n",
    "    noise_data = addedCluster[addedCluster['Cluster']==-1]\n",
    "#     noise_data = addedCluster[addedCluster['Cluster'] == -1]\n",
    "#     print(\"Size:\",noise_data.shape[0])\n",
    "#     print(noise_data[\"tweets\"],noise_data[\"Event\"])\n",
    "    \n",
    "    return {\"clusters\":clusters,\"noise_data\":noise_data,\"labels_pr\":clustering.labels_.tolist()}"
   ]
  },
  {
   "cell_type": "markdown",
   "metadata": {},
   "source": [
    "# Creation of Clusters"
   ]
  },
  {
   "cell_type": "markdown",
   "metadata": {},
   "source": [
    "### Time window metrics"
   ]
  },
  {
   "cell_type": "code",
   "execution_count": 94,
   "metadata": {},
   "outputs": [
    {
     "name": "stdout",
     "output_type": "stream",
     "text": [
      "time: 1.99 ms\n"
     ]
    }
   ],
   "source": [
    "def getClusterLabel(temp_cluster):\n",
    "    count_df = temp_cluster.groupby(['Cluster']).count()\n",
    "    label = count_df.sort_values(by=['tweets'],ascending=False).index[0]\n",
    "    return label"
   ]
  },
  {
   "cell_type": "code",
   "execution_count": 307,
   "metadata": {},
   "outputs": [
    {
     "name": "stdout",
     "output_type": "stream",
     "text": [
      "time: 13 ms\n"
     ]
    }
   ],
   "source": [
    "def create_clusters_time_window(df,ngram,epsilon,mindf,maxdf,coordinates,method_cl):\n",
    "    temporal_clusters = None\n",
    "    saved_clusters = None\n",
    "    df['Clustered'] = False\n",
    "    df['Cluster'] = -1\n",
    "    count_labels = 0\n",
    "    timestamp = 0\n",
    "    count_timestamp = 1000\n",
    "    list_cluster_timer = []\n",
    "    list_cluster_cycles = []\n",
    "#     for k in range(0,len(list_date_minutes)-10):\n",
    "    for k in range(20):\n",
    "        timestamp+=1\n",
    "        if timestamp == count_timestamp:\n",
    "            print('Timestamp:',timestamp)\n",
    "            count_timestamp+=1000\n",
    "        for i in range(len(list_cluster_timer)):\n",
    "            list_cluster_timer[i]+=1\n",
    "            list_cluster_cycles[i] += 1\n",
    "        df1 = df.loc[df['Datetime']==list_date_minutes[k]]\n",
    "        df2 = df.loc[df['Datetime']==list_date_minutes[k+1]]\n",
    "        df3 = df.loc[df['Datetime']==list_date_minutes[k+2]]\n",
    "        df4 = df.loc[df['Datetime']==list_date_minutes[k+3]]\n",
    "        df5 = df.loc[df['Datetime']==list_date_minutes[k+4]]\n",
    "        df6 = df.loc[df['Datetime']==list_date_minutes[k+5]]\n",
    "        df7 = df.loc[df['Datetime']==list_date_minutes[k+6]]\n",
    "        df8 = df.loc[df['Datetime']==list_date_minutes[k+7]]\n",
    "        df9 = df.loc[df['Datetime']==list_date_minutes[k+8]]\n",
    "        df10 = df.loc[df['Datetime']==list_date_minutes[k+9]]\n",
    "        list_of_dataframes = [df1,df2,df3,df4,df5,df6,df7,df8,df9,df10,temporal_clusters]\n",
    "        dfchange = pd.concat(list_of_dataframes)\n",
    "        dfchange = dfchange.sort_values(by=['Datetime'])\n",
    "        \n",
    "        tweets = dfchange.sort_values(by=['time'])\n",
    "        if coordinates == False:\n",
    "            tweetsContent = tweets.copy()[\"clean_data\"]\n",
    "        else:\n",
    "            tweetsContent = tweets.copy()['clean_data_coordinates']\n",
    "                \n",
    "        tfidf_object = getTfIdf(tweetsContent,dfchange.shape[0],ngram,3,mindf,maxdf)\n",
    "        tfidf = tfidf_object['tfidf_train_data_features']\n",
    "        minimum = tfidf_object['minimum']\n",
    "        maximum = tfidf_object['maximum']\n",
    "        list_sum = tfidf_object['sum']\n",
    "        tweets['sum'] = list_sum\n",
    "        noise_tweets = tweets.loc[tweets['sum']==0]\n",
    "            \n",
    "#         for index,row in noise_tweets.iterrows():\n",
    "#             list_y_fscore.append(row[\"Event\"])\n",
    "#             list_pr_fscore.append(-1)\n",
    "\n",
    "        train_tweets = tweets.loc[tweets['sum']!=0]\n",
    "        if coordinates == False:\n",
    "            trainContent = train_tweets.copy()[\"clean_data\"]\n",
    "        else:\n",
    "            trainContent = train_tweets.copy()['clean_data_coordinates']\n",
    "            \n",
    "        headline_vectorizer = CountVectorizer(binary=True, min_df=1,ngram_range=(1,1))\n",
    "        tfidf = headline_vectorizer.fit_transform(trainContent)\n",
    "    \n",
    "        if (method_cl == 'dbscan'):\n",
    "            x_object = getDBSCAN(train_tweets,tfidf,epsilon)\n",
    "        elif (method_cl == 'hdbscan'):\n",
    "            x_object = getHDBSCAN(train_tweets,tfidf)\n",
    "        elif (method_cl == 'hierarchical'):\n",
    "            x_object = getHierarchical(train_tweets,tfidf)\n",
    "        elif (method_cl == 'kmeans'):\n",
    "            x_object = getKMeans(train_tweets,tfidf)\n",
    "        else:\n",
    "            x_object = getAffinity(train_tweets,tfidf)\n",
    "\n",
    "        candidate_cluster = x_object[\"clusters\"]\n",
    "        if (method_cl=='dbscan' or method_cl=='hdbscan'):\n",
    "                candidate_noise = x_object[\"noise_data\"]\n",
    "\n",
    "        new_candidates = []\n",
    "        for temp_cluster in candidate_cluster:\n",
    "            new_candidates.append(temp_cluster)\n",
    "            \n",
    "        for temp in new_candidates:\n",
    "            temp_cluster = temp.loc[temp['Clustered']==True]\n",
    "            if temp_cluster.shape[0]==0:\n",
    "                df = df.drop(temp.index.tolist())\n",
    "                temp['Clustered'] = True\n",
    "                temp['Cluster'] = count_labels\n",
    "                list_cluster_timer.append(0)\n",
    "                list_cluster_cycles.append(0)\n",
    "                \n",
    "                count_labels+=1\n",
    "                temporal_clusters = pd.concat([temporal_clusters,temp])\n",
    "            else:\n",
    "                label = getClusterLabel(temp_cluster)\n",
    "                label_cluster = temporal_clusters.loc[temporal_clusters['Cluster']==label]\n",
    "                if temp.shape[0] != label_cluster.shape[0]:\n",
    "#                     new_items = temp.loc[temp['Clustered']==False]\n",
    "                    new_items = temp.loc[temp['Cluster']!=label]\n",
    "                    df = df.drop(new_items.index.tolist())\n",
    "                    temporal_clusters = temporal_clusters.drop(new_items.index.tolist())\n",
    "                    new_items['Clustered'] = True\n",
    "                    new_items['Cluster'] = label\n",
    "                    temporal_clusters = pd.concat([temporal_clusters,new_items])\n",
    "                    list_cluster_timer[label] = 0\n",
    "                    \n",
    "        for i in range(len(list_cluster_timer)):\n",
    "            if(list_cluster_timer[i]==3 or list_cluster_cycles[i]==10):\n",
    "#                 import pdb; pdb.set_trace()\n",
    "                temp = temporal_clusters.loc[temporal_clusters['Cluster']==i]\n",
    "                if temp.shape[0]!=0:\n",
    "                    temp['Timestamp'] = timestamp\n",
    "                    temp_df = temp[['tweets','coordinates','Timestamp','Cluster','Event']]\n",
    "                    saved_clusters = pd.concat([saved_clusters,temp_df])\n",
    "#                     print('Timestamp:',list_date_minutes[k],'-',list_date_minutes[k+9])\n",
    "#                     print('Size: ',temp.shape[0])\n",
    "#                     for index,row in temp.iterrows():\n",
    "#                         print(row['Event'],' ',end='')\n",
    "#                     print()\n",
    "#                     print()\n",
    "                temporal_clusters = temporal_clusters.drop(temp.index.tolist())\n",
    "                list_cluster_timer[i]=-1\n",
    "                list_cluster_cycles[i] = -1\n",
    "    return saved_clusters"
   ]
  },
  {
   "cell_type": "code",
   "execution_count": 304,
   "metadata": {},
   "outputs": [
    {
     "ename": "KeyboardInterrupt",
     "evalue": "",
     "output_type": "error",
     "traceback": [
      "\u001b[1;31m---------------------------------------------------------------------------\u001b[0m",
      "\u001b[1;31mKeyboardInterrupt\u001b[0m                         Traceback (most recent call last)",
      "\u001b[1;32m<ipython-input-304-6c985b0eb344>\u001b[0m in \u001b[0;36m<module>\u001b[1;34m\u001b[0m\n\u001b[1;32m----> 1\u001b[1;33m \u001b[0mdataframe_time_window_0_6\u001b[0m \u001b[1;33m=\u001b[0m \u001b[0mcreate_clusters_time_window\u001b[0m\u001b[1;33m(\u001b[0m\u001b[0mdf\u001b[0m\u001b[1;33m,\u001b[0m\u001b[1;36m2\u001b[0m\u001b[1;33m,\u001b[0m\u001b[1;36m0.6\u001b[0m\u001b[1;33m,\u001b[0m\u001b[1;36m0\u001b[0m\u001b[1;33m,\u001b[0m\u001b[1;36m0\u001b[0m\u001b[1;33m,\u001b[0m\u001b[1;32mTrue\u001b[0m\u001b[1;33m,\u001b[0m\u001b[1;34m'dbscan'\u001b[0m\u001b[1;33m)\u001b[0m\u001b[1;33m\u001b[0m\u001b[1;33m\u001b[0m\u001b[0m\n\u001b[0m\u001b[0;32m      2\u001b[0m \u001b[0mdataframe_time_window_0_6\u001b[0m\u001b[1;33m.\u001b[0m\u001b[0mto_csv\u001b[0m\u001b[1;33m(\u001b[0m\u001b[1;34mr'ClusterTimeWindow_0_6.csv'\u001b[0m\u001b[1;33m,\u001b[0m \u001b[0mindex\u001b[0m \u001b[1;33m=\u001b[0m \u001b[1;32mFalse\u001b[0m\u001b[1;33m)\u001b[0m\u001b[1;33m\u001b[0m\u001b[1;33m\u001b[0m\u001b[0m\n",
      "\u001b[1;32m<ipython-input-303-4a97f448d971>\u001b[0m in \u001b[0;36mcreate_clusters_time_window\u001b[1;34m(df, ngram, epsilon, mindf, maxdf, coordinates, method_cl)\u001b[0m\n\u001b[0;32m     80\u001b[0m             \u001b[0mtemp_cluster\u001b[0m \u001b[1;33m=\u001b[0m \u001b[0mtemp\u001b[0m\u001b[1;33m.\u001b[0m\u001b[0mloc\u001b[0m\u001b[1;33m[\u001b[0m\u001b[0mtemp\u001b[0m\u001b[1;33m[\u001b[0m\u001b[1;34m'Clustered'\u001b[0m\u001b[1;33m]\u001b[0m\u001b[1;33m==\u001b[0m\u001b[1;32mTrue\u001b[0m\u001b[1;33m]\u001b[0m\u001b[1;33m\u001b[0m\u001b[1;33m\u001b[0m\u001b[0m\n\u001b[0;32m     81\u001b[0m             \u001b[1;32mif\u001b[0m \u001b[0mtemp_cluster\u001b[0m\u001b[1;33m.\u001b[0m\u001b[0mshape\u001b[0m\u001b[1;33m[\u001b[0m\u001b[1;36m0\u001b[0m\u001b[1;33m]\u001b[0m\u001b[1;33m==\u001b[0m\u001b[1;36m0\u001b[0m\u001b[1;33m:\u001b[0m\u001b[1;33m\u001b[0m\u001b[1;33m\u001b[0m\u001b[0m\n\u001b[1;32m---> 82\u001b[1;33m                 \u001b[0mdf\u001b[0m \u001b[1;33m=\u001b[0m \u001b[0mdf\u001b[0m\u001b[1;33m.\u001b[0m\u001b[0mdrop\u001b[0m\u001b[1;33m(\u001b[0m\u001b[0mtemp\u001b[0m\u001b[1;33m.\u001b[0m\u001b[0mindex\u001b[0m\u001b[1;33m.\u001b[0m\u001b[0mtolist\u001b[0m\u001b[1;33m(\u001b[0m\u001b[1;33m)\u001b[0m\u001b[1;33m)\u001b[0m\u001b[1;33m\u001b[0m\u001b[1;33m\u001b[0m\u001b[0m\n\u001b[0m\u001b[0;32m     83\u001b[0m                 \u001b[0mtemp\u001b[0m\u001b[1;33m[\u001b[0m\u001b[1;34m'Clustered'\u001b[0m\u001b[1;33m]\u001b[0m \u001b[1;33m=\u001b[0m \u001b[1;32mTrue\u001b[0m\u001b[1;33m\u001b[0m\u001b[1;33m\u001b[0m\u001b[0m\n\u001b[0;32m     84\u001b[0m                 \u001b[0mtemp\u001b[0m\u001b[1;33m[\u001b[0m\u001b[1;34m'Cluster'\u001b[0m\u001b[1;33m]\u001b[0m \u001b[1;33m=\u001b[0m \u001b[0mcount_labels\u001b[0m\u001b[1;33m\u001b[0m\u001b[1;33m\u001b[0m\u001b[0m\n",
      "\u001b[1;32m~\\Anaconda3\\lib\\site-packages\\pandas\\core\\frame.py\u001b[0m in \u001b[0;36mdrop\u001b[1;34m(self, labels, axis, index, columns, level, inplace, errors)\u001b[0m\n\u001b[0;32m   3995\u001b[0m             \u001b[0mlevel\u001b[0m\u001b[1;33m=\u001b[0m\u001b[0mlevel\u001b[0m\u001b[1;33m,\u001b[0m\u001b[1;33m\u001b[0m\u001b[1;33m\u001b[0m\u001b[0m\n\u001b[0;32m   3996\u001b[0m             \u001b[0minplace\u001b[0m\u001b[1;33m=\u001b[0m\u001b[0minplace\u001b[0m\u001b[1;33m,\u001b[0m\u001b[1;33m\u001b[0m\u001b[1;33m\u001b[0m\u001b[0m\n\u001b[1;32m-> 3997\u001b[1;33m             \u001b[0merrors\u001b[0m\u001b[1;33m=\u001b[0m\u001b[0merrors\u001b[0m\u001b[1;33m,\u001b[0m\u001b[1;33m\u001b[0m\u001b[1;33m\u001b[0m\u001b[0m\n\u001b[0m\u001b[0;32m   3998\u001b[0m         )\n\u001b[0;32m   3999\u001b[0m \u001b[1;33m\u001b[0m\u001b[0m\n",
      "\u001b[1;32m~\\Anaconda3\\lib\\site-packages\\pandas\\core\\generic.py\u001b[0m in \u001b[0;36mdrop\u001b[1;34m(self, labels, axis, index, columns, level, inplace, errors)\u001b[0m\n\u001b[0;32m   3934\u001b[0m         \u001b[1;32mfor\u001b[0m \u001b[0maxis\u001b[0m\u001b[1;33m,\u001b[0m \u001b[0mlabels\u001b[0m \u001b[1;32min\u001b[0m \u001b[0maxes\u001b[0m\u001b[1;33m.\u001b[0m\u001b[0mitems\u001b[0m\u001b[1;33m(\u001b[0m\u001b[1;33m)\u001b[0m\u001b[1;33m:\u001b[0m\u001b[1;33m\u001b[0m\u001b[1;33m\u001b[0m\u001b[0m\n\u001b[0;32m   3935\u001b[0m             \u001b[1;32mif\u001b[0m \u001b[0mlabels\u001b[0m \u001b[1;32mis\u001b[0m \u001b[1;32mnot\u001b[0m \u001b[1;32mNone\u001b[0m\u001b[1;33m:\u001b[0m\u001b[1;33m\u001b[0m\u001b[1;33m\u001b[0m\u001b[0m\n\u001b[1;32m-> 3936\u001b[1;33m                 \u001b[0mobj\u001b[0m \u001b[1;33m=\u001b[0m \u001b[0mobj\u001b[0m\u001b[1;33m.\u001b[0m\u001b[0m_drop_axis\u001b[0m\u001b[1;33m(\u001b[0m\u001b[0mlabels\u001b[0m\u001b[1;33m,\u001b[0m \u001b[0maxis\u001b[0m\u001b[1;33m,\u001b[0m \u001b[0mlevel\u001b[0m\u001b[1;33m=\u001b[0m\u001b[0mlevel\u001b[0m\u001b[1;33m,\u001b[0m \u001b[0merrors\u001b[0m\u001b[1;33m=\u001b[0m\u001b[0merrors\u001b[0m\u001b[1;33m)\u001b[0m\u001b[1;33m\u001b[0m\u001b[1;33m\u001b[0m\u001b[0m\n\u001b[0m\u001b[0;32m   3937\u001b[0m \u001b[1;33m\u001b[0m\u001b[0m\n\u001b[0;32m   3938\u001b[0m         \u001b[1;32mif\u001b[0m \u001b[0minplace\u001b[0m\u001b[1;33m:\u001b[0m\u001b[1;33m\u001b[0m\u001b[1;33m\u001b[0m\u001b[0m\n",
      "\u001b[1;32m~\\Anaconda3\\lib\\site-packages\\pandas\\core\\generic.py\u001b[0m in \u001b[0;36m_drop_axis\u001b[1;34m(self, labels, axis, level, errors)\u001b[0m\n\u001b[0;32m   3962\u001b[0m         \u001b[0maxis\u001b[0m \u001b[1;33m=\u001b[0m \u001b[0mself\u001b[0m\u001b[1;33m.\u001b[0m\u001b[0m_get_axis\u001b[0m\u001b[1;33m(\u001b[0m\u001b[0maxis\u001b[0m\u001b[1;33m)\u001b[0m\u001b[1;33m\u001b[0m\u001b[1;33m\u001b[0m\u001b[0m\n\u001b[0;32m   3963\u001b[0m \u001b[1;33m\u001b[0m\u001b[0m\n\u001b[1;32m-> 3964\u001b[1;33m         \u001b[1;32mif\u001b[0m \u001b[0maxis\u001b[0m\u001b[1;33m.\u001b[0m\u001b[0mis_unique\u001b[0m\u001b[1;33m:\u001b[0m\u001b[1;33m\u001b[0m\u001b[1;33m\u001b[0m\u001b[0m\n\u001b[0m\u001b[0;32m   3965\u001b[0m             \u001b[1;32mif\u001b[0m \u001b[0mlevel\u001b[0m \u001b[1;32mis\u001b[0m \u001b[1;32mnot\u001b[0m \u001b[1;32mNone\u001b[0m\u001b[1;33m:\u001b[0m\u001b[1;33m\u001b[0m\u001b[1;33m\u001b[0m\u001b[0m\n\u001b[0;32m   3966\u001b[0m                 \u001b[1;32mif\u001b[0m \u001b[1;32mnot\u001b[0m \u001b[0misinstance\u001b[0m\u001b[1;33m(\u001b[0m\u001b[0maxis\u001b[0m\u001b[1;33m,\u001b[0m \u001b[0mMultiIndex\u001b[0m\u001b[1;33m)\u001b[0m\u001b[1;33m:\u001b[0m\u001b[1;33m\u001b[0m\u001b[1;33m\u001b[0m\u001b[0m\n",
      "\u001b[1;32mpandas\\_libs\\properties.pyx\u001b[0m in \u001b[0;36mpandas._libs.properties.CachedProperty.__get__\u001b[1;34m()\u001b[0m\n",
      "\u001b[1;32m~\\Anaconda3\\lib\\site-packages\\pandas\\core\\indexes\\base.py\u001b[0m in \u001b[0;36mis_unique\u001b[1;34m(self)\u001b[0m\n\u001b[0;32m   1659\u001b[0m         \u001b[0mReturn\u001b[0m \u001b[1;32mif\u001b[0m \u001b[0mthe\u001b[0m \u001b[0mindex\u001b[0m \u001b[0mhas\u001b[0m \u001b[0munique\u001b[0m \u001b[0mvalues\u001b[0m\u001b[1;33m.\u001b[0m\u001b[1;33m\u001b[0m\u001b[1;33m\u001b[0m\u001b[0m\n\u001b[0;32m   1660\u001b[0m         \"\"\"\n\u001b[1;32m-> 1661\u001b[1;33m         \u001b[1;32mreturn\u001b[0m \u001b[0mself\u001b[0m\u001b[1;33m.\u001b[0m\u001b[0m_engine\u001b[0m\u001b[1;33m.\u001b[0m\u001b[0mis_unique\u001b[0m\u001b[1;33m\u001b[0m\u001b[1;33m\u001b[0m\u001b[0m\n\u001b[0m\u001b[0;32m   1662\u001b[0m \u001b[1;33m\u001b[0m\u001b[0m\n\u001b[0;32m   1663\u001b[0m     \u001b[1;33m@\u001b[0m\u001b[0mproperty\u001b[0m\u001b[1;33m\u001b[0m\u001b[1;33m\u001b[0m\u001b[0m\n",
      "\u001b[1;31mKeyboardInterrupt\u001b[0m: "
     ]
    },
    {
     "name": "stdout",
     "output_type": "stream",
     "text": [
      "time: 1min 44s\n"
     ]
    }
   ],
   "source": [
    "dataframe_time_window_0_6 = create_clusters_time_window(df,2,0.6,0,0,True,'dbscan')\n",
    "dataframe_time_window_0_6.to_csv(r'ClusterTimeWindow_0_6.csv', index = False)"
   ]
  },
  {
   "cell_type": "code",
   "execution_count": null,
   "metadata": {
    "scrolled": true
   },
   "outputs": [],
   "source": [
    "dataframe_time_window_0_5 = create_clusters_time_window(df,2,0.5,0,0,True,'dbscan')\n",
    "dataframe_time_window_0_5.to_csv(r'ClusterTimeWindow_0_5.csv', index = False)"
   ]
  },
  {
   "cell_type": "code",
   "execution_count": 255,
   "metadata": {},
   "outputs": [
    {
     "name": "stdout",
     "output_type": "stream",
     "text": [
      "59706\n",
      "59765\n",
      "106017\n",
      "time: 79.8 ms\n"
     ]
    }
   ],
   "source": [
    "print(dataframe_time_window.loc[dataframe_time_window['Event']!=-1].shape[0])\n",
    "print(dataframe_time_window.shape[0])\n",
    "print(df_relevant.shape[0])"
   ]
  },
  {
   "cell_type": "code",
   "execution_count": 263,
   "metadata": {},
   "outputs": [
    {
     "name": "stdout",
     "output_type": "stream",
     "text": [
      "59919\n",
      "59978\n",
      "106017\n",
      "time: 166 ms\n"
     ]
    }
   ],
   "source": [
    "print(dataframe_time_window_2.loc[dataframe_time_window_2['Event']!=-1].shape[0])\n",
    "print(dataframe_time_window_2.shape[0])\n",
    "print(df_relevant.shape[0])"
   ]
  },
  {
   "cell_type": "code",
   "execution_count": 271,
   "metadata": {},
   "outputs": [
    {
     "data": {
      "text/plain": [
       "Index(['tweets', 'created_at', 'id', 'rt', 'lang', 'location', 'coordinates',\n",
       "       'Event', 'date', 'time', 'Datetime', 'DateHour', 'Date_Ten_Minutes',\n",
       "       'text', 'hashtag', 'user_mentions', 'RT', 'URL', 'Tweet_punct',\n",
       "       'Tweet_tokenized', 'Tweet_nonstop', 'Stem_sent', 'Stem_words', 'No',\n",
       "       'clean_data', 'clean_data_coordinates', 'Clustered', 'Timer', 'Cluster',\n",
       "       'sum', 'Timestamp'],\n",
       "      dtype='object')"
      ]
     },
     "execution_count": 271,
     "metadata": {},
     "output_type": "execute_result"
    },
    {
     "name": "stdout",
     "output_type": "stream",
     "text": [
      "time: 4.99 ms\n"
     ]
    }
   ],
   "source": [
    "dataframe_time_window_2.columns"
   ]
  },
  {
   "cell_type": "code",
   "execution_count": 272,
   "metadata": {},
   "outputs": [
    {
     "name": "stdout",
     "output_type": "stream",
     "text": [
      "time: 774 ms\n"
     ]
    }
   ],
   "source": [
    "saved_dataframe = dataframe_time_window[['tweets','coordinates','Timestamp','Cluster','Event']]\n",
    "saved_dataframe.to_csv(r'ClusterTimeWindow.csv', index = False)\n",
    "saved_dataframe_2 = dataframe_time_window_2[['tweets','coordinates','Timestamp','Cluster','Event']]\n",
    "saved_dataframe_2.to_csv(r'ClusterTimeWindow_2.csv', index = False)"
   ]
  },
  {
   "cell_type": "code",
   "execution_count": 247,
   "metadata": {},
   "outputs": [
    {
     "data": {
      "text/plain": [
       "39951"
      ]
     },
     "execution_count": 247,
     "metadata": {},
     "output_type": "execute_result"
    },
    {
     "name": "stdout",
     "output_type": "stream",
     "text": [
      "time: 1.99 ms\n"
     ]
    }
   ],
   "source": [
    "len(list_date_minutes)"
   ]
  },
  {
   "cell_type": "code",
   "execution_count": 205,
   "metadata": {},
   "outputs": [
    {
     "name": "stdout",
     "output_type": "stream",
     "text": [
      "time: 997 µs\n"
     ]
    }
   ],
   "source": [
    "def getLabel(list_event):\n",
    "    temp = list_event.value_counts()\n",
    "    return temp.keys()[0]"
   ]
  },
  {
   "cell_type": "markdown",
   "metadata": {},
   "source": [
    "### Hourly metrics"
   ]
  },
  {
   "cell_type": "code",
   "execution_count": null,
   "metadata": {},
   "outputs": [],
   "source": [
    "def getPurity(current_cluster,pr_event) :\n",
    "    cluster_length = current_cluster.shape[0]\n",
    "    purity_size = current_cluster.loc[current_cluster['Event']==pr_event].shape[0]\n",
    "    return purity_size/cluster_length"
   ]
  },
  {
   "cell_type": "code",
   "execution_count": null,
   "metadata": {},
   "outputs": [],
   "source": [
    "\n",
    "from sklearn.preprocessing import StandardScaler\n",
    "import statistics\n",
    "def create_clusters(df,ngram,epsilon,mindf,maxdf,coordinates,method_cl):\n",
    "    list_y_fscore = []\n",
    "    list_pr_fscore = []\n",
    "    adjusted_mutual_info = []\n",
    "    adjusted_rand_score = []\n",
    "    completeness_score = []\n",
    "    fowlkes_mallows_score = []\n",
    "    homogeneity_score = []\n",
    "    mutual_info_score = []\n",
    "    normalized_mutual_info_score = []\n",
    "    v_measure_score = []\n",
    "    silhouette = []\n",
    "    calinski_harabasz = []\n",
    "    davies_bouldin = []\n",
    "    contingency = []\n",
    "    count = 0\n",
    "    count_labels = 0\n",
    "    return_df = None\n",
    "    specs_cluster_df = pd.DataFrame(columns=['Cluster_ID', 'Cluster_Length', 'Predicted_Event','Purity','Timestamp'])\n",
    "    for current_date in list_date_hour:\n",
    "        try:\n",
    "            list_y = []\n",
    "            list_pr = []\n",
    "            \n",
    "            dfchange = df.loc[df['DateHour']==current_date]\n",
    "            tweets = dfchange.sort_values(by=['time'])\n",
    "            if coordinates == False:\n",
    "                tweetsContent = tweets.copy()[\"clean_data\"]\n",
    "            else:\n",
    "                tweetsContent = tweets.copy()['clean_data_coordinates']\n",
    "            tfidf_object = getTfIdf(tweetsContent,dfchange.shape[0],ngram,3,mindf,maxdf)\n",
    "            tfidf = tfidf_object['tfidf_train_data_features']\n",
    "            minimum = tfidf_object['minimum']\n",
    "            maximum = tfidf_object['maximum']\n",
    "            list_sum = tfidf_object['sum']\n",
    "            tweets['sum'] = list_sum\n",
    "            noise_tweets = tweets.loc[tweets['sum']==0]\n",
    "            \n",
    "            count+=1\n",
    "            for index,row in noise_tweets.iterrows():\n",
    "                list_y_fscore.append(row[\"Event\"])\n",
    "                list_pr_fscore.append(-1)\n",
    "\n",
    "            train_tweets = tweets.loc[tweets['sum']!=0]\n",
    "            if coordinates == False:\n",
    "                trainContent = train_tweets.copy()[\"clean_data\"]\n",
    "            else:\n",
    "                trainContent = train_tweets.copy()['clean_data_coordinates']\n",
    "                \n",
    "            headline_vectorizer = CountVectorizer(binary=True, min_df=1,ngram_range=(1,1))\n",
    "            tfidf = headline_vectorizer.fit_transform(trainContent)\n",
    "            \n",
    "            if (method_cl == 'dbscan'):\n",
    "                x_object = getDBSCAN(train_tweets,tfidf,epsilon)\n",
    "            elif (method_cl == 'hdbscan'):\n",
    "                x_object = getHDBSCAN(train_tweets,tfidf)\n",
    "            elif (method_cl == 'hierarchical'):\n",
    "                x_object = getHierarchical(train_tweets,tfidf)\n",
    "            elif (method_cl == 'kmeans'):\n",
    "                x_object = getKMeans(train_tweets,tfidf)\n",
    "            else:\n",
    "                x_object = getAffinity(train_tweets,tfidf)\n",
    "\n",
    "            candidate_cluster = x_object[\"clusters\"]\n",
    "            if (method_cl=='dbscan' or method_cl=='hdbscan'):\n",
    "                candidate_noise = x_object[\"noise_data\"]\n",
    "                for index,row in candidate_noise.iterrows():\n",
    "                    list_y.append(row[\"Event\"])\n",
    "                    list_pr.append(-1)\n",
    "                    list_y_fscore.append(row[\"Event\"])\n",
    "                    list_pr_fscore.append(-1)\n",
    "            candidate_labels= x_object[\"labels_pr\"]\n",
    "            \n",
    "            for current_cluster in candidate_cluster:\n",
    "                pr_event = getLabel(current_cluster[\"Event\"])\n",
    "                \n",
    "                #Create Map Dataframe\n",
    "                temp_df = current_cluster[['tweets','coordinates']]\n",
    "                temp_df['Timestamp'] = current_date\n",
    "                temp_df['Cluster'] = count_labels\n",
    "                temp_df['Event'] = np.array([temp for temp in current_cluster['Event']])\n",
    "                return_df = pd.concat([return_df,temp_df])\n",
    "                \n",
    "                #Create Cluster's specs dataframe\n",
    "                specs_cluster_df = specs_cluster_df.append({'Cluster_ID': count_labels, 'Cluster_Length': current_cluster.shape[0],\n",
    "                                                            'Predicted_Event': int(pr_event),'Purity' : getPurity(current_cluster,pr_event), \n",
    "                                                            'Timestamp' : current_date}, ignore_index=True)\n",
    "               \n",
    "                for index,row in current_cluster.iterrows():\n",
    "                    list_y.append(row[\"Event\"])\n",
    "                    list_pr.append(count_labels)\n",
    "                    list_y_fscore.append(row[\"Event\"])\n",
    "                    list_pr_fscore.append(pr_event)\n",
    "                count_labels+=1\n",
    "            \n",
    "            from sklearn import metrics\n",
    "            adjusted_mutual_info.append(metrics.adjusted_mutual_info_score(list_y,list_pr,average_method='arithmetic'))\n",
    "            adjusted_rand_score.append(metrics.adjusted_rand_score(list_y,list_pr))\n",
    "            completeness_score.append(metrics.completeness_score(list_y,list_pr))\n",
    "            fowlkes_mallows_score.append(metrics.fowlkes_mallows_score(list_y,list_pr,sparse=False))\n",
    "            homogeneity_score.append(metrics.homogeneity_score(list_y,list_pr))\n",
    "            mutual_info_score.append(metrics.mutual_info_score(list_y,list_pr,contingency=None))\n",
    "            normalized_mutual_info_score.append(metrics.normalized_mutual_info_score(list_y,list_pr,average_method='arithmetic'))\n",
    "            v_measure_score.append(metrics.v_measure_score(list_y,list_pr))\n",
    "        except Exception as e:\n",
    "            print(e)\n",
    "            pass\n",
    "    from sklearn import metrics\n",
    "    f1 = metrics.f1_score(list_y_fscore,list_pr_fscore,average='micro')\n",
    "    clustering_name = ''\n",
    "    num_grams = '('+str(ngram)+',3)'\n",
    "    details = {'clustering_name':method_cl,'num_grams':num_grams,'epsilon':epsilon,\n",
    "                   'min_df':minimum,'max_df':maximum}\n",
    "    \n",
    "    try:\n",
    "        clustering_object =  {'f1_score':f1,'adjusted_mutual_info_score':statistics.mean(adjusted_mutual_info),'adjusted_rand_score':statistics.mean(adjusted_rand_score),\n",
    "                                'completeness_score':statistics.mean(completeness_score),'fowlkes_mallows_score':statistics.mean(fowlkes_mallows_score),\n",
    "                                'homogeneity_score':statistics.mean(homogeneity_score),'mutual_info_score':statistics.mean(mutual_info_score),\n",
    "                                'normalized_mutual_info_score':statistics.mean(normalized_mutual_info_score),\n",
    "                                 'v_measure_score':statistics.mean(v_measure_score)}\n",
    "\n",
    "        total_result = {'parameters':details,'clustering_object':clustering_object}\n",
    "        return json.dumps(total_result),return_df,specs_cluster_df\n",
    "    except Exception as e:\n",
    "        print(e)\n",
    "        return None\n",
    "    return None"
   ]
  },
  {
   "cell_type": "code",
   "execution_count": null,
   "metadata": {},
   "outputs": [],
   "source": [
    "df = df.sort_values(by=['Datetime'])"
   ]
  },
  {
   "cell_type": "markdown",
   "metadata": {},
   "source": [
    "# Evaluation Metrics"
   ]
  },
  {
   "cell_type": "code",
   "execution_count": null,
   "metadata": {},
   "outputs": [],
   "source": [
    "result1,map_df,cluster_spec_df = create_clusters(df,2,0.5,1,0,False,'dbscan')\n",
    "print(result1)\n",
    "result2,map_df2,cluster_spec_df2 = create_clusters(df,2,0.5,1,0,True,'dbscan')\n",
    "print(result2)"
   ]
  },
  {
   "cell_type": "code",
   "execution_count": null,
   "metadata": {},
   "outputs": [],
   "source": [
    "# final_df\n",
    "map_df2.to_csv(r'MapDataframeHourly.csv', index = False)\n",
    "cluster_spec_df.to_csv(r'ClusterSpecsHourly.csv', index = False)\n",
    "cluster_spec_df2.to_csv(r'ClusterSpecsHourlyWithCoord.csv', index = False)"
   ]
  },
  {
   "cell_type": "code",
   "execution_count": null,
   "metadata": {
    "scrolled": true
   },
   "outputs": [],
   "source": [
    "result3 = create_clusters_time_window(df,2,0.5,0,0,False,'dbscan')\n",
    "print(result3)\n",
    "result4 = create_clusters_time_window(df,2,0.5,0,0,True,'dbscan')\n",
    "print(result4)"
   ]
  },
  {
   "cell_type": "code",
   "execution_count": null,
   "metadata": {
    "scrolled": true
   },
   "outputs": [],
   "source": [
    "# result1 = create_clusters(df,2,0.5,1,0,False,'dbscan')\n",
    "# print(result1)\n",
    "result2 = create_clusters_time_window(df,2,0.4,1,0,True,'dbscan')\n",
    "print(result2)"
   ]
  },
  {
   "cell_type": "code",
   "execution_count": null,
   "metadata": {},
   "outputs": [],
   "source": [
    "result3 = create_clusters_time_window(df,2,0.5,1,0,True,'dbscan')\n",
    "print(result3)"
   ]
  },
  {
   "cell_type": "code",
   "execution_count": null,
   "metadata": {
    "scrolled": true
   },
   "outputs": [],
   "source": [
    "result2 = create_clusters(df,2,0.5,1,0,'hdbscan')\n",
    "print(result2)"
   ]
  },
  {
   "cell_type": "code",
   "execution_count": null,
   "metadata": {},
   "outputs": [],
   "source": [
    "result3 = create_clusters(df,2,0.5,1,0,'hierarchical')\n",
    "print(result3)"
   ]
  },
  {
   "cell_type": "code",
   "execution_count": null,
   "metadata": {},
   "outputs": [],
   "source": [
    "result4 = create_clusters(df,2,0.5,1,0,'kmeans')\n",
    "print(result4)"
   ]
  },
  {
   "cell_type": "code",
   "execution_count": null,
   "metadata": {},
   "outputs": [],
   "source": [
    "result5 = create_clusters(df,2,0.5,1,0,'affinity')\n",
    "print(result5)"
   ]
  },
  {
   "cell_type": "markdown",
   "metadata": {},
   "source": [
    "# Presentation of Clusters"
   ]
  },
  {
   "cell_type": "markdown",
   "metadata": {},
   "source": [
    "### Present clusters in time window of 30 seconds"
   ]
  },
  {
   "cell_type": "code",
   "execution_count": 203,
   "metadata": {},
   "outputs": [
    {
     "name": "stdout",
     "output_type": "stream",
     "text": [
      "time: 18 ms\n"
     ]
    }
   ],
   "source": [
    "from sklearn.preprocessing import StandardScaler\n",
    "import statistics\n",
    "def create_clusters_show_time_window(df,ngram,epsilon,mindf,maxdf,coordinates,method_cl):  \n",
    "    count = 0\n",
    "    count_labels = 0\n",
    "#     for k in range(0,len(list_date_minutes)-10):\n",
    "    for k in range(100):\n",
    "        try:\n",
    "            list_y = []\n",
    "            list_pr = []\n",
    "            \n",
    "#             dfchange = df.loc[df['DateHour']==current_date]\n",
    "            df1 = df.loc[df['Datetime']==list_date_minutes[k]]\n",
    "            df2 = df.loc[df['Datetime']==list_date_minutes[k+1]]\n",
    "            df3 = df.loc[df['Datetime']==list_date_minutes[k+2]]\n",
    "            df4 = df.loc[df['Datetime']==list_date_minutes[k+3]]\n",
    "            df5 = df.loc[df['Datetime']==list_date_minutes[k+4]]\n",
    "            df6 = df.loc[df['Datetime']==list_date_minutes[k+5]]\n",
    "            df7 = df.loc[df['Datetime']==list_date_minutes[k+6]]\n",
    "            df8 = df.loc[df['Datetime']==list_date_minutes[k+7]]\n",
    "            df9 = df.loc[df['Datetime']==list_date_minutes[k+8]]\n",
    "            df10 = df.loc[df['Datetime']==list_date_minutes[k+9]]\n",
    "            list_of_dataframes = [df1,df2,df3,df4,df5,df6,df7,df8,df9,df10]\n",
    "            dfchange = pd.concat(list_of_dataframes)\n",
    "            \n",
    "            tweets = dfchange.sort_values(by=['time'])\n",
    "            if coordinates == False:\n",
    "                tweetsContent = tweets.copy()[\"clean_data\"]\n",
    "            else:\n",
    "                tweetsContent = tweets.copy()['clean_data_coordinates']\n",
    "                \n",
    "            tfidf_object = getTfIdf(tweetsContent,dfchange.shape[0],ngram,3,mindf,maxdf)\n",
    "            tfidf = tfidf_object['tfidf_train_data_features']\n",
    "            minimum = tfidf_object['minimum']\n",
    "            maximum = tfidf_object['maximum']\n",
    "            list_sum = tfidf_object['sum']\n",
    "            tweets['sum'] = list_sum\n",
    "            noise_tweets = tweets.loc[tweets['sum']==0]\n",
    "            \n",
    "            print(\"Event\",count,\":\")\n",
    "            count+=1\n",
    "            print(\"Cluster_noise: \",noise_tweets.shape[0],\"False Negative:\",noise_tweets.loc[noise_tweets[\"Event\"]!=-1].shape[0])\n",
    "            \n",
    "            train_tweets = tweets.loc[tweets['sum']!=0]\n",
    "            print(\"Tweets: \",train_tweets.shape[0])\n",
    "            \n",
    "            if coordinates == False:\n",
    "                trainContent = train_tweets.copy()[\"clean_data\"]\n",
    "            else:\n",
    "                trainContent = train_tweets.copy()['clean_data_coordinates']\n",
    "            \n",
    "            headline_vectorizer = CountVectorizer(binary=True, min_df=1,ngram_range=(1,1))\n",
    "            tfidf = headline_vectorizer.fit_transform(trainContent)\n",
    "            \n",
    "            if (method_cl == 'dbscan'):\n",
    "                x_object = getDBSCAN(train_tweets,tfidf,epsilon)\n",
    "            elif (method_cl == 'hdbscan'):\n",
    "                x_object = getHDBSCAN(train_tweets,tfidf)\n",
    "            elif (method_cl == 'hierarchical'):\n",
    "                x_object = getHierarchical(train_tweets,tfidf)\n",
    "            elif (method_cl == 'kmeans'):\n",
    "                x_object = getKMeans(train_tweets,tfidf)\n",
    "            else:\n",
    "                x_object = getAffinity(train_tweets,tfidf)\n",
    "\n",
    "            candidate_cluster = x_object[\"clusters\"]\n",
    "            if (method_cl=='dbscan' or method_cl=='hdbscan'):\n",
    "                candidate_noise = x_object[\"noise_data\"]\n",
    "                candidate_noise_not = candidate_noise.loc[candidate_noise[\"Event\"]!=-1]\n",
    "                print(\"Total new noise:\",candidate_noise.shape[0],\"New False Negative:\",candidate_noise_not.shape[0])\n",
    "                for index,row in candidate_noise_not.iterrows():\n",
    "                    print(row[\"Event\"],\" \",end='')\n",
    "                print()\n",
    "                \n",
    "\n",
    "            candidate_labels= x_object[\"labels_pr\"]\n",
    "            \n",
    "            print(\"Number of Clusters:\",len(candidate_cluster))\n",
    "            for current_cluster in candidate_cluster:\n",
    "                print(\"Cluster Label:\",count_labels,current_cluster.shape[0])\n",
    "                pr_event = getLabel(current_cluster[\"Event\"])\n",
    "                for index,row in current_cluster.iterrows():\n",
    "#                     print(row[\"clean_data_coordinates\"],row[\"Event\"])\n",
    "                    print(row[\"Event\"],\" \",end='')\n",
    "                print()\n",
    "                count_labels+=1\n",
    "                \n",
    "        except Exception as e:\n",
    "            print('Hello',e)\n",
    "            pass"
   ]
  },
  {
   "cell_type": "markdown",
   "metadata": {},
   "source": [
    " ### Present clusters for every hour"
   ]
  },
  {
   "cell_type": "code",
   "execution_count": null,
   "metadata": {},
   "outputs": [],
   "source": [
    "from sklearn.preprocessing import StandardScaler\n",
    "import statistics\n",
    "def create_clusters_show(df,ngram,epsilon,mindf,maxdf,method_cl):  \n",
    "    count = 0\n",
    "    count_labels = 0\n",
    "#     for current_date in list_date_minutes[:-10]:\n",
    "    for k in range(0,len(list_date_minutes)-10):\n",
    "        try:\n",
    "            list_y = []\n",
    "            list_pr = []\n",
    "            \n",
    "            dfchange = df.loc[df['DateHour']==current_date]\n",
    "            tweets = dfchange.sort_values(by=['time'])\n",
    "            tweetsContent = tweets.copy()[\"clean_data\"]\n",
    "            tfidf_object = getTfIdf(tweetsContent,dfchange.shape[0],ngram,3,mindf,maxdf)\n",
    "            tfidf = tfidf_object['tfidf_train_data_features']\n",
    "            minimum = tfidf_object['minimum']\n",
    "            maximum = tfidf_object['maximum']\n",
    "            list_sum = tfidf_object['sum']\n",
    "            tweets['sum'] = list_sum\n",
    "            noise_tweets = tweets.loc[tweets['sum']==0]\n",
    "            \n",
    "            print(\"Event\",count,\":\")\n",
    "            count+=1\n",
    "            print(\"Cluster_noise: \",noise_tweets.shape[0],\"False Negative:\",noise_tweets.loc[noise_tweets[\"Event\"]!=-1].shape[0])\n",
    "            \n",
    "            train_tweets = tweets.loc[tweets['sum']!=0]\n",
    "            print(\"Tweets: \",train_tweets.shape[0])\n",
    "            trainContent = train_tweets.copy()[\"clean_data\"]\n",
    "            \n",
    "#             import pdb; pdb.set_trace()\n",
    "            headline_vectorizer = CountVectorizer(binary=True, min_df=1,ngram_range=(1,1))\n",
    "            tfidf = headline_vectorizer.fit_transform(trainContent)\n",
    "            \n",
    "            if (method_cl == 'dbscan'):\n",
    "                x_object = getDBSCAN(train_tweets,tfidf,epsilon)\n",
    "            elif (method_cl == 'hdbscan'):\n",
    "                x_object = getHDBSCAN(train_tweets,tfidf)\n",
    "            elif (method_cl == 'hierarchical'):\n",
    "                x_object = getHierarchical(train_tweets,tfidf)\n",
    "            elif (method_cl == 'kmeans'):\n",
    "                x_object = getKMeans(train_tweets,tfidf)\n",
    "            else:\n",
    "                x_object = getAffinity(train_tweets,tfidf)\n",
    "\n",
    "            candidate_cluster = x_object[\"clusters\"]\n",
    "            if (method_cl=='dbscan' or method_cl=='hdbscan'):\n",
    "                candidate_noise = x_object[\"noise_data\"]\n",
    "                candidate_noise_not = candidate_noise.loc[candidate_noise[\"Event\"]!=-1]\n",
    "                print(\"Total new noise:\",candidate_noise.shape[0],\"New False Negative:\",candidate_noise_not.shape[0])\n",
    "                for index,row in candidate_noise_not.iterrows():\n",
    "                    print(row[\"Event\"],\" \",end='')\n",
    "                print()\n",
    "                \n",
    "\n",
    "            candidate_labels= x_object[\"labels_pr\"]\n",
    "            \n",
    "            print(\"Number of Clusters:\",len(candidate_cluster))\n",
    "            for current_cluster in candidate_cluster:\n",
    "                print(\"Cluster Label:\",count_labels,current_cluster.shape[0])\n",
    "                pr_event = getLabel(current_cluster[\"Event\"])\n",
    "                for index,row in current_cluster.iterrows():\n",
    "                    print(row[\"Event\"],\" \",end='')\n",
    "                print()\n",
    "                count_labels+=1\n",
    "                \n",
    "        except Exception as e:\n",
    "            print(e)\n",
    "            pass"
   ]
  },
  {
   "cell_type": "code",
   "execution_count": 206,
   "metadata": {
    "scrolled": true
   },
   "outputs": [
    {
     "name": "stdout",
     "output_type": "stream",
     "text": [
      "Event 0 :\n",
      "Cluster_noise:  0 False Negative: 0\n",
      "Tweets:  258\n",
      "Total new noise: 167 New False Negative: 12\n",
      "487  487  386  19  19  382  75  75  383  75  386  394  \n",
      "Number of Clusters: 1\n",
      "Cluster Label: 0 91\n",
      "394  394  394  394  394  394  394  394  394  394  394  394  394  394  394  394  394  394  394  394  394  394  394  394  394  394  394  394  394  394  394  394  394  394  394  394  394  394  394  394  394  394  394  394  394  394  394  394  394  394  394  394  394  394  394  394  394  394  394  394  394  394  394  394  394  394  394  394  394  394  394  394  394  394  394  394  394  394  394  394  394  394  394  394  394  394  394  394  394  394  394  \n",
      "Event 1 :\n",
      "Cluster_noise:  0 False Negative: 0\n",
      "Tweets:  268\n",
      "Total new noise: 175 New False Negative: 12\n",
      "487  487  386  19  19  382  75  75  383  75  386  394  \n",
      "Number of Clusters: 1\n",
      "Cluster Label: 1 93\n",
      "394  394  394  394  394  394  394  394  394  394  394  394  394  394  394  394  394  394  394  394  394  394  394  394  394  394  394  394  394  394  394  394  394  394  394  394  394  394  394  394  394  394  394  394  394  394  394  394  394  394  394  394  394  394  394  394  394  394  394  394  394  394  394  394  394  394  394  394  394  394  394  394  394  394  394  394  394  394  394  394  394  394  394  394  394  394  394  394  394  394  394  394  394  \n",
      "Event 2 :\n",
      "Cluster_noise:  0 False Negative: 0\n",
      "Tweets:  270\n",
      "Total new noise: 179 New False Negative: 14\n",
      "487  487  386  19  19  382  75  75  383  75  386  394  487  487  \n",
      "Number of Clusters: 1\n",
      "Cluster Label: 2 91\n",
      "394  394  394  394  394  394  394  394  394  394  394  394  394  394  394  394  394  394  394  394  394  394  394  394  394  394  394  394  394  394  394  394  394  394  394  394  394  394  394  394  394  394  394  394  394  394  394  394  394  394  394  394  394  394  394  394  394  394  394  394  394  394  394  394  394  394  394  394  394  394  394  394  394  394  394  394  394  394  394  394  394  394  394  394  394  394  394  394  394  394  394  \n",
      "Event 3 :\n",
      "Cluster_noise:  0 False Negative: 0\n",
      "Tweets:  272\n",
      "Total new noise: 177 New False Negative: 14\n",
      "386  19  19  382  75  75  383  75  386  394  487  487  380  383  \n",
      "Number of Clusters: 1\n",
      "Cluster Label: 3 95\n",
      "394  394  394  394  394  394  394  394  394  394  394  394  394  394  394  394  394  394  394  394  394  394  394  394  394  394  394  394  394  394  394  394  394  394  394  394  394  394  394  394  394  394  394  394  394  394  394  394  394  394  394  394  394  394  394  394  394  394  394  394  394  394  394  394  394  394  394  394  394  394  394  394  394  394  394  394  394  394  394  394  394  394  394  394  394  394  394  394  394  394  394  394  394  394  394  \n",
      "Event 4 :\n",
      "Cluster_noise:  0 False Negative: 0\n",
      "Tweets:  279\n",
      "Total new noise: 186 New False Negative: 15\n",
      "19  19  382  75  75  383  75  386  394  487  487  380  383  394  394  \n",
      "Number of Clusters: 1\n",
      "Cluster Label: 4 93\n",
      "394  394  394  394  394  394  394  394  394  394  394  394  394  394  394  394  394  394  394  394  394  394  394  394  394  394  394  394  394  394  394  394  394  394  394  394  394  394  394  394  394  394  394  394  394  394  394  394  394  394  394  394  394  394  394  394  394  394  394  394  394  394  394  394  394  394  394  394  394  394  394  394  394  394  394  394  394  394  394  394  394  394  394  394  394  394  394  394  394  394  394  394  394  \n",
      "Event 5 :\n",
      "Cluster_noise:  0 False Negative: 0\n",
      "Tweets:  273\n",
      "Total new noise: 184 New False Negative: 14\n",
      "382  75  75  383  75  386  394  487  487  380  383  394  394  75  \n",
      "Number of Clusters: 1\n",
      "Cluster Label: 5 89\n",
      "394  394  394  394  394  394  394  394  394  394  394  394  394  394  394  394  394  394  394  394  394  394  394  394  394  394  394  394  394  394  394  394  394  394  394  394  394  394  394  394  394  394  394  394  394  394  394  394  394  394  394  394  394  394  394  394  394  394  394  394  394  394  394  394  394  394  394  394  394  394  394  394  394  394  394  394  394  394  394  394  394  394  394  394  394  394  394  394  394  \n",
      "Event 6 :\n",
      "Cluster_noise:  0 False Negative: 0\n",
      "Tweets:  264\n",
      "Total new noise: 179 New False Negative: 16\n",
      "382  75  75  383  75  386  394  487  487  380  383  394  394  75  487  487  \n",
      "Number of Clusters: 1\n",
      "Cluster Label: 6 85\n",
      "394  394  394  394  394  394  394  394  394  394  394  394  394  394  394  394  394  394  394  394  394  394  394  394  394  394  394  394  394  394  394  394  394  394  394  394  394  394  394  394  394  394  394  394  394  394  394  394  394  394  394  394  394  394  394  394  394  394  394  394  394  394  394  394  394  394  394  394  394  394  394  394  394  394  394  394  394  394  394  394  394  394  394  394  394  \n",
      "Event 7 :\n",
      "Cluster_noise:  0 False Negative: 0\n",
      "Tweets:  256\n",
      "Total new noise: 185 New False Negative: 19\n",
      "75  75  383  75  386  394  394  487  487  380  383  394  394  394  75  487  487  394  394  \n",
      "Number of Clusters: 1\n",
      "Cluster Label: 7 71\n",
      "394  394  394  394  394  394  394  394  394  394  394  394  394  394  394  394  394  394  394  394  394  394  394  394  394  394  394  394  394  394  394  394  394  394  394  394  394  394  394  394  394  394  394  394  394  394  394  394  394  394  394  394  394  394  394  394  394  394  394  394  394  394  394  394  394  394  394  394  394  394  394  \n",
      "Event 8 :\n",
      "Cluster_noise:  0 False Negative: 0\n",
      "Tweets:  311\n",
      "Total new noise: 180 New False Negative: 19\n",
      "383  75  386  394  394  394  394  487  487  380  383  394  394  394  75  487  487  501  501  \n",
      "Number of Clusters: 3\n",
      "Cluster Label: 8 65\n",
      "394  394  394  394  394  394  394  394  394  394  394  394  394  394  394  394  394  394  394  394  394  394  394  394  394  394  394  394  394  394  394  394  394  394  394  394  394  394  394  394  394  394  394  394  394  394  394  394  394  394  394  394  394  394  394  394  394  394  394  394  394  394  394  394  394  \n",
      "Cluster Label: 9 18\n",
      "394  394  394  394  394  394  394  394  394  394  394  394  394  394  394  394  394  394  \n",
      "Cluster Label: 10 48\n",
      "501  501  501  501  501  501  501  501  501  501  501  501  501  501  501  501  501  501  501  501  501  501  501  501  501  501  501  501  501  501  501  501  501  501  501  501  501  501  501  501  501  501  501  501  501  501  501  501  \n",
      "Event 9 :\n",
      "Cluster_noise:  0 False Negative: 0\n",
      "Tweets:  351\n",
      "Total new noise: 189 New False Negative: 15\n",
      "487  487  380  383  394  394  394  75  487  487  501  501  394  501  501  \n",
      "Number of Clusters: 3\n",
      "Cluster Label: 11 62\n",
      "394  394  394  394  394  394  394  394  394  394  394  394  394  394  394  394  394  394  394  394  394  394  394  394  394  394  394  394  394  394  394  394  394  394  394  394  394  394  394  394  394  394  394  394  394  394  394  394  394  394  394  394  394  394  394  394  394  394  394  394  394  394  \n",
      "Cluster Label: 12 18\n",
      "394  394  394  394  394  394  394  394  394  394  394  394  394  394  394  394  394  394  \n",
      "Cluster Label: 13 82\n",
      "501  501  501  501  501  501  501  501  501  501  501  501  501  501  501  501  501  501  501  501  501  501  501  501  501  501  501  501  501  501  501  501  501  501  501  501  501  501  501  501  501  501  501  501  501  501  501  501  501  501  501  501  501  501  501  501  501  501  501  501  501  501  501  501  501  501  501  501  501  501  501  501  501  501  501  501  501  501  501  501  501  501  \n",
      "Event 10 :\n",
      "Cluster_noise:  0 False Negative: 0\n",
      "Tweets:  357\n",
      "Total new noise: 187 New False Negative: 16\n",
      "487  487  380  383  394  394  394  75  487  487  501  501  394  501  501  382  \n",
      "Number of Clusters: 3\n",
      "Cluster Label: 14 54\n",
      "394  394  394  394  394  394  394  394  394  394  394  394  394  394  394  394  394  394  394  394  394  394  394  394  394  394  394  394  394  394  394  394  394  394  394  394  394  394  394  394  394  394  394  394  394  394  394  394  394  394  394  394  394  394  \n",
      "Cluster Label: 15 18\n",
      "394  394  394  394  394  394  394  394  394  394  394  394  394  394  394  394  394  394  \n",
      "Cluster Label: 16 98\n",
      "501  501  501  501  501  501  501  501  501  501  501  501  501  501  501  501  501  501  501  501  501  501  501  501  501  501  501  501  501  501  501  501  501  501  501  501  501  501  501  501  501  501  501  501  501  501  501  501  501  501  501  501  501  501  501  501  501  501  501  501  501  501  501  501  501  501  501  501  501  501  501  501  501  501  501  501  501  501  501  501  501  501  501  501  501  501  501  501  501  501  501  501  501  501  501  501  501  501  \n"
     ]
    },
    {
     "name": "stdout",
     "output_type": "stream",
     "text": [
      "Event 11 :\n",
      "Cluster_noise:  0 False Negative: 0\n",
      "Tweets:  374\n",
      "Total new noise: 190 New False Negative: 20\n",
      "487  487  380  383  394  394  394  75  487  487  501  501  394  501  501  382  394  394  394  394  \n",
      "Number of Clusters: 3\n",
      "Cluster Label: 17 48\n",
      "394  394  394  394  394  394  394  394  394  394  394  394  394  394  394  394  394  394  394  394  394  394  394  394  394  394  394  394  394  394  394  394  394  394  394  394  394  394  394  394  394  394  394  394  394  394  394  394  \n",
      "Cluster Label: 18 18\n",
      "394  394  394  394  394  394  394  394  394  394  394  394  394  394  394  394  394  394  \n",
      "Cluster Label: 19 118\n",
      "501  501  501  501  501  501  501  501  501  501  501  501  501  501  501  501  501  501  501  501  501  501  501  501  501  501  501  501  501  501  501  501  501  501  501  501  501  501  501  501  501  501  501  501  501  501  501  501  501  501  501  501  501  501  501  501  501  501  501  501  501  501  501  501  501  501  501  501  501  501  501  501  501  501  501  501  501  501  501  501  501  501  501  501  501  501  501  501  501  501  501  501  501  501  501  501  501  501  501  501  501  501  501  501  501  501  501  501  501  501  501  501  501  501  501  501  501  501  \n",
      "Event 12 :\n",
      "Cluster_noise:  0 False Negative: 0\n",
      "Tweets:  385\n",
      "Total new noise: 187 New False Negative: 20\n",
      "380  383  394  394  394  75  487  487  501  501  394  501  501  382  394  394  394  394  501  501  \n",
      "Number of Clusters: 3\n",
      "Cluster Label: 20 54\n",
      "394  394  394  394  394  394  394  394  394  394  394  394  394  394  394  394  394  394  394  394  394  394  394  394  394  394  394  394  394  394  394  394  394  394  394  394  394  394  394  394  394  394  394  394  394  394  394  394  394  394  394  394  394  394  \n",
      "Cluster Label: 21 18\n",
      "394  394  394  394  394  394  394  394  394  394  394  394  394  394  394  394  394  394  \n",
      "Cluster Label: 22 126\n",
      "501  501  501  501  501  501  501  501  501  501  501  501  501  501  501  501  501  501  501  501  501  501  501  501  501  501  501  501  501  501  501  501  501  501  501  501  501  501  501  501  501  501  501  501  501  501  501  501  501  501  501  501  501  501  501  501  501  501  501  501  501  501  501  501  501  501  501  501  501  501  501  501  501  501  501  501  501  501  501  501  501  501  501  501  501  501  501  501  501  501  501  501  501  501  501  501  501  501  501  501  501  501  501  501  501  501  501  501  501  501  501  501  501  501  501  501  501  501  501  501  501  501  501  501  501  501  \n",
      "Event 13 :\n",
      "Cluster_noise:  0 False Negative: 0\n",
      "Tweets:  452\n",
      "Total new noise: 189 New False Negative: 17\n",
      "394  394  75  487  487  501  394  394  501  501  382  394  394  394  394  501  501  \n",
      "Number of Clusters: 4\n",
      "Cluster Label: 23 46\n",
      "394  394  394  394  394  394  394  394  394  394  394  394  394  394  394  394  394  394  394  394  394  394  394  394  394  394  394  394  394  394  394  394  394  394  394  394  394  394  394  394  394  394  394  394  394  394  \n",
      "Cluster Label: 24 18\n",
      "394  394  394  394  394  394  394  394  394  394  394  394  394  394  394  394  394  394  \n",
      "Cluster Label: 25 129\n",
      "501  501  501  501  501  501  501  501  501  501  501  501  501  501  501  501  501  501  501  501  501  501  501  501  501  501  501  501  501  501  501  501  501  501  501  501  501  501  501  501  501  501  501  501  501  501  501  501  501  501  501  501  501  501  501  501  501  501  501  501  501  501  501  501  501  501  501  501  501  501  501  501  501  501  501  501  501  501  501  501  501  501  501  501  501  501  501  501  501  501  501  501  501  501  501  501  501  501  501  501  501  501  501  501  501  501  501  501  501  501  501  501  501  501  501  501  501  501  501  501  501  501  501  501  501  501  501  501  501  \n",
      "Cluster Label: 26 70\n",
      "19  19  19  19  19  19  19  19  19  19  19  19  19  19  19  19  19  19  19  19  19  19  19  19  19  19  19  19  19  19  19  19  19  19  19  19  19  19  19  19  19  19  19  19  19  19  19  19  19  19  19  19  19  19  19  19  19  19  19  19  19  19  19  19  19  19  19  19  19  19  \n",
      "Event 14 :\n",
      "Cluster_noise:  0 False Negative: 0\n",
      "Tweets:  537\n",
      "Total new noise: 181 New False Negative: 14\n",
      "75  487  487  501  394  501  501  382  394  394  394  394  501  501  \n",
      "Number of Clusters: 4\n",
      "Cluster Label: 27 47\n",
      "394  394  394  394  394  394  394  394  394  394  394  394  394  394  394  394  394  394  394  394  394  394  394  394  394  394  394  394  394  394  394  394  394  394  394  394  394  394  394  394  394  394  394  394  394  394  394  \n",
      "Cluster Label: 28 18\n",
      "394  394  394  394  394  394  394  394  394  394  394  394  394  394  394  394  394  394  \n",
      "Cluster Label: 29 131\n",
      "501  501  501  501  501  501  501  501  501  501  501  501  501  501  501  501  501  501  501  501  501  501  501  501  501  501  501  501  501  501  501  501  501  501  501  501  501  501  501  501  501  501  501  501  501  501  501  501  501  501  501  501  501  501  501  501  501  501  501  501  501  501  501  501  501  501  501  501  501  501  501  501  501  501  501  501  501  501  501  501  501  501  501  501  501  501  501  501  501  501  501  501  501  501  501  501  501  501  501  501  501  501  501  501  501  501  501  501  501  501  501  501  501  501  501  501  501  501  501  501  501  501  501  501  501  501  501  501  501  501  501  \n",
      "Cluster Label: 30 160\n",
      "19  19  19  19  19  19  19  19  19  19  19  19  19  19  19  19  19  19  19  19  19  19  19  19  19  19  19  19  19  19  19  19  19  19  19  19  19  19  19  19  19  19  19  19  19  19  19  19  19  19  19  19  19  19  19  19  19  19  19  19  19  19  19  19  19  19  19  19  19  19  19  19  19  19  19  19  19  19  19  19  19  19  19  19  19  19  19  19  19  19  19  19  19  19  19  19  19  19  19  19  19  19  19  19  19  19  19  19  19  19  19  19  19  19  19  19  19  19  19  19  19  19  19  19  19  19  19  19  19  19  19  19  19  19  19  19  19  19  19  19  19  19  19  19  19  19  19  19  19  19  19  19  19  19  19  19  19  19  19  19  \n",
      "Event 15 :\n",
      "Cluster_noise:  0 False Negative: 0\n",
      "Tweets:  603\n",
      "Total new noise: 196 New False Negative: 19\n",
      "487  487  501  394  501  501  382  394  394  394  394  501  501  394  394  382  383  394  75  \n",
      "Number of Clusters: 4\n",
      "Cluster Label: 31 48\n",
      "394  394  394  394  394  394  394  394  394  394  394  394  394  394  394  394  394  394  394  394  394  394  394  394  394  394  394  394  394  394  394  394  394  394  394  394  394  394  394  394  394  394  394  394  394  394  394  394  \n",
      "Cluster Label: 32 18\n",
      "394  394  394  394  394  394  394  394  394  394  394  394  394  394  394  394  394  394  \n",
      "Cluster Label: 33 133\n",
      "501  501  501  501  501  501  501  501  501  501  501  501  501  501  501  501  501  501  501  501  501  501  501  501  501  501  501  501  501  501  501  501  501  501  501  501  501  501  501  501  501  501  501  501  501  501  501  501  501  501  501  501  501  501  501  501  501  501  501  501  501  501  501  501  501  501  501  501  501  501  501  501  501  501  501  501  501  501  501  501  501  501  501  501  501  501  501  501  501  501  501  501  501  501  501  501  501  501  501  501  501  501  501  501  501  501  501  501  501  501  501  501  501  501  501  501  501  501  501  501  501  501  501  501  501  501  501  501  501  501  501  501  501  \n",
      "Cluster Label: 34 208\n",
      "19  19  19  19  19  19  19  19  19  19  19  19  19  19  19  19  19  19  19  19  19  19  19  19  19  19  19  19  19  19  19  19  19  19  19  19  19  19  19  19  19  19  19  19  19  19  19  19  19  19  19  19  19  19  19  19  19  19  19  19  19  19  19  19  19  19  19  19  19  19  19  19  19  19  19  19  19  19  19  19  19  19  19  19  19  19  19  19  19  19  19  19  19  19  19  19  19  19  19  19  19  19  19  19  19  19  19  19  19  19  19  19  19  19  19  19  19  19  19  19  19  19  19  19  19  19  19  19  19  19  19  19  19  19  19  19  19  19  19  19  19  19  19  19  19  19  19  19  19  19  19  19  19  19  19  19  19  19  19  19  19  19  19  19  19  19  19  19  19  19  19  19  19  19  19  19  19  19  19  19  19  19  19  19  19  19  19  19  19  19  19  19  19  19  19  19  19  19  19  19  19  19  19  19  19  19  19  19  \n",
      "Event 16 :\n",
      "Cluster_noise:  0 False Negative: 0\n",
      "Tweets:  636\n",
      "Total new noise: 193 New False Negative: 17\n",
      "501  394  501  501  382  394  394  394  394  501  501  394  394  382  383  394  75  \n",
      "Number of Clusters: 4\n",
      "Cluster Label: 35 50\n"
     ]
    },
    {
     "name": "stdout",
     "output_type": "stream",
     "text": [
      "394  394  394  394  394  394  394  394  394  394  394  394  394  394  394  394  394  394  394  394  394  394  394  394  394  394  394  394  394  394  394  394  394  394  394  394  394  394  394  394  394  394  394  394  394  394  394  394  394  394  \n",
      "Cluster Label: 36 18\n",
      "394  394  394  394  394  394  394  394  394  394  394  394  394  394  394  394  394  394  \n",
      "Cluster Label: 37 133\n",
      "501  501  501  501  501  501  501  501  501  501  501  501  501  501  501  501  501  501  501  501  501  501  501  501  501  501  501  501  501  501  501  501  501  501  501  501  501  501  501  501  501  501  501  501  501  501  501  501  501  501  501  501  501  501  501  501  501  501  501  501  501  501  501  501  501  501  501  501  501  501  501  501  501  501  501  501  501  501  501  501  501  501  501  501  501  501  501  501  501  501  501  501  501  501  501  501  501  501  501  501  501  501  501  501  501  501  501  501  501  501  501  501  501  501  501  501  501  501  501  501  501  501  501  501  501  501  501  501  501  501  501  501  501  \n",
      "Cluster Label: 38 242\n",
      "19  19  19  19  19  19  19  19  19  19  19  19  19  19  19  19  19  19  19  19  19  19  19  19  19  19  19  19  19  19  19  19  19  19  19  19  19  19  19  19  19  19  19  19  19  19  19  19  19  19  19  19  19  19  19  19  19  19  19  19  19  19  19  19  19  19  19  19  19  19  19  19  19  19  19  19  19  19  19  19  19  19  19  19  19  19  19  19  19  19  19  19  19  19  19  19  19  19  19  19  19  19  19  19  19  19  19  19  19  19  19  19  19  19  19  19  19  19  19  19  19  19  19  19  19  19  19  19  19  19  19  19  19  19  19  19  19  19  19  19  19  19  19  19  19  19  19  19  19  19  19  19  19  19  19  19  19  19  19  19  19  19  19  19  19  19  19  19  19  19  19  19  19  19  19  19  19  19  19  19  19  19  19  19  19  19  19  19  19  19  19  19  19  19  19  19  19  19  19  19  19  19  19  19  19  19  19  19  19  19  19  19  19  19  19  19  19  19  19  19  19  19  19  19  19  19  19  19  19  19  19  19  19  19  19  19  19  19  19  19  19  19  \n",
      "Event 17 :\n",
      "Cluster_noise:  0 False Negative: 0\n",
      "Tweets:  652\n",
      "Total new noise: 197 New False Negative: 17\n",
      "501  394  501  501  382  394  394  394  394  501  501  394  394  382  383  394  75  \n",
      "Number of Clusters: 4\n",
      "Cluster Label: 39 50\n",
      "394  394  394  394  394  394  394  394  394  394  394  394  394  394  394  394  394  394  394  394  394  394  394  394  394  394  394  394  394  394  394  394  394  394  394  394  394  394  394  394  394  394  394  394  394  394  394  394  394  394  \n",
      "Cluster Label: 40 16\n",
      "394  394  394  394  394  394  394  394  394  394  394  394  394  394  394  394  \n",
      "Cluster Label: 41 133\n",
      "501  501  501  501  501  501  501  501  501  501  501  501  501  501  501  501  501  501  501  501  501  501  501  501  501  501  501  501  501  501  501  501  501  501  501  501  501  501  501  501  501  501  501  501  501  501  501  501  501  501  501  501  501  501  501  501  501  501  501  501  501  501  501  501  501  501  501  501  501  501  501  501  501  501  501  501  501  501  501  501  501  501  501  501  501  501  501  501  501  501  501  501  501  501  501  501  501  501  501  501  501  501  501  501  501  501  501  501  501  501  501  501  501  501  501  501  501  501  501  501  501  501  501  501  501  501  501  501  501  501  501  501  501  \n",
      "Cluster Label: 42 256\n",
      "19  19  19  19  19  19  19  19  19  19  19  19  19  19  19  19  19  19  19  19  19  19  19  19  19  19  19  19  19  19  19  19  19  19  19  19  19  19  19  19  19  19  19  19  19  19  19  19  19  19  19  19  19  19  19  19  19  19  19  19  19  19  19  19  19  19  19  19  19  19  19  19  19  19  19  19  19  19  19  19  19  19  19  19  19  19  19  19  19  19  19  19  19  19  19  19  19  19  19  19  19  19  19  19  19  19  19  19  19  19  19  19  19  19  19  19  19  19  19  19  19  19  19  19  19  19  19  19  19  19  19  19  19  19  19  19  19  19  19  19  19  19  19  19  19  19  19  19  19  19  19  19  19  19  19  19  19  19  19  19  19  19  19  19  19  19  19  19  19  19  19  19  19  19  19  19  19  19  19  19  19  19  19  19  19  19  19  19  19  19  19  19  19  19  19  19  19  19  19  19  19  19  19  19  19  19  19  19  19  19  19  19  19  19  19  19  19  19  19  19  19  19  19  19  19  19  19  19  19  19  19  19  19  19  19  19  19  19  19  19  19  19  19  19  19  19  19  19  19  19  19  19  19  19  19  19  \n",
      "Event 18 :\n",
      "Cluster_noise:  0 False Negative: 0\n",
      "Tweets:  593\n",
      "Total new noise: 198 New False Negative: 17\n",
      "501  501  501  501  382  394  394  394  394  501  501  394  394  382  383  394  75  \n",
      "Number of Clusters: 3\n",
      "Cluster Label: 43 86\n",
      "501  501  501  501  501  501  501  501  501  501  501  501  501  501  501  501  501  501  501  501  501  501  501  501  501  501  501  501  501  501  501  501  501  501  501  501  501  501  501  501  501  501  501  501  501  501  501  501  501  501  501  501  501  501  501  501  501  501  501  501  501  501  501  501  501  501  501  501  501  501  501  501  501  501  501  501  501  501  501  501  501  501  501  501  501  501  \n",
      "Cluster Label: 44 47\n",
      "394  394  394  394  394  394  394  394  394  394  394  394  394  394  394  394  394  394  394  394  394  394  394  394  394  394  394  394  394  394  394  394  394  394  394  394  394  394  394  394  394  394  394  394  394  394  394  \n",
      "Cluster Label: 45 262\n",
      "19  19  19  19  19  19  19  19  19  19  19  19  19  19  19  19  19  19  19  19  19  19  19  19  19  19  19  19  19  19  19  19  19  19  19  19  19  19  19  19  19  19  19  19  19  19  19  19  19  19  19  19  19  19  19  19  19  19  19  19  19  19  19  19  19  19  19  19  19  19  19  19  19  19  19  19  19  19  19  19  19  19  19  19  19  19  19  19  19  19  19  19  19  19  19  19  19  19  19  19  19  19  19  19  19  19  19  19  19  19  19  19  19  19  19  19  19  19  19  19  19  19  19  19  19  19  19  19  19  19  19  19  19  19  19  19  19  19  19  19  19  19  19  19  19  19  19  19  19  19  19  19  19  19  19  19  19  19  19  19  19  19  19  19  19  19  19  19  19  19  19  19  19  19  19  19  19  19  19  19  19  19  19  19  19  19  19  19  19  19  19  19  19  19  19  19  19  19  19  19  19  19  19  19  19  19  19  19  19  19  19  19  19  19  19  19  19  19  19  19  19  19  19  19  19  19  19  19  19  19  19  19  19  19  19  19  19  19  19  19  19  19  19  19  19  19  19  19  19  19  19  19  19  19  19  19  19  19  19  19  19  19  \n",
      "Event 19 :\n",
      "Cluster_noise:  0 False Negative: 0\n",
      "Tweets:  571\n",
      "Total new noise: 193 New False Negative: 14\n",
      "382  394  394  394  394  501  501  394  394  382  383  394  75  501  \n",
      "Number of Clusters: 3\n",
      "Cluster Label: 46 55\n",
      "501  501  501  501  501  501  501  501  501  501  501  501  501  501  501  501  501  501  501  501  501  501  501  501  501  501  501  501  501  501  501  501  501  501  501  501  501  501  501  501  501  501  501  501  501  501  501  501  501  501  501  501  501  501  501  \n",
      "Cluster Label: 47 51\n",
      "394  394  394  394  394  394  394  394  394  394  394  394  394  394  394  394  394  394  394  394  394  394  394  394  394  394  394  394  394  394  394  394  394  394  394  394  394  394  394  394  394  394  394  394  394  394  394  394  394  394  394  \n",
      "Cluster Label: 48 272\n",
      "19  19  19  19  19  19  19  19  19  19  19  19  19  19  19  19  19  19  19  19  19  19  19  19  19  19  19  19  19  19  19  19  19  19  19  19  19  19  19  19  19  19  19  19  19  19  19  19  19  19  19  19  19  19  19  19  19  19  19  19  19  19  19  19  19  19  19  19  19  19  19  19  19  19  19  19  19  19  19  19  19  19  19  19  19  19  19  19  19  19  19  19  19  19  19  19  19  19  19  19  19  19  19  19  19  19  19  19  19  19  19  19  19  19  19  19  19  19  19  19  19  19  19  19  19  19  19  19  19  19  19  19  19  19  19  19  19  19  19  19  19  19  19  19  19  19  19  19  19  19  19  19  19  19  19  19  19  19  19  19  19  19  19  19  19  19  19  19  19  19  19  19  19  19  19  19  19  19  19  19  19  19  19  19  19  19  19  19  19  19  19  19  19  19  19  19  19  19  19  19  19  19  19  19  19  19  19  19  19  19  19  19  19  19  19  19  19  19  19  19  19  19  19  19  19  19  19  19  19  19  19  19  19  19  19  19  19  19  19  19  19  19  19  19  19  19  19  19  19  19  19  19  19  19  19  19  19  19  19  19  19  19  19  19  19  19  19  19  19  19  19  19  \n"
     ]
    },
    {
     "name": "stdout",
     "output_type": "stream",
     "text": [
      "Event 20 :\n",
      "Cluster_noise:  0 False Negative: 0\n",
      "Tweets:  561\n",
      "Total new noise: 199 New False Negative: 20\n",
      "394  394  394  394  501  501  501  501  394  394  382  383  394  75  501  501  394  394  501  75  \n",
      "Number of Clusters: 3\n",
      "Cluster Label: 49 35\n",
      "501  501  501  501  501  501  501  501  501  501  501  501  501  501  501  501  501  501  501  501  501  501  501  501  501  501  501  501  501  501  501  501  501  501  501  \n",
      "Cluster Label: 50 51\n",
      "394  394  394  394  394  394  394  394  394  394  394  394  394  394  394  394  394  394  394  394  394  394  394  394  394  394  394  394  394  394  394  394  394  394  394  394  394  394  394  394  394  394  394  394  394  394  394  394  394  394  394  \n",
      "Cluster Label: 51 276\n",
      "19  19  19  19  19  19  19  19  19  19  19  19  19  19  19  19  19  19  19  19  19  19  19  19  19  19  19  19  19  19  19  19  19  19  19  19  19  19  19  19  19  19  19  19  19  19  19  19  19  19  19  19  19  19  19  19  19  19  19  19  19  19  19  19  19  19  19  19  19  19  19  19  19  19  19  19  19  19  19  19  19  19  19  19  19  19  19  19  19  19  19  19  19  19  19  19  19  19  19  19  19  19  19  19  19  19  19  19  19  19  19  19  19  19  19  19  19  19  19  19  19  19  19  19  19  19  19  19  19  19  19  19  19  19  19  19  19  19  19  19  19  19  19  19  19  19  19  19  19  19  19  19  19  19  19  19  19  19  19  19  19  19  19  19  19  19  19  19  19  19  19  19  19  19  19  19  19  19  19  19  19  19  19  19  19  19  19  19  19  19  19  19  19  19  19  19  19  19  19  19  19  19  19  19  19  19  19  19  19  19  19  19  19  19  19  19  19  19  19  19  19  19  19  19  19  19  19  19  19  19  19  19  19  19  19  19  19  19  19  19  19  19  19  19  19  19  19  19  19  19  19  19  19  19  19  19  19  19  19  19  19  19  19  19  19  19  19  19  19  19  19  19  19  19  19  19  \n",
      "Event 21 :\n",
      "Cluster_noise:  0 False Negative: 0\n",
      "Tweets:  550\n",
      "Total new noise: 210 New False Negative: 29\n",
      "501  501  501  501  501  501  394  394  382  383  394  501  501  75  501  501  501  394  394  501  501  75  394  394  75  75  394  394  75  \n",
      "Number of Clusters: 3\n",
      "Cluster Label: 52 53\n",
      "394  394  394  394  394  394  394  394  394  394  394  394  394  394  394  394  394  394  394  394  394  394  394  394  394  394  394  394  394  394  394  394  394  394  394  394  394  394  394  394  394  394  394  394  394  394  394  394  394  394  394  394  394  \n",
      "Cluster Label: 53 9\n",
      "501  501  501  501  501  501  501  501  501  \n",
      "Cluster Label: 54 278\n",
      "19  19  19  19  19  19  19  19  19  19  19  19  19  19  19  19  19  19  19  19  19  19  19  19  19  19  19  19  19  19  19  19  19  19  19  19  19  19  19  19  19  19  19  19  19  19  19  19  19  19  19  19  19  19  19  19  19  19  19  19  19  19  19  19  19  19  19  19  19  19  19  19  19  19  19  19  19  19  19  19  19  19  19  19  19  19  19  19  19  19  19  19  19  19  19  19  19  19  19  19  19  19  19  19  19  19  19  19  19  19  19  19  19  19  19  19  19  19  19  19  19  19  19  19  19  19  19  19  19  19  19  19  19  19  19  19  19  19  19  19  19  19  19  19  19  19  19  19  19  19  19  19  19  19  19  19  19  19  19  19  19  19  19  19  19  19  19  19  19  19  19  19  19  19  19  19  19  19  19  19  19  19  19  19  19  19  19  19  19  19  19  19  19  19  19  19  19  19  19  19  19  19  19  19  19  19  19  19  19  19  19  19  19  19  19  19  19  19  19  19  19  19  19  19  19  19  19  19  19  19  19  19  19  19  19  19  19  19  19  19  19  19  19  19  19  19  19  19  19  19  19  19  19  19  19  19  19  19  19  19  19  19  19  19  19  19  19  19  19  19  19  19  19  19  19  19  19  19  \n",
      "Event 22 :\n",
      "Cluster_noise:  0 False Negative: 0\n",
      "Tweets:  553\n",
      "Total new noise: 230 New False Negative: 28\n",
      "501  501  501  501  394  394  382  383  394  501  501  75  501  501  501  501  394  394  501  501  75  394  394  75  75  394  394  75  \n",
      "Number of Clusters: 2\n",
      "Cluster Label: 55 278\n",
      "19  19  19  19  19  19  19  19  19  19  19  19  19  19  19  19  19  19  19  19  19  19  19  19  19  19  19  19  19  19  19  19  19  19  19  19  19  19  19  19  19  19  19  19  19  19  19  19  19  19  19  19  19  19  19  19  19  19  19  19  19  19  19  19  19  19  19  19  19  19  19  19  19  19  19  19  19  19  19  19  19  19  19  19  19  19  19  19  19  19  19  19  19  19  19  19  19  19  19  19  19  19  19  19  19  19  19  19  19  19  19  19  19  19  19  19  19  19  19  19  19  19  19  19  19  19  19  19  19  19  19  19  19  19  19  19  19  19  19  19  19  19  19  19  19  19  19  19  19  19  19  19  19  19  19  19  19  19  19  19  19  19  19  19  19  19  19  19  19  19  19  19  19  19  19  19  19  19  19  19  19  19  19  19  19  19  19  19  19  19  19  19  19  19  19  19  19  19  19  19  19  19  19  19  19  19  19  19  19  19  19  19  19  19  19  19  19  19  19  19  19  19  19  19  19  19  19  19  19  19  19  19  19  19  19  19  19  19  19  19  19  19  19  19  19  19  19  19  19  19  19  19  19  19  19  19  19  19  19  19  19  19  19  19  19  19  19  19  19  19  19  19  19  19  19  19  19  19  \n",
      "Cluster Label: 56 45\n",
      "394  394  394  394  394  394  394  394  394  394  394  394  394  394  394  394  394  394  394  394  394  394  394  394  394  394  394  394  394  394  394  394  394  394  394  394  394  394  394  394  394  394  394  394  394  \n",
      "Event 23 :\n",
      "Cluster_noise:  0 False Negative: 0\n",
      "Tweets:  485\n",
      "Total new noise: 228 New False Negative: 30\n",
      "501  501  394  394  382  383  394  394  501  501  75  19  501  501  501  501  394  394  501  501  75  394  394  75  75  394  394  75  75  75  \n",
      "Number of Clusters: 2\n",
      "Cluster Label: 57 213\n",
      "19  19  19  19  19  19  19  19  19  19  19  19  19  19  19  19  19  19  19  19  19  19  19  19  19  19  19  19  19  19  19  19  19  19  19  19  19  19  19  19  19  19  19  19  19  19  19  19  19  19  19  19  19  19  19  19  19  19  19  19  19  19  19  19  19  19  19  19  19  19  19  19  19  19  19  19  19  19  19  19  19  19  19  19  19  19  19  19  19  19  19  19  19  19  19  19  19  19  19  19  19  19  19  19  19  19  19  19  19  19  19  19  19  19  19  19  19  19  19  19  19  19  19  19  19  19  19  19  19  19  19  19  19  19  19  19  19  19  19  19  19  19  19  19  19  19  19  19  19  19  19  19  19  19  19  19  19  19  19  19  19  19  19  19  19  19  19  19  19  19  19  19  19  19  19  19  19  19  19  19  19  19  19  19  19  19  19  19  19  19  19  19  19  19  19  19  19  19  19  19  19  19  19  19  19  19  19  19  19  19  19  19  19  \n",
      "Cluster Label: 58 44\n",
      "394  394  394  394  394  394  394  394  394  394  394  394  394  394  394  394  394  394  394  394  394  394  394  394  394  394  394  394  394  394  394  394  394  394  394  394  394  394  394  394  394  394  394  394  \n",
      "Event 24 :\n",
      "Cluster_noise:  0 False Negative: 0\n",
      "Tweets:  397\n",
      "Total new noise: 227 New False Negative: 31\n",
      "394  394  382  383  394  394  501  501  75  19  19  394  394  501  501  501  501  394  394  501  501  75  394  394  75  75  394  394  75  75  75  \n",
      "Number of Clusters: 2\n",
      "Cluster Label: 59 130\n",
      "19  19  19  19  19  19  19  19  19  19  19  19  19  19  19  19  19  19  19  19  19  19  19  19  19  19  19  19  19  19  19  19  19  19  19  19  19  19  19  19  19  19  19  19  19  19  19  19  19  19  19  19  19  19  19  19  19  19  19  19  19  19  19  19  19  19  19  19  19  19  19  19  19  19  19  19  19  19  19  19  19  19  19  19  19  19  19  19  19  19  19  19  19  19  19  19  19  19  19  19  19  19  19  19  19  19  19  19  19  19  19  19  19  19  19  19  19  19  19  19  19  19  19  19  19  19  19  19  19  19  \n",
      "Cluster Label: 60 40\n",
      "394  394  394  394  394  394  394  394  394  394  394  394  394  394  394  394  394  394  394  394  394  394  394  394  394  394  394  394  394  394  394  394  394  394  394  394  394  394  394  394  \n",
      "Event 25 :\n",
      "Cluster_noise:  0 False Negative: 0\n",
      "Tweets:  349\n",
      "Total new noise: 223 New False Negative: 22\n",
      "19  19  394  394  501  501  501  501  394  394  501  501  75  394  394  75  75  394  394  75  75  75  \n",
      "Number of Clusters: 2\n",
      "Cluster Label: 61 40\n",
      "394  394  394  394  394  394  394  394  394  394  394  394  394  394  394  394  394  394  394  394  394  394  394  394  394  394  394  394  394  394  394  394  394  394  394  394  394  394  394  394  \n",
      "Cluster Label: 62 86\n",
      "19  19  19  19  19  19  19  19  19  19  19  19  19  19  19  19  19  19  19  19  19  19  19  19  19  19  19  19  19  19  19  19  19  19  19  19  19  19  19  19  19  19  19  19  19  19  19  19  19  19  19  19  19  19  19  19  19  19  19  19  19  19  19  19  19  19  19  19  19  19  19  19  19  19  19  19  19  19  19  19  19  19  19  19  19  19  \n"
     ]
    },
    {
     "name": "stdout",
     "output_type": "stream",
     "text": [
      "Event 26 :\n",
      "Cluster_noise:  0 False Negative: 0\n",
      "Tweets:  321\n",
      "Total new noise: 222 New False Negative: 20\n",
      "501  501  501  501  394  394  501  501  75  394  394  75  75  394  394  75  75  75  394  382  \n",
      "Number of Clusters: 2\n",
      "Cluster Label: 63 58\n",
      "19  19  19  19  19  19  19  19  19  19  19  19  19  19  19  19  19  19  19  19  19  19  19  19  19  19  19  19  19  19  19  19  19  19  19  19  19  19  19  19  19  19  19  19  19  19  19  19  19  19  19  19  19  19  19  19  19  19  \n",
      "Cluster Label: 64 41\n",
      "394  394  394  394  394  394  394  394  394  394  394  394  394  394  394  394  394  394  394  394  394  394  394  394  394  394  394  394  394  394  394  394  394  394  394  394  394  394  394  394  394  \n",
      "Event 27 :\n",
      "Cluster_noise:  0 False Negative: 0\n",
      "Tweets:  338\n",
      "Total new noise: 229 New False Negative: 29\n",
      "394  501  501  501  501  394  394  501  501  75  394  394  75  75  394  394  75  75  75  394  382  394  394  487  487  382  487  487  394  \n",
      "Number of Clusters: 3\n",
      "Cluster Label: 65 52\n",
      "19  19  19  19  19  19  19  19  19  19  19  19  19  19  19  19  19  19  19  19  19  19  19  19  19  19  19  19  19  19  19  19  19  19  19  19  19  19  19  19  19  19  19  19  19  19  19  19  19  19  19  19  \n",
      "Cluster Label: 66 45\n",
      "394  394  394  394  394  394  394  394  394  394  394  394  394  394  394  394  394  394  394  394  394  394  394  394  394  394  394  394  394  394  394  394  394  394  394  394  394  394  394  394  394  394  394  394  394  \n",
      "Cluster Label: 67 12\n",
      "487  487  487  487  487  487  487  487  487  487  487  487  \n",
      "Event 28 :\n",
      "Cluster_noise:  0 False Negative: 0\n",
      "Tweets:  337\n",
      "Total new noise: 222 New False Negative: 24\n",
      "501  501  75  394  394  75  75  394  394  75  75  75  394  382  394  394  487  487  382  487  487  394  394  383  \n",
      "Number of Clusters: 3\n",
      "Cluster Label: 68 47\n",
      "394  394  394  394  394  394  394  394  394  394  394  394  394  394  394  394  394  394  394  394  394  394  394  394  394  394  394  394  394  394  394  394  394  394  394  394  394  394  394  394  394  394  394  394  394  394  394  \n",
      "Cluster Label: 69 46\n",
      "19  19  19  19  19  19  19  19  19  19  19  19  19  19  19  19  19  19  19  19  19  19  19  19  19  19  19  19  19  19  19  19  19  19  19  19  19  19  19  19  19  19  19  19  19  19  \n",
      "Cluster Label: 70 22\n",
      "487  487  487  487  487  487  487  487  487  487  487  487  487  487  487  487  487  487  487  487  487  487  \n",
      "Event 29 :\n",
      "Cluster_noise:  0 False Negative: 0\n",
      "Tweets:  325\n",
      "Total new noise: 225 New False Negative: 28\n",
      "75  394  394  75  75  394  394  75  75  75  394  394  382  394  394  487  487  382  487  487  394  394  383  394  394  487  487  75  \n",
      "Number of Clusters: 3\n",
      "Cluster Label: 71 36\n",
      "19  19  19  19  19  19  19  19  19  19  19  19  19  19  19  19  19  19  19  19  19  19  19  19  19  19  19  19  19  19  19  19  19  19  19  19  \n",
      "Cluster Label: 72 42\n",
      "394  394  394  394  394  394  394  394  394  394  394  394  394  394  394  394  394  394  394  394  394  394  394  394  394  394  394  394  394  394  394  394  394  394  394  394  394  394  394  394  394  394  \n",
      "Cluster Label: 73 22\n",
      "487  487  487  487  487  487  487  487  487  487  487  487  487  487  487  487  487  487  487  487  487  487  \n",
      "Event 30 :\n",
      "Cluster_noise:  0 False Negative: 0\n",
      "Tweets:  334\n",
      "Total new noise: 234 New False Negative: 35\n",
      "394  394  394  394  75  75  394  394  75  75  75  394  394  19  19  382  394  394  487  487  382  487  394  394  383  394  394  394  394  487  487  75  386  386  487  \n",
      "Number of Clusters: 3\n",
      "Cluster Label: 74 32\n",
      "19  19  19  19  19  19  19  19  19  19  19  19  19  19  19  19  19  19  19  19  19  19  19  19  19  19  19  19  19  19  19  19  \n",
      "Cluster Label: 75 40\n",
      "394  394  394  394  394  394  394  394  394  394  394  394  394  394  394  394  394  394  394  394  394  394  394  394  394  394  394  394  394  394  394  394  394  394  394  394  394  394  394  394  \n",
      "Cluster Label: 76 28\n",
      "487  487  487  487  487  487  487  487  487  487  487  487  487  487  487  487  487  487  487  487  487  487  487  487  487  487  487  487  \n",
      "Event 31 :\n",
      "Cluster_noise:  0 False Negative: 0\n",
      "Tweets:  337\n",
      "Total new noise: 233 New False Negative: 32\n",
      "75  75  394  394  19  19  382  394  394  487  487  382  487  394  394  383  394  394  394  394  487  487  394  75  386  386  394  394  501  501  501  501  \n",
      "Number of Clusters: 3\n",
      "Cluster Label: 77 33\n",
      "394  394  394  394  394  394  394  394  394  394  394  394  394  394  394  394  394  394  394  394  394  394  394  394  394  394  394  394  394  394  394  394  394  \n",
      "Cluster Label: 78 34\n",
      "19  19  19  19  19  19  19  19  19  19  19  19  19  19  19  19  19  19  19  19  19  19  19  19  19  19  19  19  19  19  19  19  19  19  \n",
      "Cluster Label: 79 37\n",
      "487  487  487  487  487  487  487  487  487  487  487  487  487  487  487  487  487  487  487  487  487  487  487  487  487  487  487  487  487  487  487  487  487  487  487  487  487  \n",
      "Event 32 :\n",
      "Cluster_noise:  0 False Negative: 0\n",
      "Tweets:  337\n",
      "Total new noise: 227 New False Negative: 32\n",
      "75  75  394  394  382  394  394  487  487  382  487  394  394  383  394  394  394  394  487  487  394  75  386  386  394  394  501  501  501  501  75  75  \n",
      "Number of Clusters: 3\n",
      "Cluster Label: 80 33\n",
      "394  394  394  394  394  394  394  394  394  394  394  394  394  394  394  394  394  394  394  394  394  394  394  394  394  394  394  394  394  394  394  394  394  \n",
      "Cluster Label: 81 38\n",
      "19  19  19  19  19  19  19  19  19  19  19  19  19  19  19  19  19  19  19  19  19  19  19  19  19  19  19  19  19  19  19  19  19  19  19  19  19  19  \n",
      "Cluster Label: 82 39\n",
      "487  487  487  487  487  487  487  487  487  487  487  487  487  487  487  487  487  487  487  487  487  487  487  487  487  487  487  487  487  487  487  487  487  487  487  487  487  487  487  \n",
      "Event 33 :\n",
      "Cluster_noise:  0 False Negative: 0\n",
      "Tweets:  338\n",
      "Total new noise: 237 New False Negative: 36\n",
      "394  394  394  394  382  394  394  487  487  382  487  394  394  383  394  394  394  394  394  487  487  75  394  386  386  394  394  394  394  501  501  501  501  75  75  75  \n",
      "Number of Clusters: 3\n",
      "Cluster Label: 83 32\n",
      "19  19  19  19  19  19  19  19  19  19  19  19  19  19  19  19  19  19  19  19  19  19  19  19  19  19  19  19  19  19  19  19  \n",
      "Cluster Label: 84 28\n",
      "394  394  394  394  394  394  394  394  394  394  394  394  394  394  394  394  394  394  394  394  394  394  394  394  394  394  394  394  \n",
      "Cluster Label: 85 41\n",
      "487  487  487  487  487  487  487  487  487  487  487  487  487  487  487  487  487  487  487  487  487  487  487  487  487  487  487  487  487  487  487  487  487  487  487  487  487  487  487  487  487  \n",
      "Event 34 :\n",
      "Cluster_noise:  0 False Negative: 0\n",
      "Tweets:  336\n",
      "Total new noise: 238 New False Negative: 39\n",
      "394  394  394  394  382  394  394  487  487  382  487  394  394  383  394  394  394  394  394  487  487  75  394  386  386  394  394  394  394  501  501  501  501  75  75  75  394  394  394  \n",
      "Number of Clusters: 3\n",
      "Cluster Label: 86 24\n",
      "19  19  19  19  19  19  19  19  19  19  19  19  19  19  19  19  19  19  19  19  19  19  19  19  \n",
      "Cluster Label: 87 31\n",
      "394  394  394  394  394  394  394  394  394  394  394  394  394  394  394  394  394  394  394  394  394  394  394  394  394  394  394  394  394  394  394  \n",
      "Cluster Label: 88 43\n",
      "487  487  487  487  487  487  487  487  487  487  487  487  487  487  487  487  487  487  487  487  487  487  487  487  487  487  487  487  487  487  487  487  487  487  487  487  487  487  487  487  487  487  487  \n",
      "Event 35 :\n",
      "Cluster_noise:  0 False Negative: 0\n",
      "Tweets:  330\n",
      "Total new noise: 231 New False Negative: 41\n",
      "19  394  394  382  394  394  487  487  382  487  394  394  383  394  394  394  394  394  487  487  394  75  386  386  394  394  394  394  501  501  501  501  75  75  75  394  394  394  384  19  19  \n",
      "Number of Clusters: 3\n",
      "Cluster Label: 89 31\n",
      "394  394  394  394  394  394  394  394  394  394  394  394  394  394  394  394  394  394  394  394  394  394  394  394  394  394  394  394  394  394  394  \n",
      "Cluster Label: 90 19\n",
      "19  19  19  19  19  19  19  19  19  19  19  19  19  19  19  19  19  19  19  \n",
      "Cluster Label: 91 49\n",
      "487  487  487  487  487  487  487  487  487  487  487  487  487  487  487  487  487  487  487  487  487  487  487  487  487  487  487  487  487  487  487  487  487  487  487  487  487  487  487  487  487  487  487  487  487  487  487  487  487  \n"
     ]
    },
    {
     "name": "stdout",
     "output_type": "stream",
     "text": [
      "Event 36 :\n",
      "Cluster_noise:  0 False Negative: 0\n",
      "Tweets:  365\n",
      "Total new noise: 247 New False Negative: 45\n",
      "394  394  394  394  487  487  382  487  394  394  383  394  394  394  394  394  487  487  394  75  386  386  394  394  394  394  501  501  501  501  75  75  75  394  394  394  384  19  19  394  394  487  487  487  487  \n",
      "Number of Clusters: 3\n",
      "Cluster Label: 92 16\n",
      "19  19  19  19  19  19  19  19  19  19  19  19  19  19  19  19  \n",
      "Cluster Label: 93 25\n",
      "394  394  394  394  394  394  394  394  394  394  394  394  394  394  394  394  394  394  394  394  394  394  394  394  394  \n",
      "Cluster Label: 94 77\n",
      "487  487  487  487  487  487  487  487  487  487  487  487  487  487  487  487  487  487  487  487  487  487  487  487  487  487  487  487  487  487  487  487  487  487  487  487  487  487  487  487  487  487  487  487  487  487  487  487  487  487  487  487  487  487  487  487  487  487  487  487  487  487  487  487  487  487  487  487  487  487  487  487  487  487  487  487  487  \n",
      "Event 37 :\n",
      "Cluster_noise:  0 False Negative: 0\n",
      "Tweets:  382\n",
      "Total new noise: 262 New False Negative: 44\n",
      "394  394  383  394  394  394  487  487  394  75  394  394  394  394  386  386  394  394  19  394  394  501  501  501  501  487  487  75  75  75  394  394  384  19  19  394  394  487  487  487  487  394  487  487  \n",
      "Number of Clusters: 3\n",
      "Cluster Label: 95 23\n",
      "394  394  394  394  394  394  394  394  394  394  394  394  394  394  394  394  394  394  394  394  394  394  394  \n",
      "Cluster Label: 96 90\n",
      "487  487  487  487  487  487  487  487  487  487  487  487  487  487  487  487  487  487  487  487  487  487  487  487  487  487  487  487  487  487  487  487  487  487  487  487  487  487  487  487  487  487  487  487  487  487  487  487  487  487  487  487  487  487  487  487  487  487  487  487  487  487  487  487  487  487  487  487  487  487  487  487  487  487  487  487  487  487  487  487  487  487  487  487  487  487  487  487  487  487  \n",
      "Cluster Label: 97 7\n",
      "19  19  19  19  19  19  19  \n",
      "Event 38 :\n",
      "Cluster_noise:  0 False Negative: 0\n",
      "Tweets:  399\n",
      "Total new noise: 276 New False Negative: 50\n",
      "394  394  394  487  487  75  394  394  394  394  394  386  386  394  394  19  394  394  501  501  501  501  487  487  75  75  75  394  394  394  394  384  19  19  394  394  487  487  487  487  394  487  487  487  487  501  501  487  487  487  \n",
      "Number of Clusters: 3\n",
      "Cluster Label: 98 19\n",
      "394  394  394  394  394  394  394  394  394  394  394  394  394  394  394  394  394  394  394  \n",
      "Cluster Label: 99 97\n",
      "487  487  487  487  487  487  487  487  487  487  487  487  487  487  487  487  487  487  487  487  487  487  487  487  487  487  487  487  487  487  487  487  487  487  487  487  487  487  487  487  487  487  487  487  487  487  487  487  487  487  487  487  487  487  487  487  487  487  487  487  487  487  487  487  487  487  487  487  487  487  487  487  487  487  487  487  487  487  487  487  487  487  487  487  487  487  487  487  487  487  487  487  487  487  487  487  487  \n",
      "Cluster Label: 100 7\n",
      "19  19  19  19  19  19  19  \n",
      "Event 39 :\n",
      "Cluster_noise:  0 False Negative: 0\n",
      "Tweets:  421\n",
      "Total new noise: 267 New False Negative: 44\n",
      "386  386  394  19  394  394  501  501  501  501  487  487  75  75  75  384  19  19  394  394  487  487  487  487  487  487  487  487  501  501  487  487  487  487  501  501  487  487  487  487  487  487  501  501  \n",
      "Number of Clusters: 3\n",
      "Cluster Label: 101 33\n",
      "394  394  394  394  394  394  394  394  394  394  394  394  394  394  394  394  394  394  394  394  394  394  394  394  394  394  394  394  394  394  394  394  394  \n",
      "Cluster Label: 102 114\n",
      "487  487  487  487  487  487  487  487  487  487  487  487  487  487  487  487  487  487  487  487  487  487  487  487  487  487  487  487  487  487  487  487  487  487  487  487  487  487  487  487  487  487  487  487  487  487  487  487  487  487  487  487  487  487  487  487  487  487  487  487  487  487  487  487  487  487  487  487  487  487  487  487  487  487  487  487  487  487  487  487  487  487  487  487  487  487  487  487  487  487  487  487  487  487  487  487  487  487  487  487  487  487  487  487  487  487  487  487  487  487  487  487  487  487  \n",
      "Cluster Label: 103 7\n",
      "19  19  19  19  19  19  19  \n",
      "Event 40 :\n",
      "Cluster_noise:  0 False Negative: 0\n",
      "Tweets:  424\n",
      "Total new noise: 278 New False Negative: 46\n",
      "19  394  394  501  501  501  501  487  487  75  75  394  394  75  384  19  19  394  394  487  487  487  487  487  487  487  487  487  501  501  487  487  487  487  501  501  487  487  487  487  487  487  501  501  394  394  \n",
      "Number of Clusters: 3\n",
      "Cluster Label: 104 111\n",
      "487  487  487  487  487  487  487  487  487  487  487  487  487  487  487  487  487  487  487  487  487  487  487  487  487  487  487  487  487  487  487  487  487  487  487  487  487  487  487  487  487  487  487  487  487  487  487  487  487  487  487  487  487  487  487  487  487  487  487  487  487  487  487  487  487  487  487  487  487  487  487  487  487  487  487  487  487  487  487  487  487  487  487  487  487  487  487  487  487  487  487  487  487  487  487  487  487  487  487  487  487  487  487  487  487  487  487  487  487  487  487  \n",
      "Cluster Label: 105 5\n",
      "19  19  19  19  19  \n",
      "Cluster Label: 106 30\n",
      "394  394  394  394  394  394  394  394  394  394  394  394  394  394  394  394  394  394  394  394  394  394  394  394  394  394  394  394  394  394  \n",
      "Event 41 :\n",
      "Cluster_noise:  0 False Negative: 0\n",
      "Tweets:  424\n",
      "Total new noise: 265 New False Negative: 41\n",
      "487  487  75  75  19  19  394  394  75  384  19  19  394  394  487  487  487  487  487  487  487  487  487  501  501  487  487  487  487  501  501  487  487  487  487  487  487  501  501  394  394  \n",
      "Number of Clusters: 1\n",
      "Cluster Label: 107 159\n",
      "487  487  394  394  394  394  487  487  394  394  394  394  487  487  487  487  487  487  487  487  487  487  487  487  487  487  487  487  487  487  487  487  487  487  487  487  487  487  487  487  487  487  487  487  487  487  487  487  487  487  487  487  487  487  394  394  487  487  487  487  487  487  487  487  394  394  394  394  487  487  487  487  394  394  487  487  487  487  487  487  487  487  487  487  487  487  487  487  487  487  487  487  487  487  487  487  487  487  487  394  394  487  487  394  394  487  487  394  394  487  487  487  487  487  487  487  487  487  487  487  487  394  394  394  394  487  487  394  394  394  394  487  487  487  487  487  487  394  394  487  487  394  394  487  487  394  394  487  487  394  394  394  394  487  487  394  394  394  394  \n",
      "Event 42 :\n",
      "Cluster_noise:  0 False Negative: 0\n",
      "Tweets:  436\n",
      "Total new noise: 269 New False Negative: 44\n",
      "394  394  75  384  19  19  394  394  487  487  487  487  487  487  487  487  487  501  501  487  487  487  487  501  501  487  487  487  487  487  487  501  501  394  394  394  394  382  487  394  487  394  487  487  \n",
      "Number of Clusters: 1\n",
      "Cluster Label: 108 167\n",
      "487  487  394  394  394  394  487  487  394  394  394  394  487  487  487  487  487  487  487  487  487  487  487  487  487  487  487  487  487  487  487  487  487  487  487  487  487  487  487  487  487  487  487  487  487  487  487  487  487  487  487  487  487  487  394  394  487  487  487  487  487  487  487  487  394  394  394  394  487  487  487  487  394  394  487  487  487  487  487  487  487  487  487  487  487  487  487  487  487  487  487  487  487  487  487  487  487  487  487  394  394  487  487  394  394  487  487  394  394  487  487  487  487  487  487  487  487  487  487  487  487  394  394  394  394  487  487  394  394  394  394  487  487  487  487  487  487  394  394  487  487  394  394  487  487  394  394  487  487  394  394  394  394  487  487  394  394  394  394  487  487  394  394  394  394  487  487  \n",
      "Event 43 :\n",
      "Cluster_noise:  0 False Negative: 0\n",
      "Tweets:  430\n",
      "Total new noise: 254 New False Negative: 40\n",
      "384  19  19  394  394  487  487  487  487  487  487  487  487  487  501  501  487  487  487  487  501  501  487  487  487  487  487  487  501  501  394  394  382  487  394  394  487  487  487  394  \n",
      "Number of Clusters: 1\n",
      "Cluster Label: 109 176\n",
      "394  394  394  394  487  487  394  394  394  394  487  487  487  487  487  487  487  487  487  487  487  487  487  487  487  487  487  487  487  487  487  487  487  487  487  487  487  487  487  487  487  487  487  487  487  487  487  487  487  487  487  487  394  394  487  487  487  487  487  487  487  487  394  394  394  394  487  487  487  487  394  394  487  487  487  487  487  487  487  487  487  487  487  487  487  487  487  487  487  487  487  487  487  487  487  487  487  394  394  487  487  394  394  487  487  394  394  487  487  487  487  487  487  487  487  487  487  487  487  394  394  394  394  487  487  394  394  394  394  487  487  487  487  487  487  394  394  487  487  394  394  487  487  394  394  487  487  394  394  394  394  487  487  394  394  394  394  394  394  487  487  394  394  394  394  487  487  394  394  394  394  394  394  394  394  394  \n"
     ]
    },
    {
     "name": "stdout",
     "output_type": "stream",
     "text": [
      "Event 44 :\n",
      "Cluster_noise:  0 False Negative: 0\n",
      "Tweets:  438\n",
      "Total new noise: 262 New False Negative: 41\n",
      "384  19  19  394  394  487  487  487  487  487  487  487  487  501  501  487  487  487  487  501  501  487  487  487  487  487  487  501  501  394  394  382  394  487  487  394  487  487  394  394  383  \n",
      "Number of Clusters: 1\n",
      "Cluster Label: 110 176\n",
      "487  487  487  487  487  487  487  487  487  487  487  487  487  487  487  487  487  487  487  487  487  487  487  487  487  487  487  487  487  487  487  487  487  487  487  487  487  487  487  487  487  487  394  394  487  487  487  487  487  487  487  487  394  394  394  394  487  487  487  487  394  394  487  487  487  487  487  487  487  487  487  487  487  487  487  487  487  487  487  487  487  487  487  487  487  487  487  487  394  394  487  487  394  394  487  487  394  394  487  487  487  487  487  487  487  487  487  487  487  487  394  394  394  394  487  487  394  394  394  394  487  487  487  487  487  487  394  394  487  487  394  394  487  487  394  394  487  487  394  394  394  394  487  487  394  394  394  394  394  394  487  487  394  394  394  394  487  487  394  394  394  394  394  394  394  394  394  394  394  487  487  487  487  487  487  394  \n",
      "Event 45 :\n",
      "Cluster_noise:  0 False Negative: 0\n",
      "Tweets:  444\n",
      "Total new noise: 274 New False Negative: 42\n",
      "394  394  487  487  487  487  487  487  487  487  501  501  487  487  487  487  501  501  487  487  487  487  487  487  501  501  394  394  382  487  394  487  394  487  487  394  394  383  394  394  394  394  \n",
      "Number of Clusters: 1\n",
      "Cluster Label: 111 170\n",
      "487  487  487  487  487  487  487  487  487  487  487  487  487  487  487  487  487  487  487  487  487  487  487  487  487  487  487  487  487  487  487  487  487  487  487  487  394  394  487  487  487  487  487  487  487  487  394  394  394  394  487  487  487  487  394  394  487  487  487  487  487  487  487  487  487  487  487  487  487  487  487  487  487  487  487  487  487  487  487  487  487  487  394  394  487  487  394  394  487  487  394  394  487  487  487  487  487  487  487  487  487  487  487  487  394  394  394  394  487  487  394  394  394  394  487  487  487  487  487  487  394  394  487  487  394  394  487  487  394  394  487  487  394  394  394  394  487  487  394  394  394  394  394  394  487  487  394  394  394  394  487  487  394  394  394  394  394  394  394  394  394  394  394  487  487  487  487  487  487  394  \n",
      "Event 46 :\n",
      "Cluster_noise:  0 False Negative: 0\n",
      "Tweets:  413\n",
      "Total new noise: 271 New False Negative: 47\n",
      "487  487  487  487  487  487  487  487  501  501  487  487  487  487  501  501  487  487  487  487  487  487  501  501  487  487  487  394  394  382  394  394  487  487  487  487  487  487  394  383  394  394  394  394  487  487  75  \n",
      "Number of Clusters: 1\n",
      "Cluster Label: 112 142\n",
      "487  487  487  487  394  394  487  487  487  487  487  487  487  487  394  394  394  394  487  487  487  487  394  394  487  487  487  487  487  487  487  487  487  487  487  487  487  487  487  487  487  487  487  487  487  487  487  487  487  487  394  394  487  487  394  394  487  487  394  394  487  487  487  487  487  487  487  487  487  487  394  394  394  394  487  394  394  394  394  487  487  487  487  487  487  394  394  487  487  394  394  487  487  394  394  487  487  394  394  394  394  487  487  394  394  394  394  394  394  487  487  394  394  394  394  487  487  394  394  394  394  394  394  394  394  394  394  394  394  487  487  487  487  394  487  487  394  394  394  394  394  394  \n",
      "Event 47 :\n",
      "Cluster_noise:  0 False Negative: 0\n",
      "Tweets:  367\n",
      "Total new noise: 261 New False Negative: 50\n",
      "487  487  487  501  501  487  487  487  487  487  487  487  487  501  501  487  487  487  487  487  487  487  501  501  487  487  487  487  394  394  394  382  394  487  487  394  487  487  487  487  394  383  394  394  394  394  487  487  75  75  \n",
      "Number of Clusters: 2\n",
      "Cluster Label: 113 50\n",
      "487  487  487  487  487  487  487  487  487  487  487  487  487  487  487  487  487  487  487  487  487  487  487  487  487  487  487  487  487  487  487  487  487  487  487  487  487  487  487  487  487  487  487  487  487  487  487  487  487  487  \n",
      "Cluster Label: 114 56\n",
      "394  394  394  394  394  394  394  394  394  394  394  394  394  394  394  394  394  394  394  394  394  394  394  394  394  394  394  394  394  394  394  394  394  394  394  394  394  394  394  394  394  394  394  394  394  394  394  394  394  394  394  394  394  394  394  394  \n",
      "Event 48 :\n",
      "Cluster_noise:  0 False Negative: 0\n",
      "Tweets:  346\n",
      "Total new noise: 253 New False Negative: 43\n",
      "487  487  501  501  487  487  487  487  487  487  487  487  501  501  487  487  487  487  394  394  487  394  382  394  487  394  487  487  487  487  487  394  383  394  394  394  394  487  487  75  75  394  394  \n",
      "Number of Clusters: 2\n",
      "Cluster Label: 115 58\n",
      "394  394  394  394  394  394  394  394  394  394  394  394  394  394  394  394  394  394  394  394  394  394  394  394  394  394  394  394  394  394  394  394  394  394  394  394  394  394  394  394  394  394  394  394  394  394  394  394  394  394  394  394  394  394  394  394  394  394  \n",
      "Cluster Label: 116 35\n",
      "487  487  487  487  487  487  487  487  487  487  487  487  487  487  487  487  487  487  487  487  487  487  487  487  487  487  487  487  487  487  487  487  487  487  487  \n",
      "Event 49 :\n",
      "Cluster_noise:  0 False Negative: 0\n",
      "Tweets:  320\n",
      "Total new noise: 249 New False Negative: 39\n",
      "487  487  394  394  487  487  487  487  487  487  382  487  394  487  394  487  487  394  394  394  487  487  394  383  394  394  394  394  487  487  75  75  394  394  394  501  501  19  19  \n",
      "Number of Clusters: 2\n",
      "Cluster Label: 117 53\n",
      "394  394  394  394  394  394  394  394  394  394  394  394  394  394  394  394  394  394  394  394  394  394  394  394  394  394  394  394  394  394  394  394  394  394  394  394  394  394  394  394  394  394  394  394  394  394  394  394  394  394  394  394  394  \n",
      "Cluster Label: 118 18\n",
      "487  487  487  487  487  487  487  487  487  487  487  487  487  487  487  487  487  487  \n",
      "Event 50 :\n",
      "Cluster_noise:  0 False Negative: 0\n",
      "Tweets:  310\n",
      "Total new noise: 247 New False Negative: 39\n",
      "487  487  487  487  487  487  487  487  382  394  487  487  394  487  487  394  394  394  487  487  487  394  383  394  394  394  394  487  487  487  75  75  394  394  394  501  501  19  19  \n",
      "Number of Clusters: 2\n",
      "Cluster Label: 119 12\n",
      "487  487  487  487  487  487  487  487  487  487  487  487  \n",
      "Cluster Label: 120 51\n",
      "394  394  394  394  394  394  394  394  394  394  394  394  394  394  394  394  394  394  394  394  394  394  394  394  394  394  394  394  394  394  394  394  394  394  394  394  394  394  394  394  394  394  394  394  394  394  394  394  394  394  394  \n",
      "Event 51 :\n",
      "Cluster_noise:  0 False Negative: 0\n",
      "Tweets:  295\n",
      "Total new noise: 264 New False Negative: 46\n",
      "487  487  382  394  487  487  394  394  487  487  487  487  394  394  394  394  394  394  487  487  487  487  487  487  394  394  383  394  394  394  394  487  487  487  487  75  75  394  394  394  394  501  501  19  19  383  \n",
      "Number of Clusters: 1\n",
      "Cluster Label: 121 31\n",
      "394  394  394  394  394  394  394  394  394  394  394  394  394  394  394  394  394  394  394  394  394  394  394  394  394  394  394  394  394  394  394  \n",
      "Event 52 :\n",
      "Cluster_noise:  0 False Negative: 0\n",
      "Tweets:  279\n",
      "Total new noise: 253 New False Negative: 37\n",
      "394  394  394  394  394  394  487  487  487  487  487  487  394  394  383  394  394  394  394  487  487  487  487  75  75  394  394  394  394  501  501  19  19  383  75  75  383  \n",
      "Number of Clusters: 2\n",
      "Cluster Label: 122 24\n",
      "394  394  394  394  394  394  394  394  394  394  394  394  394  394  394  394  394  394  394  394  394  394  394  394  \n",
      "Cluster Label: 123 2\n",
      "394  394  \n",
      "Event 53 :\n",
      "Cluster_noise:  0 False Negative: 0\n",
      "Tweets:  278\n",
      "Total new noise: 258 New False Negative: 35\n",
      "487  487  487  487  487  487  394  394  383  394  394  394  394  487  487  394  487  487  75  75  394  394  394  394  501  501  19  19  394  383  75  75  383  75  75  \n",
      "Number of Clusters: 2\n",
      "Cluster Label: 124 17\n",
      "394  394  394  394  394  394  394  394  394  394  394  394  394  394  394  394  394  \n",
      "Cluster Label: 125 3\n",
      "394  394  394  \n",
      "Event 54 :\n",
      "Cluster_noise:  0 False Negative: 0\n",
      "Tweets:  268\n",
      "Total new noise: 250 New False Negative: 28\n",
      "394  394  394  394  487  487  394  487  487  75  75  394  394  394  394  501  501  19  19  394  383  75  75  383  75  75  75  382  \n",
      "Number of Clusters: 2\n",
      "Cluster Label: 126 15\n",
      "394  394  394  394  394  394  394  394  394  394  394  394  394  394  394  \n",
      "Cluster Label: 127 3\n",
      "394  394  394  \n"
     ]
    },
    {
     "name": "stdout",
     "output_type": "stream",
     "text": [
      "Event 55 :\n",
      "Cluster_noise:  0 False Negative: 0\n",
      "Tweets:  254\n",
      "Total new noise: 236 New False Negative: 25\n",
      "487  487  394  487  487  75  75  394  394  394  394  501  501  19  19  394  383  75  75  383  75  75  75  382  386  \n",
      "Number of Clusters: 2\n",
      "Cluster Label: 128 15\n",
      "394  394  394  394  394  394  394  394  394  394  394  394  394  394  394  \n",
      "Cluster Label: 129 3\n",
      "394  394  394  \n",
      "Event 56 :\n",
      "Cluster_noise:  0 False Negative: 0\n",
      "Tweets:  253\n",
      "Total new noise: 241 New False Negative: 27\n",
      "394  394  394  394  394  394  394  394  394  501  501  19  19  394  394  383  75  75  383  75  382  386  18  18  384  18  18  \n",
      "Number of Clusters: 2\n",
      "Cluster Label: 130 7\n",
      "394  394  394  394  394  394  394  \n",
      "Cluster Label: 131 5\n",
      "75  75  75  75  75  \n",
      "Event 57 :\n",
      "Cluster_noise:  0 False Negative: 0\n",
      "Tweets:  262\n",
      "Total new noise: 250 New False Negative: 28\n",
      "394  394  394  394  394  501  501  19  19  394  394  383  75  75  383  75  75  75  382  386  384  75  75  18  18  18  75  382  \n",
      "Number of Clusters: 2\n",
      "Cluster Label: 132 7\n",
      "394  394  394  394  394  394  394  \n",
      "Cluster Label: 133 5\n",
      "18  18  18  18  18  \n",
      "Event 58 :\n",
      "Cluster_noise:  0 False Negative: 0\n",
      "Tweets:  255\n",
      "Total new noise: 250 New False Negative: 29\n",
      "394  394  394  394  501  501  19  19  394  394  394  394  383  75  75  383  75  75  75  382  386  384  75  75  18  18  18  75  382  \n",
      "Number of Clusters: 1\n",
      "Cluster Label: 134 5\n",
      "18  18  18  18  18  \n",
      "Event 59 :\n",
      "Cluster_noise:  0 False Negative: 0\n",
      "Tweets:  265\n",
      "Total new noise: 252 New False Negative: 26\n",
      "394  394  394  394  383  75  75  383  75  75  75  382  386  384  75  75  18  75  382  18  18  18  18  382  18  18  \n",
      "Number of Clusters: 1\n",
      "Cluster Label: 135 13\n",
      "18  18  18  18  18  18  18  18  18  18  18  18  18  \n",
      "Event 60 :\n",
      "Cluster_noise:  0 False Negative: 0\n",
      "Tweets:  261\n",
      "Total new noise: 246 New False Negative: 28\n",
      "383  75  75  383  75  75  75  382  386  384  75  75  18  75  382  18  18  18  18  382  18  18  18  18  502  502  75  382  \n",
      "Number of Clusters: 1\n",
      "Cluster Label: 136 15\n",
      "18  18  18  18  18  18  18  18  18  18  18  18  18  18  18  \n",
      "Event 61 :\n",
      "Cluster_noise:  0 False Negative: 0\n",
      "Tweets:  264\n",
      "Total new noise: 244 New False Negative: 28\n",
      "75  75  383  75  75  75  382  386  384  75  75  18  75  382  18  18  18  382  18  18  18  18  502  502  75  382  18  18  \n",
      "Number of Clusters: 1\n",
      "Cluster Label: 137 20\n",
      "18  18  18  18  18  18  18  18  18  18  18  18  18  18  18  18  18  18  18  18  \n",
      "Event 62 :\n",
      "Cluster_noise:  0 False Negative: 0\n",
      "Tweets:  268\n",
      "Total new noise: 245 New False Negative: 24\n",
      "75  75  75  382  386  384  75  75  75  382  18  18  18  382  18  18  502  502  18  18  75  382  18  18  \n",
      "Number of Clusters: 1\n",
      "Cluster Label: 138 23\n",
      "18  18  18  18  18  18  18  18  18  18  18  18  18  18  18  18  18  18  18  18  18  18  18  \n",
      "Event 63 :\n",
      "Cluster_noise:  0 False Negative: 0\n",
      "Tweets:  267\n",
      "Total new noise: 244 New False Negative: 22\n",
      "75  382  386  384  75  75  75  382  18  18  18  382  18  18  502  18  18  502  75  382  18  18  \n",
      "Number of Clusters: 1\n",
      "Cluster Label: 139 23\n",
      "18  18  18  18  18  18  18  18  18  18  18  18  18  18  18  18  18  18  18  18  18  18  18  \n",
      "Event 64 :\n",
      "Cluster_noise:  0 False Negative: 0\n",
      "Tweets:  267\n",
      "Total new noise: 239 New False Negative: 20\n",
      "386  384  75  75  75  382  18  18  18  382  18  18  502  18  502  75  382  18  18  75  \n",
      "Number of Clusters: 1\n",
      "Cluster Label: 140 28\n",
      "18  18  18  18  18  18  18  18  18  18  18  18  18  18  18  18  18  18  18  18  18  18  18  18  18  18  18  18  \n",
      "Event 65 :\n",
      "Cluster_noise:  0 False Negative: 0\n",
      "Tweets:  269\n",
      "Total new noise: 241 New False Negative: 19\n",
      "384  75  75  75  382  18  18  18  382  18  18  502  18  502  75  382  18  18  75  \n",
      "Number of Clusters: 1\n",
      "Cluster Label: 141 28\n",
      "18  18  18  18  18  18  18  18  18  18  18  18  18  18  18  18  18  18  18  18  18  18  18  18  18  18  18  18  \n",
      "Event 66 :\n",
      "Cluster_noise:  0 False Negative: 0\n",
      "Tweets:  258\n",
      "Total new noise: 234 New False Negative: 18\n",
      "75  382  18  18  18  382  18  18  502  18  502  75  382  18  18  75  18  18  \n",
      "Number of Clusters: 1\n",
      "Cluster Label: 142 24\n",
      "18  18  18  18  18  18  18  18  18  18  18  18  18  18  18  18  18  18  18  18  18  18  18  18  \n",
      "Event 67 :\n",
      "Cluster_noise:  0 False Negative: 0\n",
      "Tweets:  256\n",
      "Total new noise: 235 New False Negative: 21\n",
      "18  18  18  382  18  18  18  502  502  75  382  18  18  18  18  75  18  18  18  382  382  \n",
      "Number of Clusters: 1\n",
      "Cluster Label: 143 21\n",
      "18  18  18  18  18  18  18  18  18  18  18  18  18  18  18  18  18  18  18  18  18  \n",
      "Event 68 :\n",
      "Cluster_noise:  0 False Negative: 0\n",
      "Tweets:  255\n",
      "Total new noise: 234 New False Negative: 22\n",
      "18  18  18  382  18  18  18  502  502  75  382  18  18  18  18  75  18  18  18  382  382  75  \n",
      "Number of Clusters: 1\n",
      "Cluster Label: 144 21\n",
      "18  18  18  18  18  18  18  18  18  18  18  18  18  18  18  18  18  18  18  18  18  \n",
      "Event 69 :\n",
      "Cluster_noise:  0 False Negative: 0\n",
      "Tweets:  246\n",
      "Total new noise: 235 New False Negative: 21\n",
      "18  18  502  502  75  382  18  18  18  18  18  75  18  18  18  18  382  382  75  18  18  \n",
      "Number of Clusters: 1\n",
      "Cluster Label: 145 11\n",
      "18  18  18  18  18  18  18  18  18  18  18  \n",
      "Event 70 :\n",
      "Cluster_noise:  0 False Negative: 0\n",
      "Tweets:  251\n",
      "Total new noise: 251 New False Negative: 24\n",
      "18  18  18  18  18  18  18  18  18  18  75  18  18  18  18  18  18  382  18  18  382  75  18  18  \n",
      "Number of Clusters: 0\n",
      "Event 71 :\n",
      "Cluster_noise:  0 False Negative: 0\n",
      "Tweets:  250\n",
      "Total new noise: 250 New False Negative: 21\n",
      "18  18  18  18  75  18  18  18  18  18  18  382  18  18  382  75  18  18  75  75  75  \n",
      "Number of Clusters: 0\n",
      "Event 72 :\n",
      "Cluster_noise:  0 False Negative: 0\n",
      "Tweets:  241\n",
      "Total new noise: 241 New False Negative: 19\n",
      "18  18  75  18  18  18  18  18  18  382  18  18  382  75  18  18  75  75  75  \n",
      "Number of Clusters: 0\n",
      "Event 73 :\n",
      "Cluster_noise:  0 False Negative: 0\n",
      "Tweets:  247\n",
      "Total new noise: 247 New False Negative: 21\n",
      "18  18  75  18  18  18  18  18  18  382  18  18  382  75  18  18  75  75  75  18  18  \n",
      "Number of Clusters: 0\n",
      "Event 74 :\n",
      "Cluster_noise:  0 False Negative: 0\n",
      "Tweets:  246\n",
      "Total new noise: 236 New False Negative: 12\n",
      "18  18  382  18  18  382  18  18  75  18  18  18  \n",
      "Number of Clusters: 2\n",
      "Cluster Label: 146 5\n",
      "18  18  18  18  18  \n",
      "Cluster Label: 147 5\n",
      "75  75  75  75  75  \n",
      "Event 75 :\n",
      "Cluster_noise:  0 False Negative: 0\n",
      "Tweets:  243\n",
      "Total new noise: 233 New False Negative: 12\n",
      "18  18  382  18  18  382  18  18  75  18  18  18  \n",
      "Number of Clusters: 2\n",
      "Cluster Label: 148 5\n",
      "18  18  18  18  18  \n",
      "Cluster Label: 149 5\n",
      "75  75  75  75  75  \n",
      "Event 76 :\n",
      "Cluster_noise:  0 False Negative: 0\n",
      "Tweets:  246\n",
      "Total new noise: 236 New False Negative: 11\n",
      "382  18  18  382  18  18  75  18  18  18  75  \n",
      "Number of Clusters: 2\n",
      "Cluster Label: 150 5\n",
      "18  18  18  18  18  \n",
      "Cluster Label: 151 5\n",
      "75  75  75  75  75  \n",
      "Event 77 :\n",
      "Cluster_noise:  0 False Negative: 0\n",
      "Tweets:  239\n",
      "Total new noise: 234 New False Negative: 11\n",
      "18  18  75  18  18  18  18  18  18  75  384  \n",
      "Number of Clusters: 1\n",
      "Cluster Label: 152 5\n",
      "75  75  75  75  75  \n",
      "Event 78 :\n",
      "Cluster_noise:  0 False Negative: 0\n",
      "Tweets:  256\n",
      "Total new noise: 256 New False Negative: 15\n",
      "18  18  75  75  75  18  18  75  75  18  18  18  18  75  384  \n",
      "Number of Clusters: 0\n",
      "Event 79 :\n",
      "Cluster_noise:  0 False Negative: 0\n",
      "Tweets:  252\n",
      "Total new noise: 252 New False Negative: 15\n",
      "75  75  75  18  18  75  75  18  18  18  18  75  384  18  18  \n",
      "Number of Clusters: 0\n",
      "Event 80 :\n",
      "Cluster_noise:  0 False Negative: 0\n",
      "Tweets:  238\n",
      "Total new noise: 238 New False Negative: 15\n",
      "75  75  75  18  18  75  75  18  18  18  18  75  384  18  18  \n",
      "Number of Clusters: 0\n",
      "Event 81 :\n",
      "Cluster_noise:  0 False Negative: 0\n",
      "Tweets:  249\n",
      "Total new noise: 243 New False Negative: 14\n",
      "18  18  75  75  18  18  75  384  18  18  18  18  75  238  \n",
      "Number of Clusters: 1\n",
      "Cluster Label: 153 6\n",
      "18  18  18  18  18  18  \n",
      "Event 82 :\n",
      "Cluster_noise:  0 False Negative: 0\n",
      "Tweets:  263\n",
      "Total new noise: 251 New False Negative: 16\n",
      "18  18  75  75  18  18  75  384  18  18  75  238  502  502  383  383  \n",
      "Number of Clusters: 1\n",
      "Cluster Label: 154 12\n",
      "18  18  18  18  18  18  18  18  18  18  18  18  \n",
      "Event 83 :\n",
      "Cluster_noise:  0 False Negative: 0\n",
      "Tweets:  256\n",
      "Total new noise: 244 New False Negative: 16\n",
      "75  75  18  18  75  384  18  18  75  238  502  502  383  383  502  502  \n",
      "Number of Clusters: 1\n",
      "Cluster Label: 155 12\n",
      "18  18  18  18  18  18  18  18  18  18  18  18  \n"
     ]
    },
    {
     "name": "stdout",
     "output_type": "stream",
     "text": [
      "Event 84 :\n",
      "Cluster_noise:  0 False Negative: 0\n",
      "Tweets:  256\n",
      "Total new noise: 239 New False Negative: 11\n",
      "75  384  75  238  502  502  383  383  502  502  18  \n",
      "Number of Clusters: 1\n",
      "Cluster Label: 156 17\n",
      "18  18  18  18  18  18  18  18  18  18  18  18  18  18  18  18  18  \n",
      "Event 85 :\n",
      "Cluster_noise:  0 False Negative: 0\n",
      "Tweets:  259\n",
      "Total new noise: 242 New False Negative: 11\n",
      "75  384  75  238  502  502  383  383  502  502  18  \n",
      "Number of Clusters: 1\n",
      "Cluster Label: 157 17\n",
      "18  18  18  18  18  18  18  18  18  18  18  18  18  18  18  18  18  \n",
      "Event 86 :\n",
      "Cluster_noise:  0 False Negative: 0\n",
      "Tweets:  256\n",
      "Total new noise: 239 New False Negative: 10\n",
      "384  75  238  502  502  383  383  502  502  18  \n",
      "Number of Clusters: 1\n",
      "Cluster Label: 158 17\n",
      "18  18  18  18  18  18  18  18  18  18  18  18  18  18  18  18  18  \n",
      "Event 87 :\n",
      "Cluster_noise:  0 False Negative: 0\n",
      "Tweets:  255\n",
      "Total new noise: 238 New False Negative: 11\n",
      "75  238  502  502  383  383  502  502  18  18  18  \n",
      "Number of Clusters: 1\n",
      "Cluster Label: 159 17\n",
      "18  18  18  18  18  18  18  18  18  18  18  18  18  18  18  18  18  \n"
     ]
    },
    {
     "ename": "KeyboardInterrupt",
     "evalue": "",
     "output_type": "error",
     "traceback": [
      "\u001b[1;31m---------------------------------------------------------------------------\u001b[0m",
      "\u001b[1;31mKeyError\u001b[0m                                  Traceback (most recent call last)",
      "\u001b[1;32m~\\Anaconda3\\lib\\site-packages\\pandas\\core\\indexes\\base.py\u001b[0m in \u001b[0;36mget_loc\u001b[1;34m(self, key, method, tolerance)\u001b[0m\n\u001b[0;32m   2645\u001b[0m             \u001b[1;32mtry\u001b[0m\u001b[1;33m:\u001b[0m\u001b[1;33m\u001b[0m\u001b[1;33m\u001b[0m\u001b[0m\n\u001b[1;32m-> 2646\u001b[1;33m                 \u001b[1;32mreturn\u001b[0m \u001b[0mself\u001b[0m\u001b[1;33m.\u001b[0m\u001b[0m_engine\u001b[0m\u001b[1;33m.\u001b[0m\u001b[0mget_loc\u001b[0m\u001b[1;33m(\u001b[0m\u001b[0mkey\u001b[0m\u001b[1;33m)\u001b[0m\u001b[1;33m\u001b[0m\u001b[1;33m\u001b[0m\u001b[0m\n\u001b[0m\u001b[0;32m   2647\u001b[0m             \u001b[1;32mexcept\u001b[0m \u001b[0mKeyError\u001b[0m\u001b[1;33m:\u001b[0m\u001b[1;33m\u001b[0m\u001b[1;33m\u001b[0m\u001b[0m\n",
      "\u001b[1;32mpandas\\_libs\\index.pyx\u001b[0m in \u001b[0;36mpandas._libs.index.IndexEngine.get_loc\u001b[1;34m()\u001b[0m\n",
      "\u001b[1;32mpandas\\_libs\\index.pyx\u001b[0m in \u001b[0;36mpandas._libs.index.IndexEngine.get_loc\u001b[1;34m()\u001b[0m\n",
      "\u001b[1;32mpandas\\_libs\\hashtable_class_helper.pxi\u001b[0m in \u001b[0;36mpandas._libs.hashtable.PyObjectHashTable.get_item\u001b[1;34m()\u001b[0m\n",
      "\u001b[1;32mpandas\\_libs\\hashtable_class_helper.pxi\u001b[0m in \u001b[0;36mpandas._libs.hashtable.PyObjectHashTable.get_item\u001b[1;34m()\u001b[0m\n",
      "\u001b[1;31mKeyError\u001b[0m: 'sum'",
      "\nDuring handling of the above exception, another exception occurred:\n",
      "\u001b[1;31mKeyError\u001b[0m                                  Traceback (most recent call last)",
      "\u001b[1;32m~\\Anaconda3\\lib\\site-packages\\pandas\\core\\internals\\managers.py\u001b[0m in \u001b[0;36mset\u001b[1;34m(self, item, value)\u001b[0m\n\u001b[0;32m   1070\u001b[0m         \u001b[1;32mtry\u001b[0m\u001b[1;33m:\u001b[0m\u001b[1;33m\u001b[0m\u001b[1;33m\u001b[0m\u001b[0m\n\u001b[1;32m-> 1071\u001b[1;33m             \u001b[0mloc\u001b[0m \u001b[1;33m=\u001b[0m \u001b[0mself\u001b[0m\u001b[1;33m.\u001b[0m\u001b[0mitems\u001b[0m\u001b[1;33m.\u001b[0m\u001b[0mget_loc\u001b[0m\u001b[1;33m(\u001b[0m\u001b[0mitem\u001b[0m\u001b[1;33m)\u001b[0m\u001b[1;33m\u001b[0m\u001b[1;33m\u001b[0m\u001b[0m\n\u001b[0m\u001b[0;32m   1072\u001b[0m         \u001b[1;32mexcept\u001b[0m \u001b[0mKeyError\u001b[0m\u001b[1;33m:\u001b[0m\u001b[1;33m\u001b[0m\u001b[1;33m\u001b[0m\u001b[0m\n",
      "\u001b[1;32m~\\Anaconda3\\lib\\site-packages\\pandas\\core\\indexes\\base.py\u001b[0m in \u001b[0;36mget_loc\u001b[1;34m(self, key, method, tolerance)\u001b[0m\n\u001b[0;32m   2647\u001b[0m             \u001b[1;32mexcept\u001b[0m \u001b[0mKeyError\u001b[0m\u001b[1;33m:\u001b[0m\u001b[1;33m\u001b[0m\u001b[1;33m\u001b[0m\u001b[0m\n\u001b[1;32m-> 2648\u001b[1;33m                 \u001b[1;32mreturn\u001b[0m \u001b[0mself\u001b[0m\u001b[1;33m.\u001b[0m\u001b[0m_engine\u001b[0m\u001b[1;33m.\u001b[0m\u001b[0mget_loc\u001b[0m\u001b[1;33m(\u001b[0m\u001b[0mself\u001b[0m\u001b[1;33m.\u001b[0m\u001b[0m_maybe_cast_indexer\u001b[0m\u001b[1;33m(\u001b[0m\u001b[0mkey\u001b[0m\u001b[1;33m)\u001b[0m\u001b[1;33m)\u001b[0m\u001b[1;33m\u001b[0m\u001b[1;33m\u001b[0m\u001b[0m\n\u001b[0m\u001b[0;32m   2649\u001b[0m         \u001b[0mindexer\u001b[0m \u001b[1;33m=\u001b[0m \u001b[0mself\u001b[0m\u001b[1;33m.\u001b[0m\u001b[0mget_indexer\u001b[0m\u001b[1;33m(\u001b[0m\u001b[1;33m[\u001b[0m\u001b[0mkey\u001b[0m\u001b[1;33m]\u001b[0m\u001b[1;33m,\u001b[0m \u001b[0mmethod\u001b[0m\u001b[1;33m=\u001b[0m\u001b[0mmethod\u001b[0m\u001b[1;33m,\u001b[0m \u001b[0mtolerance\u001b[0m\u001b[1;33m=\u001b[0m\u001b[0mtolerance\u001b[0m\u001b[1;33m)\u001b[0m\u001b[1;33m\u001b[0m\u001b[1;33m\u001b[0m\u001b[0m\n",
      "\u001b[1;32mpandas\\_libs\\index.pyx\u001b[0m in \u001b[0;36mpandas._libs.index.IndexEngine.get_loc\u001b[1;34m()\u001b[0m\n",
      "\u001b[1;32mpandas\\_libs\\index.pyx\u001b[0m in \u001b[0;36mpandas._libs.index.IndexEngine.get_loc\u001b[1;34m()\u001b[0m\n",
      "\u001b[1;32mpandas\\_libs\\hashtable_class_helper.pxi\u001b[0m in \u001b[0;36mpandas._libs.hashtable.PyObjectHashTable.get_item\u001b[1;34m()\u001b[0m\n",
      "\u001b[1;32mpandas\\_libs\\hashtable_class_helper.pxi\u001b[0m in \u001b[0;36mpandas._libs.hashtable.PyObjectHashTable.get_item\u001b[1;34m()\u001b[0m\n",
      "\u001b[1;31mKeyError\u001b[0m: 'sum'",
      "\nDuring handling of the above exception, another exception occurred:\n",
      "\u001b[1;31mKeyboardInterrupt\u001b[0m                         Traceback (most recent call last)",
      "\u001b[1;32m<ipython-input-206-eae36d185a62>\u001b[0m in \u001b[0;36m<module>\u001b[1;34m\u001b[0m\n\u001b[1;32m----> 1\u001b[1;33m \u001b[0mdbscan_show\u001b[0m \u001b[1;33m=\u001b[0m \u001b[0mcreate_clusters_show_time_window\u001b[0m\u001b[1;33m(\u001b[0m\u001b[0mdf\u001b[0m\u001b[1;33m,\u001b[0m\u001b[1;36m2\u001b[0m\u001b[1;33m,\u001b[0m\u001b[1;36m0.4\u001b[0m\u001b[1;33m,\u001b[0m\u001b[1;36m0\u001b[0m\u001b[1;33m,\u001b[0m\u001b[1;36m0\u001b[0m\u001b[1;33m,\u001b[0m\u001b[1;32mTrue\u001b[0m\u001b[1;33m,\u001b[0m\u001b[1;34m'dbscan'\u001b[0m\u001b[1;33m)\u001b[0m\u001b[1;33m\u001b[0m\u001b[1;33m\u001b[0m\u001b[0m\n\u001b[0m",
      "\u001b[1;32m<ipython-input-203-3b7c9338c671>\u001b[0m in \u001b[0;36mcreate_clusters_show_time_window\u001b[1;34m(df, ngram, epsilon, mindf, maxdf, coordinates, method_cl)\u001b[0m\n\u001b[0;32m     35\u001b[0m             \u001b[0mmaximum\u001b[0m \u001b[1;33m=\u001b[0m \u001b[0mtfidf_object\u001b[0m\u001b[1;33m[\u001b[0m\u001b[1;34m'maximum'\u001b[0m\u001b[1;33m]\u001b[0m\u001b[1;33m\u001b[0m\u001b[1;33m\u001b[0m\u001b[0m\n\u001b[0;32m     36\u001b[0m             \u001b[0mlist_sum\u001b[0m \u001b[1;33m=\u001b[0m \u001b[0mtfidf_object\u001b[0m\u001b[1;33m[\u001b[0m\u001b[1;34m'sum'\u001b[0m\u001b[1;33m]\u001b[0m\u001b[1;33m\u001b[0m\u001b[1;33m\u001b[0m\u001b[0m\n\u001b[1;32m---> 37\u001b[1;33m             \u001b[0mtweets\u001b[0m\u001b[1;33m[\u001b[0m\u001b[1;34m'sum'\u001b[0m\u001b[1;33m]\u001b[0m \u001b[1;33m=\u001b[0m \u001b[0mlist_sum\u001b[0m\u001b[1;33m\u001b[0m\u001b[1;33m\u001b[0m\u001b[0m\n\u001b[0m\u001b[0;32m     38\u001b[0m             \u001b[0mnoise_tweets\u001b[0m \u001b[1;33m=\u001b[0m \u001b[0mtweets\u001b[0m\u001b[1;33m.\u001b[0m\u001b[0mloc\u001b[0m\u001b[1;33m[\u001b[0m\u001b[0mtweets\u001b[0m\u001b[1;33m[\u001b[0m\u001b[1;34m'sum'\u001b[0m\u001b[1;33m]\u001b[0m\u001b[1;33m==\u001b[0m\u001b[1;36m0\u001b[0m\u001b[1;33m]\u001b[0m\u001b[1;33m\u001b[0m\u001b[1;33m\u001b[0m\u001b[0m\n\u001b[0;32m     39\u001b[0m \u001b[1;33m\u001b[0m\u001b[0m\n",
      "\u001b[1;32m~\\Anaconda3\\lib\\site-packages\\pandas\\core\\frame.py\u001b[0m in \u001b[0;36m__setitem__\u001b[1;34m(self, key, value)\u001b[0m\n\u001b[0;32m   2936\u001b[0m         \u001b[1;32melse\u001b[0m\u001b[1;33m:\u001b[0m\u001b[1;33m\u001b[0m\u001b[1;33m\u001b[0m\u001b[0m\n\u001b[0;32m   2937\u001b[0m             \u001b[1;31m# set column\u001b[0m\u001b[1;33m\u001b[0m\u001b[1;33m\u001b[0m\u001b[1;33m\u001b[0m\u001b[0m\n\u001b[1;32m-> 2938\u001b[1;33m             \u001b[0mself\u001b[0m\u001b[1;33m.\u001b[0m\u001b[0m_set_item\u001b[0m\u001b[1;33m(\u001b[0m\u001b[0mkey\u001b[0m\u001b[1;33m,\u001b[0m \u001b[0mvalue\u001b[0m\u001b[1;33m)\u001b[0m\u001b[1;33m\u001b[0m\u001b[1;33m\u001b[0m\u001b[0m\n\u001b[0m\u001b[0;32m   2939\u001b[0m \u001b[1;33m\u001b[0m\u001b[0m\n\u001b[0;32m   2940\u001b[0m     \u001b[1;32mdef\u001b[0m \u001b[0m_setitem_slice\u001b[0m\u001b[1;33m(\u001b[0m\u001b[0mself\u001b[0m\u001b[1;33m,\u001b[0m \u001b[0mkey\u001b[0m\u001b[1;33m,\u001b[0m \u001b[0mvalue\u001b[0m\u001b[1;33m)\u001b[0m\u001b[1;33m:\u001b[0m\u001b[1;33m\u001b[0m\u001b[1;33m\u001b[0m\u001b[0m\n",
      "\u001b[1;32m~\\Anaconda3\\lib\\site-packages\\pandas\\core\\frame.py\u001b[0m in \u001b[0;36m_set_item\u001b[1;34m(self, key, value)\u001b[0m\n\u001b[0;32m   2999\u001b[0m         \u001b[0mself\u001b[0m\u001b[1;33m.\u001b[0m\u001b[0m_ensure_valid_index\u001b[0m\u001b[1;33m(\u001b[0m\u001b[0mvalue\u001b[0m\u001b[1;33m)\u001b[0m\u001b[1;33m\u001b[0m\u001b[1;33m\u001b[0m\u001b[0m\n\u001b[0;32m   3000\u001b[0m         \u001b[0mvalue\u001b[0m \u001b[1;33m=\u001b[0m \u001b[0mself\u001b[0m\u001b[1;33m.\u001b[0m\u001b[0m_sanitize_column\u001b[0m\u001b[1;33m(\u001b[0m\u001b[0mkey\u001b[0m\u001b[1;33m,\u001b[0m \u001b[0mvalue\u001b[0m\u001b[1;33m)\u001b[0m\u001b[1;33m\u001b[0m\u001b[1;33m\u001b[0m\u001b[0m\n\u001b[1;32m-> 3001\u001b[1;33m         \u001b[0mNDFrame\u001b[0m\u001b[1;33m.\u001b[0m\u001b[0m_set_item\u001b[0m\u001b[1;33m(\u001b[0m\u001b[0mself\u001b[0m\u001b[1;33m,\u001b[0m \u001b[0mkey\u001b[0m\u001b[1;33m,\u001b[0m \u001b[0mvalue\u001b[0m\u001b[1;33m)\u001b[0m\u001b[1;33m\u001b[0m\u001b[1;33m\u001b[0m\u001b[0m\n\u001b[0m\u001b[0;32m   3002\u001b[0m \u001b[1;33m\u001b[0m\u001b[0m\n\u001b[0;32m   3003\u001b[0m         \u001b[1;31m# check if we are modifying a copy\u001b[0m\u001b[1;33m\u001b[0m\u001b[1;33m\u001b[0m\u001b[1;33m\u001b[0m\u001b[0m\n",
      "\u001b[1;32m~\\Anaconda3\\lib\\site-packages\\pandas\\core\\generic.py\u001b[0m in \u001b[0;36m_set_item\u001b[1;34m(self, key, value)\u001b[0m\n\u001b[0;32m   3622\u001b[0m \u001b[1;33m\u001b[0m\u001b[0m\n\u001b[0;32m   3623\u001b[0m     \u001b[1;32mdef\u001b[0m \u001b[0m_set_item\u001b[0m\u001b[1;33m(\u001b[0m\u001b[0mself\u001b[0m\u001b[1;33m,\u001b[0m \u001b[0mkey\u001b[0m\u001b[1;33m,\u001b[0m \u001b[0mvalue\u001b[0m\u001b[1;33m)\u001b[0m \u001b[1;33m->\u001b[0m \u001b[1;32mNone\u001b[0m\u001b[1;33m:\u001b[0m\u001b[1;33m\u001b[0m\u001b[1;33m\u001b[0m\u001b[0m\n\u001b[1;32m-> 3624\u001b[1;33m         \u001b[0mself\u001b[0m\u001b[1;33m.\u001b[0m\u001b[0m_data\u001b[0m\u001b[1;33m.\u001b[0m\u001b[0mset\u001b[0m\u001b[1;33m(\u001b[0m\u001b[0mkey\u001b[0m\u001b[1;33m,\u001b[0m \u001b[0mvalue\u001b[0m\u001b[1;33m)\u001b[0m\u001b[1;33m\u001b[0m\u001b[1;33m\u001b[0m\u001b[0m\n\u001b[0m\u001b[0;32m   3625\u001b[0m         \u001b[0mself\u001b[0m\u001b[1;33m.\u001b[0m\u001b[0m_clear_item_cache\u001b[0m\u001b[1;33m(\u001b[0m\u001b[1;33m)\u001b[0m\u001b[1;33m\u001b[0m\u001b[1;33m\u001b[0m\u001b[0m\n\u001b[0;32m   3626\u001b[0m \u001b[1;33m\u001b[0m\u001b[0m\n",
      "\u001b[1;32m~\\Anaconda3\\lib\\site-packages\\pandas\\core\\internals\\managers.py\u001b[0m in \u001b[0;36mset\u001b[1;34m(self, item, value)\u001b[0m\n\u001b[0;32m   1072\u001b[0m         \u001b[1;32mexcept\u001b[0m \u001b[0mKeyError\u001b[0m\u001b[1;33m:\u001b[0m\u001b[1;33m\u001b[0m\u001b[1;33m\u001b[0m\u001b[0m\n\u001b[0;32m   1073\u001b[0m             \u001b[1;31m# This item wasn't present, just insert at end\u001b[0m\u001b[1;33m\u001b[0m\u001b[1;33m\u001b[0m\u001b[1;33m\u001b[0m\u001b[0m\n\u001b[1;32m-> 1074\u001b[1;33m             \u001b[0mself\u001b[0m\u001b[1;33m.\u001b[0m\u001b[0minsert\u001b[0m\u001b[1;33m(\u001b[0m\u001b[0mlen\u001b[0m\u001b[1;33m(\u001b[0m\u001b[0mself\u001b[0m\u001b[1;33m.\u001b[0m\u001b[0mitems\u001b[0m\u001b[1;33m)\u001b[0m\u001b[1;33m,\u001b[0m \u001b[0mitem\u001b[0m\u001b[1;33m,\u001b[0m \u001b[0mvalue\u001b[0m\u001b[1;33m)\u001b[0m\u001b[1;33m\u001b[0m\u001b[1;33m\u001b[0m\u001b[0m\n\u001b[0m\u001b[0;32m   1075\u001b[0m             \u001b[1;32mreturn\u001b[0m\u001b[1;33m\u001b[0m\u001b[1;33m\u001b[0m\u001b[0m\n\u001b[0;32m   1076\u001b[0m \u001b[1;33m\u001b[0m\u001b[0m\n",
      "\u001b[1;32m~\\Anaconda3\\lib\\site-packages\\pandas\\core\\internals\\managers.py\u001b[0m in \u001b[0;36minsert\u001b[1;34m(self, loc, item, value, allow_duplicates)\u001b[0m\n\u001b[0;32m   1181\u001b[0m         \u001b[0mblock\u001b[0m \u001b[1;33m=\u001b[0m \u001b[0mmake_block\u001b[0m\u001b[1;33m(\u001b[0m\u001b[0mvalues\u001b[0m\u001b[1;33m=\u001b[0m\u001b[0mvalue\u001b[0m\u001b[1;33m,\u001b[0m \u001b[0mndim\u001b[0m\u001b[1;33m=\u001b[0m\u001b[0mself\u001b[0m\u001b[1;33m.\u001b[0m\u001b[0mndim\u001b[0m\u001b[1;33m,\u001b[0m \u001b[0mplacement\u001b[0m\u001b[1;33m=\u001b[0m\u001b[0mslice\u001b[0m\u001b[1;33m(\u001b[0m\u001b[0mloc\u001b[0m\u001b[1;33m,\u001b[0m \u001b[0mloc\u001b[0m \u001b[1;33m+\u001b[0m \u001b[1;36m1\u001b[0m\u001b[1;33m)\u001b[0m\u001b[1;33m)\u001b[0m\u001b[1;33m\u001b[0m\u001b[1;33m\u001b[0m\u001b[0m\n\u001b[0;32m   1182\u001b[0m \u001b[1;33m\u001b[0m\u001b[0m\n\u001b[1;32m-> 1183\u001b[1;33m         \u001b[1;32mfor\u001b[0m \u001b[0mblkno\u001b[0m\u001b[1;33m,\u001b[0m \u001b[0mcount\u001b[0m \u001b[1;32min\u001b[0m \u001b[0m_fast_count_smallints\u001b[0m\u001b[1;33m(\u001b[0m\u001b[0mself\u001b[0m\u001b[1;33m.\u001b[0m\u001b[0m_blknos\u001b[0m\u001b[1;33m[\u001b[0m\u001b[0mloc\u001b[0m\u001b[1;33m:\u001b[0m\u001b[1;33m]\u001b[0m\u001b[1;33m)\u001b[0m\u001b[1;33m:\u001b[0m\u001b[1;33m\u001b[0m\u001b[1;33m\u001b[0m\u001b[0m\n\u001b[0m\u001b[0;32m   1184\u001b[0m             \u001b[0mblk\u001b[0m \u001b[1;33m=\u001b[0m \u001b[0mself\u001b[0m\u001b[1;33m.\u001b[0m\u001b[0mblocks\u001b[0m\u001b[1;33m[\u001b[0m\u001b[0mblkno\u001b[0m\u001b[1;33m]\u001b[0m\u001b[1;33m\u001b[0m\u001b[1;33m\u001b[0m\u001b[0m\n\u001b[0;32m   1185\u001b[0m             \u001b[1;32mif\u001b[0m \u001b[0mcount\u001b[0m \u001b[1;33m==\u001b[0m \u001b[0mlen\u001b[0m\u001b[1;33m(\u001b[0m\u001b[0mblk\u001b[0m\u001b[1;33m.\u001b[0m\u001b[0mmgr_locs\u001b[0m\u001b[1;33m)\u001b[0m\u001b[1;33m:\u001b[0m\u001b[1;33m\u001b[0m\u001b[1;33m\u001b[0m\u001b[0m\n",
      "\u001b[1;32m~\\Anaconda3\\lib\\site-packages\\pandas\\core\\internals\\managers.py\u001b[0m in \u001b[0;36m_fast_count_smallints\u001b[1;34m(arr)\u001b[0m\n\u001b[0;32m   1965\u001b[0m     \u001b[0mcounts\u001b[0m \u001b[1;33m=\u001b[0m \u001b[0mnp\u001b[0m\u001b[1;33m.\u001b[0m\u001b[0mbincount\u001b[0m\u001b[1;33m(\u001b[0m\u001b[0marr\u001b[0m\u001b[1;33m.\u001b[0m\u001b[0mastype\u001b[0m\u001b[1;33m(\u001b[0m\u001b[0mnp\u001b[0m\u001b[1;33m.\u001b[0m\u001b[0mint_\u001b[0m\u001b[1;33m)\u001b[0m\u001b[1;33m)\u001b[0m\u001b[1;33m\u001b[0m\u001b[1;33m\u001b[0m\u001b[0m\n\u001b[0;32m   1966\u001b[0m     \u001b[0mnz\u001b[0m \u001b[1;33m=\u001b[0m \u001b[0mcounts\u001b[0m\u001b[1;33m.\u001b[0m\u001b[0mnonzero\u001b[0m\u001b[1;33m(\u001b[0m\u001b[1;33m)\u001b[0m\u001b[1;33m[\u001b[0m\u001b[1;36m0\u001b[0m\u001b[1;33m]\u001b[0m\u001b[1;33m\u001b[0m\u001b[1;33m\u001b[0m\u001b[0m\n\u001b[1;32m-> 1967\u001b[1;33m     \u001b[1;32mreturn\u001b[0m \u001b[0mnp\u001b[0m\u001b[1;33m.\u001b[0m\u001b[0mc_\u001b[0m\u001b[1;33m[\u001b[0m\u001b[0mnz\u001b[0m\u001b[1;33m,\u001b[0m \u001b[0mcounts\u001b[0m\u001b[1;33m[\u001b[0m\u001b[0mnz\u001b[0m\u001b[1;33m]\u001b[0m\u001b[1;33m]\u001b[0m\u001b[1;33m\u001b[0m\u001b[1;33m\u001b[0m\u001b[0m\n\u001b[0m\u001b[0;32m   1968\u001b[0m \u001b[1;33m\u001b[0m\u001b[0m\n\u001b[0;32m   1969\u001b[0m \u001b[1;33m\u001b[0m\u001b[0m\n",
      "\u001b[1;32m~\\Anaconda3\\lib\\site-packages\\numpy\\lib\\index_tricks.py\u001b[0m in \u001b[0;36m__getitem__\u001b[1;34m(self, key)\u001b[0m\n\u001b[0;32m    404\u001b[0m                 \u001b[0mobjs\u001b[0m\u001b[1;33m[\u001b[0m\u001b[0mk\u001b[0m\u001b[1;33m]\u001b[0m \u001b[1;33m=\u001b[0m \u001b[0mobjs\u001b[0m\u001b[1;33m[\u001b[0m\u001b[0mk\u001b[0m\u001b[1;33m]\u001b[0m\u001b[1;33m.\u001b[0m\u001b[0mastype\u001b[0m\u001b[1;33m(\u001b[0m\u001b[0mfinal_dtype\u001b[0m\u001b[1;33m)\u001b[0m\u001b[1;33m\u001b[0m\u001b[1;33m\u001b[0m\u001b[0m\n\u001b[0;32m    405\u001b[0m \u001b[1;33m\u001b[0m\u001b[0m\n\u001b[1;32m--> 406\u001b[1;33m         \u001b[0mres\u001b[0m \u001b[1;33m=\u001b[0m \u001b[0mself\u001b[0m\u001b[1;33m.\u001b[0m\u001b[0mconcatenate\u001b[0m\u001b[1;33m(\u001b[0m\u001b[0mtuple\u001b[0m\u001b[1;33m(\u001b[0m\u001b[0mobjs\u001b[0m\u001b[1;33m)\u001b[0m\u001b[1;33m,\u001b[0m \u001b[0maxis\u001b[0m\u001b[1;33m=\u001b[0m\u001b[0maxis\u001b[0m\u001b[1;33m)\u001b[0m\u001b[1;33m\u001b[0m\u001b[1;33m\u001b[0m\u001b[0m\n\u001b[0m\u001b[0;32m    407\u001b[0m \u001b[1;33m\u001b[0m\u001b[0m\n\u001b[0;32m    408\u001b[0m         \u001b[1;32mif\u001b[0m \u001b[0mmatrix\u001b[0m\u001b[1;33m:\u001b[0m\u001b[1;33m\u001b[0m\u001b[1;33m\u001b[0m\u001b[0m\n",
      "\u001b[1;32m<__array_function__ internals>\u001b[0m in \u001b[0;36mconcatenate\u001b[1;34m(*args, **kwargs)\u001b[0m\n",
      "\u001b[1;31mKeyboardInterrupt\u001b[0m: "
     ]
    },
    {
     "name": "stdout",
     "output_type": "stream",
     "text": [
      "time: 23.3 s\n"
     ]
    }
   ],
   "source": [
    "dbscan_show = create_clusters_show_time_window(df,2,0.4,0,0,True,'dbscan')"
   ]
  },
  {
   "cell_type": "code",
   "execution_count": null,
   "metadata": {},
   "outputs": [],
   "source": [
    "create_clusters_show_time_window(df,2,0.5,0,0,False,'dbscan')"
   ]
  },
  {
   "cell_type": "code",
   "execution_count": null,
   "metadata": {},
   "outputs": [],
   "source": [
    "hdbscan_show = create_clusters_show_time_window(df,2,0.5,1,0,'hdbscan')"
   ]
  },
  {
   "cell_type": "code",
   "execution_count": null,
   "metadata": {},
   "outputs": [],
   "source": [
    "hierarchical = create_clusters_show_time_window(df,2,0.5,1,0,'hierarchical')"
   ]
  },
  {
   "cell_type": "code",
   "execution_count": null,
   "metadata": {},
   "outputs": [],
   "source": [
    "kmeans = create_clusters_show_time_window(df,2,0.5,1,0,'kmeans')"
   ]
  },
  {
   "cell_type": "code",
   "execution_count": null,
   "metadata": {},
   "outputs": [],
   "source": [
    "affinity = create_clusters_show_time_window(df,2,0.5,1,0,'affinity')"
   ]
  },
  {
   "cell_type": "code",
   "execution_count": null,
   "metadata": {},
   "outputs": [],
   "source": [
    "# ngram = [2]\n",
    "# epsilon = [0.4,0.5,0.6,0.7,0.8,0.9]\n",
    "# mindf = [1]\n",
    "# maxdf = [0]\n",
    "# distance_metric = ['cosine']\n",
    "# dbscan_json = []\n",
    "# final_count = 0\n",
    "# for w in range(len(distance_metric)):\n",
    "#     for i in range(len(ngram)):\n",
    "#         for j in range(len(epsilon)):\n",
    "#             for k in range(len(mindf)):\n",
    "#                 for l in range(len(maxdf)):\n",
    "#                     temp = create_clusters(df,ngram[i],epsilon[j],mindf[k],maxdf[l],0,distance_metric[w])\n",
    "#                     if temp: \n",
    "#                         dbscan_json.append(temp)\n",
    "#                         print(\"Done\",final_count)\n",
    "#                     final_count+=1\n",
    "\n",
    "# root_object = {\"root\":dbscan_json}\n",
    "# with open('dbscan_parameters_evaluation.json', 'w') as f:\n",
    "#     json.dump(root_object, f)"
   ]
  },
  {
   "cell_type": "code",
   "execution_count": null,
   "metadata": {},
   "outputs": [],
   "source": [
    "# epsilon = [0.5]\n",
    "# hdbscan_json = []\n",
    "# final_count = 0 \n",
    "# for w in range(len(distance_metric)):\n",
    "#     for i in range(len(ngram)):\n",
    "#         for j in range(len(epsilon)):\n",
    "#             for k in range(len(mindf)):\n",
    "#                 for l in range(len(maxdf)):\n",
    "#                     temp = create_clusters(df,ngram[i],epsilon[j],mindf[k],maxdf[l],1,distance_metric[w])\n",
    "#                     if temp:\n",
    "#                         hdbscan_json.append(temp)\n",
    "#                         print(\"Done\",final_count)\n",
    "#                     final_count+=1\n",
    "\n",
    "# root_object = {\"root\":hdbscan_json}\n",
    "# with open('hdbscan_parameters_evaluation.json', 'w') as f:\n",
    "#     json.dump(root_object, f)"
   ]
  }
 ],
 "metadata": {
  "kernelspec": {
   "display_name": "Python 3",
   "language": "python",
   "name": "python3"
  },
  "language_info": {
   "codemirror_mode": {
    "name": "ipython",
    "version": 3
   },
   "file_extension": ".py",
   "mimetype": "text/x-python",
   "name": "python",
   "nbconvert_exporter": "python",
   "pygments_lexer": "ipython3",
   "version": "3.7.1"
  }
 },
 "nbformat": 4,
 "nbformat_minor": 2
}
