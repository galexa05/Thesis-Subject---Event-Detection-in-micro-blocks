{
 "cells": [
  {
   "cell_type": "code",
   "execution_count": 1,
   "metadata": {},
   "outputs": [],
   "source": [
    "import pandas as pd\n",
    "import numpy as np\n",
    "import csv"
   ]
  },
  {
   "cell_type": "code",
   "execution_count": 2,
   "metadata": {},
   "outputs": [
    {
     "name": "stdout",
     "output_type": "stream",
     "text": [
      "70714\n"
     ]
    },
    {
     "data": {
      "text/html": [
       "<div>\n",
       "<style scoped>\n",
       "    .dataframe tbody tr th:only-of-type {\n",
       "        vertical-align: middle;\n",
       "    }\n",
       "\n",
       "    .dataframe tbody tr th {\n",
       "        vertical-align: top;\n",
       "    }\n",
       "\n",
       "    .dataframe thead th {\n",
       "        text-align: right;\n",
       "    }\n",
       "</style>\n",
       "<table border=\"1\" class=\"dataframe\">\n",
       "  <thead>\n",
       "    <tr style=\"text-align: right;\">\n",
       "      <th></th>\n",
       "      <th>tweets</th>\n",
       "      <th>created_at</th>\n",
       "      <th>id</th>\n",
       "      <th>rt</th>\n",
       "      <th>lang</th>\n",
       "      <th>urls</th>\n",
       "    </tr>\n",
       "  </thead>\n",
       "  <tbody>\n",
       "    <tr>\n",
       "      <th>3902</th>\n",
       "      <td>The EU won the 2012 #Nobel Peace Prize.</td>\n",
       "      <td>Fri Oct 12 09:19:05 +0000 2012</td>\n",
       "      <td>256685411366227968</td>\n",
       "      <td>False</td>\n",
       "      <td>en</td>\n",
       "      <td>None</td>\n",
       "    </tr>\n",
       "  </tbody>\n",
       "</table>\n",
       "</div>"
      ],
      "text/plain": [
       "                                       tweets                      created_at  \\\n",
       "3902  The EU won the 2012 #Nobel Peace Prize.  Fri Oct 12 09:19:05 +0000 2012   \n",
       "\n",
       "                      id     rt lang  urls  \n",
       "3902  256685411366227968  False   en  None  "
      ]
     },
     "execution_count": 2,
     "metadata": {},
     "output_type": "execute_result"
    }
   ],
   "source": [
    "colnames=['tweets', 'created_at', 'id','rt','lang','urls'] \n",
    "df = pd.read_csv('output_relevant_nocord.csv', names=colnames, header=None)\n",
    "print(df.shape[0])\n",
    "df.loc[df.id==256685411366227968]"
   ]
  },
  {
   "cell_type": "code",
   "execution_count": 3,
   "metadata": {},
   "outputs": [
    {
     "data": {
      "text/plain": [
       "70714"
      ]
     },
     "execution_count": 3,
     "metadata": {},
     "output_type": "execute_result"
    }
   ],
   "source": [
    "df.shape[0]"
   ]
  },
  {
   "cell_type": "code",
   "execution_count": 4,
   "metadata": {
    "scrolled": true
   },
   "outputs": [],
   "source": [
    "unique_ids = df.id.unique()"
   ]
  },
  {
   "cell_type": "code",
   "execution_count": 5,
   "metadata": {},
   "outputs": [],
   "source": [
    "df2_list = []\n",
    "for temp_id in unique_ids:\n",
    "    temp = df.loc[df.id==temp_id].copy()\n",
    "    df2_list.append(temp.iloc[0])"
   ]
  },
  {
   "cell_type": "code",
   "execution_count": 6,
   "metadata": {},
   "outputs": [
    {
     "data": {
      "text/plain": [
       "69539"
      ]
     },
     "execution_count": 6,
     "metadata": {},
     "output_type": "execute_result"
    }
   ],
   "source": [
    "len(df2_list)"
   ]
  },
  {
   "cell_type": "code",
   "execution_count": 7,
   "metadata": {},
   "outputs": [],
   "source": [
    "columns = df.columns.tolist()\n",
    "df2 = pd.DataFrame(columns=columns)\n",
    "df2 = df2.append(df2_list,ignore_index=True)"
   ]
  },
  {
   "cell_type": "code",
   "execution_count": 8,
   "metadata": {},
   "outputs": [],
   "source": [
    "df = df2.copy()"
   ]
  },
  {
   "cell_type": "code",
   "execution_count": 9,
   "metadata": {},
   "outputs": [
    {
     "data": {
      "text/plain": [
       "Text(0.5, 1.0, 'Tweets 2012')"
      ]
     },
     "execution_count": 9,
     "metadata": {},
     "output_type": "execute_result"
    },
    {
     "data": {
      "image/png": "[encoded data removed]",
      "text/plain": [
       "<Figure size 432x288 with 1 Axes>"
      ]
     },
     "metadata": {
      "needs_background": "light"
     },
     "output_type": "display_data"
    }
   ],
   "source": [
    "import matplotlib.pyplot as plt\n",
    "# plots number of tweets in each language\n",
    "counts = df['lang'].value_counts()\n",
    "plt.bar(counts.index, counts, align='center', alpha=1)\n",
    "plt.xlabel('Tweet Language')\n",
    "plt.ylabel('# of Tweets')\n",
    "plt.title('Tweets 2012')\n"
   ]
  },
  {
   "cell_type": "code",
   "execution_count": null,
   "metadata": {},
   "outputs": [],
   "source": []
  },
  {
   "cell_type": "code",
   "execution_count": 10,
   "metadata": {},
   "outputs": [
    {
     "name": "stdout",
     "output_type": "stream",
     "text": [
      "Old df shape: 69539\n",
      "New df shape: 67864\n"
     ]
    }
   ],
   "source": [
    "print(\"Old df shape:\",df.shape[0])\n",
    "df = df.loc[df[\"lang\"]=='en']\n",
    "print(\"New df shape:\",df.shape[0])"
   ]
  },
  {
   "cell_type": "code",
   "execution_count": 11,
   "metadata": {
    "scrolled": true
   },
   "outputs": [],
   "source": [
    "df['Event'] = np.empty((len(df), 0)).tolist()"
   ]
  },
  {
   "cell_type": "code",
   "execution_count": 12,
   "metadata": {},
   "outputs": [],
   "source": [
    "colnames_label = ['event','id']\n",
    "df_label = pd.read_csv(\"relevant_tweets.tsv\",sep='\\t',names=colnames_label,header=None)"
   ]
  },
  {
   "cell_type": "code",
   "execution_count": 13,
   "metadata": {},
   "outputs": [
    {
     "data": {
      "text/html": [
       "<div>\n",
       "<style scoped>\n",
       "    .dataframe tbody tr th:only-of-type {\n",
       "        vertical-align: middle;\n",
       "    }\n",
       "\n",
       "    .dataframe tbody tr th {\n",
       "        vertical-align: top;\n",
       "    }\n",
       "\n",
       "    .dataframe thead th {\n",
       "        text-align: right;\n",
       "    }\n",
       "</style>\n",
       "<table border=\"1\" class=\"dataframe\">\n",
       "  <thead>\n",
       "    <tr style=\"text-align: right;\">\n",
       "      <th></th>\n",
       "      <th>event</th>\n",
       "      <th>id</th>\n",
       "    </tr>\n",
       "  </thead>\n",
       "  <tbody>\n",
       "    <tr>\n",
       "      <th>10744</th>\n",
       "      <td>2</td>\n",
       "      <td>256685411366227968</td>\n",
       "    </tr>\n",
       "    <tr>\n",
       "      <th>10745</th>\n",
       "      <td>2</td>\n",
       "      <td>256685411366227968</td>\n",
       "    </tr>\n",
       "    <tr>\n",
       "      <th>10746</th>\n",
       "      <td>2</td>\n",
       "      <td>256685411366227968</td>\n",
       "    </tr>\n",
       "    <tr>\n",
       "      <th>10747</th>\n",
       "      <td>2</td>\n",
       "      <td>256685411366227968</td>\n",
       "    </tr>\n",
       "  </tbody>\n",
       "</table>\n",
       "</div>"
      ],
      "text/plain": [
       "       event                  id\n",
       "10744      2  256685411366227968\n",
       "10745      2  256685411366227968\n",
       "10746      2  256685411366227968\n",
       "10747      2  256685411366227968"
      ]
     },
     "execution_count": 13,
     "metadata": {},
     "output_type": "execute_result"
    }
   ],
   "source": [
    "df_label.loc[df_label['id']==256685411366227968]"
   ]
  },
  {
   "cell_type": "code",
   "execution_count": 14,
   "metadata": {},
   "outputs": [
    {
     "name": "stdout",
     "output_type": "stream",
     "text": [
      "10000\n",
      "20000\n",
      "30000\n",
      "40000\n",
      "50000\n",
      "60000\n"
     ]
    }
   ],
   "source": [
    "sum = 10000\n",
    "count = 0 \n",
    "for i in range(len(df)):\n",
    "    if(i==sum):\n",
    "        print(i)\n",
    "        sum+=10000\n",
    "    temp_id = df.id.iloc[i]\n",
    "    event_list = df_label.loc[df_label.id==temp_id]['event']\n",
    "    for j in range(len(event_list)):\n",
    "        df.Event.iloc[i].append(event_list.iloc[j])"
   ]
  },
  {
   "cell_type": "code",
   "execution_count": 15,
   "metadata": {},
   "outputs": [
    {
     "data": {
      "text/html": [
       "<div>\n",
       "<style scoped>\n",
       "    .dataframe tbody tr th:only-of-type {\n",
       "        vertical-align: middle;\n",
       "    }\n",
       "\n",
       "    .dataframe tbody tr th {\n",
       "        vertical-align: top;\n",
       "    }\n",
       "\n",
       "    .dataframe thead th {\n",
       "        text-align: right;\n",
       "    }\n",
       "</style>\n",
       "<table border=\"1\" class=\"dataframe\">\n",
       "  <thead>\n",
       "    <tr style=\"text-align: right;\">\n",
       "      <th></th>\n",
       "      <th>tweets</th>\n",
       "      <th>created_at</th>\n",
       "      <th>id</th>\n",
       "      <th>rt</th>\n",
       "      <th>lang</th>\n",
       "      <th>urls</th>\n",
       "      <th>Event</th>\n",
       "    </tr>\n",
       "  </thead>\n",
       "  <tbody>\n",
       "    <tr>\n",
       "      <th>0</th>\n",
       "      <td>News: Chinese author Mo Yan wins Nobel http://...</td>\n",
       "      <td>Thu Oct 11 11:08:32 +0000 2012</td>\n",
       "      <td>256350567369175040</td>\n",
       "      <td>False</td>\n",
       "      <td>en</td>\n",
       "      <td>http://bbc.in/RbTlMC</td>\n",
       "      <td>[0]</td>\n",
       "    </tr>\n",
       "    <tr>\n",
       "      <th>1</th>\n",
       "      <td>CCTV invite hints at Nobel literature prize fo...</td>\n",
       "      <td>Thu Oct 11 10:51:28 +0000 2012</td>\n",
       "      <td>256346272506712064</td>\n",
       "      <td>False</td>\n",
       "      <td>en</td>\n",
       "      <td>http://bit.ly/RhMRvS</td>\n",
       "      <td>[0, 0]</td>\n",
       "    </tr>\n",
       "    <tr>\n",
       "      <th>2</th>\n",
       "      <td>Mo Yan wins 2012 Nobel Prize for Literature. G...</td>\n",
       "      <td>Thu Oct 11 11:11:22 +0000 2012</td>\n",
       "      <td>256351280652488704</td>\n",
       "      <td>False</td>\n",
       "      <td>en</td>\n",
       "      <td>http://bit.ly/SNAqLI</td>\n",
       "      <td>[0, 0]</td>\n",
       "    </tr>\n",
       "    <tr>\n",
       "      <th>3</th>\n",
       "      <td>#Nobel for #literature to Mo Yan.</td>\n",
       "      <td>Thu Oct 11 11:16:26 +0000 2012</td>\n",
       "      <td>256352555431510018</td>\n",
       "      <td>False</td>\n",
       "      <td>en</td>\n",
       "      <td>None</td>\n",
       "      <td>[0]</td>\n",
       "    </tr>\n",
       "    <tr>\n",
       "      <th>4</th>\n",
       "      <td>Chinese author Mo Yan wins Nobel http://t.co/g...</td>\n",
       "      <td>Thu Oct 11 11:12:31 +0000 2012</td>\n",
       "      <td>256351569753276416</td>\n",
       "      <td>False</td>\n",
       "      <td>en</td>\n",
       "      <td>http://www.bbc.co.uk/news/entertainment-arts-1...</td>\n",
       "      <td>[0, 0]</td>\n",
       "    </tr>\n",
       "    <tr>\n",
       "      <th>...</th>\n",
       "      <td>...</td>\n",
       "      <td>...</td>\n",
       "      <td>...</td>\n",
       "      <td>...</td>\n",
       "      <td>...</td>\n",
       "      <td>...</td>\n",
       "      <td>...</td>\n",
       "    </tr>\n",
       "    <tr>\n",
       "      <th>69534</th>\n",
       "      <td>Looks like the yankees are winning the world s...</td>\n",
       "      <td>Sat Oct 13 04:47:50 +0000 2012</td>\n",
       "      <td>256979537009713152</td>\n",
       "      <td>False</td>\n",
       "      <td>en</td>\n",
       "      <td>None</td>\n",
       "      <td>[505, 505]</td>\n",
       "    </tr>\n",
       "    <tr>\n",
       "      <th>69535</th>\n",
       "      <td>Destined to win the World Series again #12in12</td>\n",
       "      <td>Sat Oct 13 04:34:53 +0000 2012</td>\n",
       "      <td>256976277809008640</td>\n",
       "      <td>False</td>\n",
       "      <td>en</td>\n",
       "      <td>None</td>\n",
       "      <td>[505, 505]</td>\n",
       "    </tr>\n",
       "    <tr>\n",
       "      <th>69536</th>\n",
       "      <td>I see another world series this year</td>\n",
       "      <td>Sat Oct 13 04:37:33 +0000 2012</td>\n",
       "      <td>256976949229002752</td>\n",
       "      <td>False</td>\n",
       "      <td>en</td>\n",
       "      <td>None</td>\n",
       "      <td>[505, 505]</td>\n",
       "    </tr>\n",
       "    <tr>\n",
       "      <th>69537</th>\n",
       "      <td>Guess I gotta root for the Tigers to win the W...</td>\n",
       "      <td>Sat Oct 13 04:33:18 +0000 2012</td>\n",
       "      <td>256975879572426752</td>\n",
       "      <td>False</td>\n",
       "      <td>en</td>\n",
       "      <td>None</td>\n",
       "      <td>[505, 505]</td>\n",
       "    </tr>\n",
       "    <tr>\n",
       "      <th>69538</th>\n",
       "      <td>Cubs last World Series win, they were keeping ...</td>\n",
       "      <td>Sat Oct 13 04:53:01 +0000 2012</td>\n",
       "      <td>256980841446645760</td>\n",
       "      <td>False</td>\n",
       "      <td>en</td>\n",
       "      <td>None</td>\n",
       "      <td>[505, 505]</td>\n",
       "    </tr>\n",
       "  </tbody>\n",
       "</table>\n",
       "<p>67864 rows × 7 columns</p>\n",
       "</div>"
      ],
      "text/plain": [
       "                                                  tweets  \\\n",
       "0      News: Chinese author Mo Yan wins Nobel http://...   \n",
       "1      CCTV invite hints at Nobel literature prize fo...   \n",
       "2      Mo Yan wins 2012 Nobel Prize for Literature. G...   \n",
       "3                      #Nobel for #literature to Mo Yan.   \n",
       "4      Chinese author Mo Yan wins Nobel http://t.co/g...   \n",
       "...                                                  ...   \n",
       "69534  Looks like the yankees are winning the world s...   \n",
       "69535     Destined to win the World Series again #12in12   \n",
       "69536               I see another world series this year   \n",
       "69537  Guess I gotta root for the Tigers to win the W...   \n",
       "69538  Cubs last World Series win, they were keeping ...   \n",
       "\n",
       "                           created_at                  id     rt lang  \\\n",
       "0      Thu Oct 11 11:08:32 +0000 2012  256350567369175040  False   en   \n",
       "1      Thu Oct 11 10:51:28 +0000 2012  256346272506712064  False   en   \n",
       "2      Thu Oct 11 11:11:22 +0000 2012  256351280652488704  False   en   \n",
       "3      Thu Oct 11 11:16:26 +0000 2012  256352555431510018  False   en   \n",
       "4      Thu Oct 11 11:12:31 +0000 2012  256351569753276416  False   en   \n",
       "...                               ...                 ...    ...  ...   \n",
       "69534  Sat Oct 13 04:47:50 +0000 2012  256979537009713152  False   en   \n",
       "69535  Sat Oct 13 04:34:53 +0000 2012  256976277809008640  False   en   \n",
       "69536  Sat Oct 13 04:37:33 +0000 2012  256976949229002752  False   en   \n",
       "69537  Sat Oct 13 04:33:18 +0000 2012  256975879572426752  False   en   \n",
       "69538  Sat Oct 13 04:53:01 +0000 2012  256980841446645760  False   en   \n",
       "\n",
       "                                                    urls       Event  \n",
       "0                                   http://bbc.in/RbTlMC         [0]  \n",
       "1                                   http://bit.ly/RhMRvS      [0, 0]  \n",
       "2                                   http://bit.ly/SNAqLI      [0, 0]  \n",
       "3                                                   None         [0]  \n",
       "4      http://www.bbc.co.uk/news/entertainment-arts-1...      [0, 0]  \n",
       "...                                                  ...         ...  \n",
       "69534                                               None  [505, 505]  \n",
       "69535                                               None  [505, 505]  \n",
       "69536                                               None  [505, 505]  \n",
       "69537                                               None  [505, 505]  \n",
       "69538                                               None  [505, 505]  \n",
       "\n",
       "[67864 rows x 7 columns]"
      ]
     },
     "execution_count": 15,
     "metadata": {},
     "output_type": "execute_result"
    }
   ],
   "source": [
    "df"
   ]
  },
  {
   "cell_type": "code",
   "execution_count": 16,
   "metadata": {},
   "outputs": [],
   "source": [
    "# df['Event'] = np.array([list(set(temp)) for temp in df['Event']])\n",
    "df['count_event'] = np.array([len(temp) for temp in df['Event']])"
   ]
  },
  {
   "cell_type": "code",
   "execution_count": 17,
   "metadata": {},
   "outputs": [
    {
     "data": {
      "text/html": [
       "<div>\n",
       "<style scoped>\n",
       "    .dataframe tbody tr th:only-of-type {\n",
       "        vertical-align: middle;\n",
       "    }\n",
       "\n",
       "    .dataframe tbody tr th {\n",
       "        vertical-align: top;\n",
       "    }\n",
       "\n",
       "    .dataframe thead th {\n",
       "        text-align: right;\n",
       "    }\n",
       "</style>\n",
       "<table border=\"1\" class=\"dataframe\">\n",
       "  <thead>\n",
       "    <tr style=\"text-align: right;\">\n",
       "      <th></th>\n",
       "      <th>tweets</th>\n",
       "      <th>created_at</th>\n",
       "      <th>id</th>\n",
       "      <th>rt</th>\n",
       "      <th>lang</th>\n",
       "      <th>urls</th>\n",
       "      <th>Event</th>\n",
       "      <th>count_event</th>\n",
       "    </tr>\n",
       "  </thead>\n",
       "  <tbody>\n",
       "    <tr>\n",
       "      <th>3800</th>\n",
       "      <td>The EU won the 2012 #Nobel Peace Prize.</td>\n",
       "      <td>Fri Oct 12 09:19:05 +0000 2012</td>\n",
       "      <td>256685411366227968</td>\n",
       "      <td>False</td>\n",
       "      <td>en</td>\n",
       "      <td>None</td>\n",
       "      <td>[2, 2, 2, 2]</td>\n",
       "      <td>4</td>\n",
       "    </tr>\n",
       "    <tr>\n",
       "      <th>19936</th>\n",
       "      <td>Frankenstorm Hurricane Sandy costs the United ...</td>\n",
       "      <td>Wed Oct 31 21:43:25 +0000 2012</td>\n",
       "      <td>263758098349555712</td>\n",
       "      <td>False</td>\n",
       "      <td>en</td>\n",
       "      <td>http://bit.ly/SfsRuw</td>\n",
       "      <td>[16, 43, 69, 69]</td>\n",
       "      <td>4</td>\n",
       "    </tr>\n",
       "  </tbody>\n",
       "</table>\n",
       "</div>"
      ],
      "text/plain": [
       "                                                  tweets  \\\n",
       "3800             The EU won the 2012 #Nobel Peace Prize.   \n",
       "19936  Frankenstorm Hurricane Sandy costs the United ...   \n",
       "\n",
       "                           created_at                  id     rt lang  \\\n",
       "3800   Fri Oct 12 09:19:05 +0000 2012  256685411366227968  False   en   \n",
       "19936  Wed Oct 31 21:43:25 +0000 2012  263758098349555712  False   en   \n",
       "\n",
       "                       urls             Event  count_event  \n",
       "3800                   None      [2, 2, 2, 2]            4  \n",
       "19936  http://bit.ly/SfsRuw  [16, 43, 69, 69]            4  "
      ]
     },
     "execution_count": 17,
     "metadata": {},
     "output_type": "execute_result"
    }
   ],
   "source": [
    "df.loc[df.count_event==4]"
   ]
  },
  {
   "cell_type": "code",
   "execution_count": 18,
   "metadata": {},
   "outputs": [],
   "source": [
    "columns = df.columns.tolist()"
   ]
  },
  {
   "cell_type": "code",
   "execution_count": 19,
   "metadata": {},
   "outputs": [],
   "source": [
    "df2 = pd.DataFrame(columns=columns)"
   ]
  },
  {
   "cell_type": "code",
   "execution_count": 20,
   "metadata": {
    "scrolled": true
   },
   "outputs": [
    {
     "name": "stdout",
     "output_type": "stream",
     "text": [
      "10000\n",
      "20000\n",
      "30000\n",
      "40000\n",
      "50000\n",
      "60000\n"
     ]
    }
   ],
   "source": [
    "count=10000\n",
    "list_rows = []\n",
    "for index,row in df.iterrows():\n",
    "    if(count<index):\n",
    "        print(count)\n",
    "        count+=10000\n",
    "    list_event = row['Event']\n",
    "    for event in list_event:\n",
    "        temp_row = row.copy()\n",
    "        temp_row['Event'] = event\n",
    "        list_rows.append(temp_row)"
   ]
  },
  {
   "cell_type": "code",
   "execution_count": 21,
   "metadata": {},
   "outputs": [],
   "source": [
    "df2 = df2.append(list_rows,ignore_index=True)"
   ]
  },
  {
   "cell_type": "code",
   "execution_count": 22,
   "metadata": {},
   "outputs": [
    {
     "data": {
      "text/html": [
       "<div>\n",
       "<style scoped>\n",
       "    .dataframe tbody tr th:only-of-type {\n",
       "        vertical-align: middle;\n",
       "    }\n",
       "\n",
       "    .dataframe tbody tr th {\n",
       "        vertical-align: top;\n",
       "    }\n",
       "\n",
       "    .dataframe thead th {\n",
       "        text-align: right;\n",
       "    }\n",
       "</style>\n",
       "<table border=\"1\" class=\"dataframe\">\n",
       "  <thead>\n",
       "    <tr style=\"text-align: right;\">\n",
       "      <th></th>\n",
       "      <th>tweets</th>\n",
       "      <th>created_at</th>\n",
       "      <th>id</th>\n",
       "      <th>rt</th>\n",
       "      <th>lang</th>\n",
       "      <th>urls</th>\n",
       "      <th>Event</th>\n",
       "      <th>count_event</th>\n",
       "    </tr>\n",
       "  </thead>\n",
       "  <tbody>\n",
       "    <tr>\n",
       "      <th>78108</th>\n",
       "      <td>Bombings rock Damascus, brother of parliament ...</td>\n",
       "      <td>Tue Nov 06 23:59:17 +0000 2012</td>\n",
       "      <td>265966617589084160</td>\n",
       "      <td>False</td>\n",
       "      <td>en</td>\n",
       "      <td>http://yhoo.it/SR6RXN</td>\n",
       "      <td>197</td>\n",
       "      <td>2</td>\n",
       "    </tr>\n",
       "    <tr>\n",
       "      <th>78109</th>\n",
       "      <td>Bombings rock Damascus, brother of parliament ...</td>\n",
       "      <td>Tue Nov 06 23:59:17 +0000 2012</td>\n",
       "      <td>265966617589084160</td>\n",
       "      <td>False</td>\n",
       "      <td>en</td>\n",
       "      <td>http://yhoo.it/SR6RXN</td>\n",
       "      <td>332</td>\n",
       "      <td>2</td>\n",
       "    </tr>\n",
       "  </tbody>\n",
       "</table>\n",
       "</div>"
      ],
      "text/plain": [
       "                                                  tweets  \\\n",
       "78108  Bombings rock Damascus, brother of parliament ...   \n",
       "78109  Bombings rock Damascus, brother of parliament ...   \n",
       "\n",
       "                           created_at                  id     rt lang  \\\n",
       "78108  Tue Nov 06 23:59:17 +0000 2012  265966617589084160  False   en   \n",
       "78109  Tue Nov 06 23:59:17 +0000 2012  265966617589084160  False   en   \n",
       "\n",
       "                        urls Event count_event  \n",
       "78108  http://yhoo.it/SR6RXN   197           2  \n",
       "78109  http://yhoo.it/SR6RXN   332           2  "
      ]
     },
     "execution_count": 22,
     "metadata": {},
     "output_type": "execute_result"
    }
   ],
   "source": [
    "df2.loc[df2['id']==265966617589084160]"
   ]
  },
  {
   "cell_type": "code",
   "execution_count": 23,
   "metadata": {},
   "outputs": [
    {
     "data": {
      "text/html": [
       "<div>\n",
       "<style scoped>\n",
       "    .dataframe tbody tr th:only-of-type {\n",
       "        vertical-align: middle;\n",
       "    }\n",
       "\n",
       "    .dataframe tbody tr th {\n",
       "        vertical-align: top;\n",
       "    }\n",
       "\n",
       "    .dataframe thead th {\n",
       "        text-align: right;\n",
       "    }\n",
       "</style>\n",
       "<table border=\"1\" class=\"dataframe\">\n",
       "  <thead>\n",
       "    <tr style=\"text-align: right;\">\n",
       "      <th></th>\n",
       "      <th>tweets</th>\n",
       "      <th>created_at</th>\n",
       "      <th>id</th>\n",
       "      <th>rt</th>\n",
       "      <th>lang</th>\n",
       "      <th>urls</th>\n",
       "      <th>Event</th>\n",
       "      <th>count_event</th>\n",
       "    </tr>\n",
       "  </thead>\n",
       "  <tbody>\n",
       "    <tr>\n",
       "      <th>47181</th>\n",
       "      <td>Bombings rock Damascus, brother of parliament ...</td>\n",
       "      <td>Tue Nov 06 23:59:17 +0000 2012</td>\n",
       "      <td>265966617589084160</td>\n",
       "      <td>False</td>\n",
       "      <td>en</td>\n",
       "      <td>http://yhoo.it/SR6RXN</td>\n",
       "      <td>[197, 332]</td>\n",
       "      <td>2</td>\n",
       "    </tr>\n",
       "  </tbody>\n",
       "</table>\n",
       "</div>"
      ],
      "text/plain": [
       "                                                  tweets  \\\n",
       "47181  Bombings rock Damascus, brother of parliament ...   \n",
       "\n",
       "                           created_at                  id     rt lang  \\\n",
       "47181  Tue Nov 06 23:59:17 +0000 2012  265966617589084160  False   en   \n",
       "\n",
       "                        urls       Event  count_event  \n",
       "47181  http://yhoo.it/SR6RXN  [197, 332]            2  "
      ]
     },
     "execution_count": 23,
     "metadata": {},
     "output_type": "execute_result"
    }
   ],
   "source": [
    "df.loc[df['id']==265966617589084160]"
   ]
  },
  {
   "cell_type": "code",
   "execution_count": 24,
   "metadata": {},
   "outputs": [],
   "source": [
    "import timestamp_graphs as tg\n",
    "df2 = df2.reset_index(drop=True)\n",
    "df2 = tg.createTimestamps(df2)"
   ]
  },
  {
   "cell_type": "code",
   "execution_count": 25,
   "metadata": {},
   "outputs": [
    {
     "data": {
      "text/plain": [
       "Index(['tweets', 'created_at', 'id', 'rt', 'lang', 'urls', 'Event',\n",
       "       'count_event', 'date', 'time', 'Datetime', 'DateHour',\n",
       "       'Date_Ten_Minutes'],\n",
       "      dtype='object')"
      ]
     },
     "execution_count": 25,
     "metadata": {},
     "output_type": "execute_result"
    }
   ],
   "source": [
    "df2.columns"
   ]
  },
  {
   "cell_type": "code",
   "execution_count": 26,
   "metadata": {},
   "outputs": [],
   "source": [
    "df3 = df2.copy()"
   ]
  },
  {
   "cell_type": "code",
   "execution_count": 27,
   "metadata": {},
   "outputs": [],
   "source": [
    "events = df2.groupby(['Event']).count().index.tolist()\n",
    "for event in events:\n",
    "    dfchange = df2.loc[df2['Event']==event]\n",
    "    dates = dfchange.groupby(['DateHour']).count().index.tolist()\n",
    "    for date in dates:\n",
    "        indexes = dfchange.loc[dfchange['DateHour']==date].index.tolist()\n",
    "        if(len(indexes)<5):\n",
    "            df2 = df2.drop(indexes)"
   ]
  },
  {
   "cell_type": "code",
   "execution_count": 28,
   "metadata": {},
   "outputs": [],
   "source": [
    "df4 = df3.copy()"
   ]
  },
  {
   "cell_type": "code",
   "execution_count": 29,
   "metadata": {},
   "outputs": [],
   "source": [
    "temp = df2.groupby(['Event']).count()"
   ]
  },
  {
   "cell_type": "code",
   "execution_count": 30,
   "metadata": {},
   "outputs": [],
   "source": [
    "final_events = temp.loc[temp.id>14].index.tolist()"
   ]
  },
  {
   "cell_type": "code",
   "execution_count": 31,
   "metadata": {},
   "outputs": [],
   "source": [
    "final_df = pd.DataFrame()\n",
    "for event in final_events:\n",
    "    dfchange = df3.loc[df3['Event']==event]\n",
    "    final_df = pd.concat([final_df,dfchange])"
   ]
  },
  {
   "cell_type": "code",
   "execution_count": 32,
   "metadata": {},
   "outputs": [
    {
     "data": {
      "text/plain": [
       "97754"
      ]
     },
     "execution_count": 32,
     "metadata": {},
     "output_type": "execute_result"
    }
   ],
   "source": [
    "final_df.shape[0]"
   ]
  },
  {
   "cell_type": "code",
   "execution_count": 33,
   "metadata": {},
   "outputs": [
    {
     "data": {
      "text/plain": [
       "Index(['tweets', 'created_at', 'id', 'rt', 'lang', 'urls', 'Event',\n",
       "       'count_event', 'date', 'time', 'Datetime', 'DateHour',\n",
       "       'Date_Ten_Minutes'],\n",
       "      dtype='object')"
      ]
     },
     "execution_count": 33,
     "metadata": {},
     "output_type": "execute_result"
    }
   ],
   "source": [
    "final_df.columns"
   ]
  },
  {
   "cell_type": "code",
   "execution_count": 34,
   "metadata": {},
   "outputs": [
    {
     "data": {
      "text/html": [
       "<div>\n",
       "<style scoped>\n",
       "    .dataframe tbody tr th:only-of-type {\n",
       "        vertical-align: middle;\n",
       "    }\n",
       "\n",
       "    .dataframe tbody tr th {\n",
       "        vertical-align: top;\n",
       "    }\n",
       "\n",
       "    .dataframe thead th {\n",
       "        text-align: right;\n",
       "    }\n",
       "</style>\n",
       "<table border=\"1\" class=\"dataframe\">\n",
       "  <thead>\n",
       "    <tr style=\"text-align: right;\">\n",
       "      <th></th>\n",
       "      <th>tweets</th>\n",
       "      <th>created_at</th>\n",
       "      <th>id</th>\n",
       "      <th>rt</th>\n",
       "      <th>lang</th>\n",
       "      <th>urls</th>\n",
       "      <th>Event</th>\n",
       "    </tr>\n",
       "  </thead>\n",
       "  <tbody>\n",
       "    <tr>\n",
       "      <th>0</th>\n",
       "      <td>News: Chinese author Mo Yan wins Nobel http://...</td>\n",
       "      <td>Thu Oct 11 11:08:32 +0000 2012</td>\n",
       "      <td>256350567369175040</td>\n",
       "      <td>False</td>\n",
       "      <td>en</td>\n",
       "      <td>http://bbc.in/RbTlMC</td>\n",
       "      <td>0</td>\n",
       "    </tr>\n",
       "    <tr>\n",
       "      <th>1</th>\n",
       "      <td>CCTV invite hints at Nobel literature prize fo...</td>\n",
       "      <td>Thu Oct 11 10:51:28 +0000 2012</td>\n",
       "      <td>256346272506712064</td>\n",
       "      <td>False</td>\n",
       "      <td>en</td>\n",
       "      <td>http://bit.ly/RhMRvS</td>\n",
       "      <td>0</td>\n",
       "    </tr>\n",
       "    <tr>\n",
       "      <th>2</th>\n",
       "      <td>CCTV invite hints at Nobel literature prize fo...</td>\n",
       "      <td>Thu Oct 11 10:51:28 +0000 2012</td>\n",
       "      <td>256346272506712064</td>\n",
       "      <td>False</td>\n",
       "      <td>en</td>\n",
       "      <td>http://bit.ly/RhMRvS</td>\n",
       "      <td>0</td>\n",
       "    </tr>\n",
       "    <tr>\n",
       "      <th>3</th>\n",
       "      <td>Mo Yan wins 2012 Nobel Prize for Literature. G...</td>\n",
       "      <td>Thu Oct 11 11:11:22 +0000 2012</td>\n",
       "      <td>256351280652488704</td>\n",
       "      <td>False</td>\n",
       "      <td>en</td>\n",
       "      <td>http://bit.ly/SNAqLI</td>\n",
       "      <td>0</td>\n",
       "    </tr>\n",
       "    <tr>\n",
       "      <th>4</th>\n",
       "      <td>Mo Yan wins 2012 Nobel Prize for Literature. G...</td>\n",
       "      <td>Thu Oct 11 11:11:22 +0000 2012</td>\n",
       "      <td>256351280652488704</td>\n",
       "      <td>False</td>\n",
       "      <td>en</td>\n",
       "      <td>http://bit.ly/SNAqLI</td>\n",
       "      <td>0</td>\n",
       "    </tr>\n",
       "    <tr>\n",
       "      <th>...</th>\n",
       "      <td>...</td>\n",
       "      <td>...</td>\n",
       "      <td>...</td>\n",
       "      <td>...</td>\n",
       "      <td>...</td>\n",
       "      <td>...</td>\n",
       "      <td>...</td>\n",
       "    </tr>\n",
       "    <tr>\n",
       "      <th>101252</th>\n",
       "      <td>I see another world series this year</td>\n",
       "      <td>Sat Oct 13 04:37:33 +0000 2012</td>\n",
       "      <td>256976949229002752</td>\n",
       "      <td>False</td>\n",
       "      <td>en</td>\n",
       "      <td>None</td>\n",
       "      <td>505</td>\n",
       "    </tr>\n",
       "    <tr>\n",
       "      <th>101253</th>\n",
       "      <td>Guess I gotta root for the Tigers to win the W...</td>\n",
       "      <td>Sat Oct 13 04:33:18 +0000 2012</td>\n",
       "      <td>256975879572426752</td>\n",
       "      <td>False</td>\n",
       "      <td>en</td>\n",
       "      <td>None</td>\n",
       "      <td>505</td>\n",
       "    </tr>\n",
       "    <tr>\n",
       "      <th>101254</th>\n",
       "      <td>Guess I gotta root for the Tigers to win the W...</td>\n",
       "      <td>Sat Oct 13 04:33:18 +0000 2012</td>\n",
       "      <td>256975879572426752</td>\n",
       "      <td>False</td>\n",
       "      <td>en</td>\n",
       "      <td>None</td>\n",
       "      <td>505</td>\n",
       "    </tr>\n",
       "    <tr>\n",
       "      <th>101255</th>\n",
       "      <td>Cubs last World Series win, they were keeping ...</td>\n",
       "      <td>Sat Oct 13 04:53:01 +0000 2012</td>\n",
       "      <td>256980841446645760</td>\n",
       "      <td>False</td>\n",
       "      <td>en</td>\n",
       "      <td>None</td>\n",
       "      <td>505</td>\n",
       "    </tr>\n",
       "    <tr>\n",
       "      <th>101256</th>\n",
       "      <td>Cubs last World Series win, they were keeping ...</td>\n",
       "      <td>Sat Oct 13 04:53:01 +0000 2012</td>\n",
       "      <td>256980841446645760</td>\n",
       "      <td>False</td>\n",
       "      <td>en</td>\n",
       "      <td>None</td>\n",
       "      <td>505</td>\n",
       "    </tr>\n",
       "  </tbody>\n",
       "</table>\n",
       "<p>97754 rows × 7 columns</p>\n",
       "</div>"
      ],
      "text/plain": [
       "                                                   tweets  \\\n",
       "0       News: Chinese author Mo Yan wins Nobel http://...   \n",
       "1       CCTV invite hints at Nobel literature prize fo...   \n",
       "2       CCTV invite hints at Nobel literature prize fo...   \n",
       "3       Mo Yan wins 2012 Nobel Prize for Literature. G...   \n",
       "4       Mo Yan wins 2012 Nobel Prize for Literature. G...   \n",
       "...                                                   ...   \n",
       "101252               I see another world series this year   \n",
       "101253  Guess I gotta root for the Tigers to win the W...   \n",
       "101254  Guess I gotta root for the Tigers to win the W...   \n",
       "101255  Cubs last World Series win, they were keeping ...   \n",
       "101256  Cubs last World Series win, they were keeping ...   \n",
       "\n",
       "                            created_at                  id     rt lang  \\\n",
       "0       Thu Oct 11 11:08:32 +0000 2012  256350567369175040  False   en   \n",
       "1       Thu Oct 11 10:51:28 +0000 2012  256346272506712064  False   en   \n",
       "2       Thu Oct 11 10:51:28 +0000 2012  256346272506712064  False   en   \n",
       "3       Thu Oct 11 11:11:22 +0000 2012  256351280652488704  False   en   \n",
       "4       Thu Oct 11 11:11:22 +0000 2012  256351280652488704  False   en   \n",
       "...                                ...                 ...    ...  ...   \n",
       "101252  Sat Oct 13 04:37:33 +0000 2012  256976949229002752  False   en   \n",
       "101253  Sat Oct 13 04:33:18 +0000 2012  256975879572426752  False   en   \n",
       "101254  Sat Oct 13 04:33:18 +0000 2012  256975879572426752  False   en   \n",
       "101255  Sat Oct 13 04:53:01 +0000 2012  256980841446645760  False   en   \n",
       "101256  Sat Oct 13 04:53:01 +0000 2012  256980841446645760  False   en   \n",
       "\n",
       "                        urls Event  \n",
       "0       http://bbc.in/RbTlMC     0  \n",
       "1       http://bit.ly/RhMRvS     0  \n",
       "2       http://bit.ly/RhMRvS     0  \n",
       "3       http://bit.ly/SNAqLI     0  \n",
       "4       http://bit.ly/SNAqLI     0  \n",
       "...                      ...   ...  \n",
       "101252                  None   505  \n",
       "101253                  None   505  \n",
       "101254                  None   505  \n",
       "101255                  None   505  \n",
       "101256                  None   505  \n",
       "\n",
       "[97754 rows x 7 columns]"
      ]
     },
     "execution_count": 34,
     "metadata": {},
     "output_type": "execute_result"
    }
   ],
   "source": [
    "df = final_df[['tweets','created_at','id','rt','lang','urls','Event']]\n",
    "df"
   ]
  },
  {
   "cell_type": "code",
   "execution_count": 35,
   "metadata": {},
   "outputs": [],
   "source": [
    "# df = df.reset_index(drop=True)\n",
    "# df.to_csv(r'clean_relevant_tweets.csv',index=False)"
   ]
  }
 ],
 "metadata": {
  "kernelspec": {
   "display_name": "Python 3",
   "language": "python",
   "name": "python3"
  },
  "language_info": {
   "codemirror_mode": {
    "name": "ipython",
    "version": 3
   },
   "file_extension": ".py",
   "mimetype": "text/x-python",
   "name": "python",
   "nbconvert_exporter": "python",
   "pygments_lexer": "ipython3",
   "version": "3.7.6"
  }
 },
 "nbformat": 4,
 "nbformat_minor": 4
}
