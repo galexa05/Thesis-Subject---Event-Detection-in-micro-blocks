{
 "cells": [
  {
   "cell_type": "code",
   "execution_count": 1,
   "metadata": {},
   "outputs": [],
   "source": [
    "import pandas as pd\n",
    "import json\n",
    "import numpy as np\n",
    "from sklearn import metrics\n",
    "import matplotlib.pyplot as plt\n",
    "import warnings\n",
    "warnings.filterwarnings('ignore')"
   ]
  },
  {
   "cell_type": "code",
   "execution_count": 2,
   "metadata": {},
   "outputs": [],
   "source": [
    "colnames=['tweets', 'created_at', 'id', 'rt', 'lang', 'urls', 'Event']\n",
    "df = pd.read_csv('clean_relevant_tweets.csv', header='infer')"
   ]
  },
  {
   "cell_type": "code",
   "execution_count": 3,
   "metadata": {},
   "outputs": [],
   "source": [
    "df_timewindow4 = pd.read_csv('temp23_4.csv',header='infer',engine='python')\n",
    "df_timewindow5 = pd.read_csv('temp23_5.csv',header='infer',engine='python')\n",
    "df_timewindow6 = pd.read_csv('temp23_6.csv',header='infer',engine='python')\n",
    "df_timewindow7 = pd.read_csv('temp23_7.csv',header='infer',engine='python')\n",
    "df_timewindow8 = pd.read_csv('temp23_8.csv',header='infer',engine='python')\n",
    "df_timewindow9 = pd.read_csv('temp23_9.csv',header='infer',engine='python')"
   ]
  },
  {
   "cell_type": "code",
   "execution_count": 4,
   "metadata": {},
   "outputs": [],
   "source": [
    "list_timestamp4 = df_timewindow4.Timestamp.unique().tolist()\n",
    "list_timestamp5 = df_timewindow5.Timestamp.unique().tolist()\n",
    "list_timestamp6 = df_timewindow6.Timestamp.unique().tolist()\n",
    "list_timestamp7 = df_timewindow7.Timestamp.unique().tolist()\n",
    "list_timestamp8 = df_timewindow8.Timestamp.unique().tolist()\n",
    "list_timestamp9 = df_timewindow9.Timestamp.unique().tolist()"
   ]
  },
  {
   "cell_type": "code",
   "execution_count": 5,
   "metadata": {},
   "outputs": [],
   "source": [
    "def get_adjusted_rand_score(timestamp,df):\n",
    "    dfchange = df.loc[df.Timestamp==timestamp]\n",
    "    labels_true = dfchange.Event.tolist()\n",
    "    labels_pred = dfchange.Cluster.tolist()\n",
    "    return metrics.adjusted_rand_score(labels_true, labels_pred)\n",
    "\n",
    "\n",
    "def get_adjusted_mutual_info_score(timestamp,df):\n",
    "    dfchange = df.loc[df.Timestamp==timestamp]\n",
    "    labels_true = dfchange.Event.tolist()\n",
    "    labels_pred = dfchange.Cluster.tolist()\n",
    "    return metrics.adjusted_mutual_info_score(labels_true, labels_pred)\n",
    "\n",
    "def get_homogeneity_score(timestamp,df):\n",
    "    dfchange = df.loc[df.Timestamp==timestamp]\n",
    "    labels_true = dfchange.Event.tolist()\n",
    "    labels_pred = dfchange.Cluster.tolist()\n",
    "    return metrics.homogeneity_score(labels_true, labels_pred)\n",
    "\n",
    "def get_completeness_score(timestamp,df):\n",
    "    dfchange = df.loc[df.Timestamp==timestamp]\n",
    "    labels_true = dfchange.Event.tolist()\n",
    "    labels_pred = dfchange.Cluster.tolist()\n",
    "    return metrics.completeness_score(labels_true, labels_pred)\n",
    "\n",
    "def get_v_measure_score(timestamp,df):\n",
    "    dfchange = df.loc[df.Timestamp==timestamp]\n",
    "    labels_true = dfchange.Event.tolist()\n",
    "    labels_pred = dfchange.Cluster.tolist()\n",
    "    return metrics.v_measure_score(labels_true, labels_pred)\n",
    "\n",
    "def get_fowlkes_mallows_score(timestamp,df):\n",
    "    dfchange = df.loc[df.Timestamp==timestamp]\n",
    "    labels_true = dfchange.Event.tolist()\n",
    "    labels_pred = dfchange.Cluster.tolist()\n",
    "    return metrics.fowlkes_mallows_score(labels_true, labels_pred)"
   ]
  },
  {
   "cell_type": "code",
   "execution_count": 6,
   "metadata": {},
   "outputs": [],
   "source": [
    "def getAllMetrics(df,list_timestamp):\n",
    "    df_evaluation = pd.DataFrame()\n",
    "    df_evaluation['Timestamp'] = np.array([timestamp for timestamp in list_timestamp])\n",
    "    df_evaluation['adjusted_rand_score'] = np.array([round(get_adjusted_rand_score(timestamp,df),1) for timestamp in list_timestamp])\n",
    "    df_evaluation['adjusted_mutual_info_score'] = np.array([round(get_adjusted_mutual_info_score(timestamp,df),1) for timestamp in list_timestamp])\n",
    "    df_evaluation['homogeneity_score'] = np.array([round(get_homogeneity_score(timestamp,df),1) for timestamp in list_timestamp])\n",
    "    df_evaluation['completeness_score'] = np.array([round(get_completeness_score(timestamp,df),1) for timestamp in list_timestamp])\n",
    "    df_evaluation['v_measure_score'] = np.array([round(get_v_measure_score(timestamp,df),1) for timestamp in list_timestamp])\n",
    "    df_evaluation['fowlkes_mallows_score'] = np.array([round(get_fowlkes_mallows_score(timestamp,df),1) for timestamp in list_timestamp])\n",
    "    df_evaluation['Number_Of_Clusters'] = np.array([df.loc[df['Timestamp']==timestamp].groupby(['Cluster']).count().shape[0] for timestamp in list_timestamp])\n",
    "    return df_evaluation"
   ]
  },
  {
   "cell_type": "code",
   "execution_count": 7,
   "metadata": {},
   "outputs": [],
   "source": [
    "df_evaluation_4 = getAllMetrics(df_timewindow4,list_timestamp4)\n",
    "df_evaluation_5 = getAllMetrics(df_timewindow5,list_timestamp5)\n",
    "df_evaluation_6 = getAllMetrics(df_timewindow6,list_timestamp6)\n",
    "df_evaluation_7 = getAllMetrics(df_timewindow7,list_timestamp7)\n",
    "df_evaluation_8 = getAllMetrics(df_timewindow8,list_timestamp8)\n",
    "df_evaluation_9 = getAllMetrics(df_timewindow9,list_timestamp9)"
   ]
  },
  {
   "cell_type": "code",
   "execution_count": 8,
   "metadata": {},
   "outputs": [],
   "source": [
    "list_predict_4 = df_timewindow4.Cluster.unique().tolist()\n",
    "list_predict_5 = df_timewindow5.Cluster.unique().tolist()\n",
    "list_predict_6 = df_timewindow6.Cluster.unique().tolist()\n",
    "list_predict_7 = df_timewindow7.Cluster.unique().tolist()\n",
    "list_predict_8 = df_timewindow8.Cluster.unique().tolist()\n",
    "list_predict_9 = df_timewindow9.Cluster.unique().tolist()"
   ]
  },
  {
   "cell_type": "code",
   "execution_count": 9,
   "metadata": {},
   "outputs": [],
   "source": [
    "def getLabel(list_event):\n",
    "    try:\n",
    "        temp = list_event.value_counts()\n",
    "        return temp.keys()[0]\n",
    "    except:\n",
    "        return -1"
   ]
  },
  {
   "cell_type": "code",
   "execution_count": 10,
   "metadata": {},
   "outputs": [],
   "source": [
    "def findPurity(temp_df):\n",
    "    try:\n",
    "        label = getLabel(temp_df['Event'])\n",
    "        n1 = temp_df.loc[temp_df['Event']==label].shape[0]\n",
    "        return n1\n",
    "#         n2 = temp_df.shape[0]\n",
    "#         return n1/n2\n",
    "    except:\n",
    "        return -1"
   ]
  },
  {
   "cell_type": "code",
   "execution_count": 11,
   "metadata": {},
   "outputs": [],
   "source": [
    "def getDataframePurity(df,list_predict):\n",
    "    df_purity = pd.DataFrame()\n",
    "    df_purity['Cluster'] = np.array([cluster for cluster in list_predict])\n",
    "#     print(df_purity['Cluster'])\n",
    "    df_purity['Length_Cluster'] = [df.loc[df.Cluster==temp].shape[0] for temp in df_purity['Cluster']]\n",
    "    df_purity['Predicted_Event'] = np.array([int(getLabel(df.loc[df['Cluster']==cluster]['Event'])) for cluster in list_predict])\n",
    "    df_purity['Purity'] = np.array([round(findPurity(df.loc[df['Cluster']==cluster]),1) for cluster in list_predict])\n",
    "    df_purity = df_purity.loc[df_purity.Length_Cluster!=1]\n",
    "    return df_purity"
   ]
  },
  {
   "cell_type": "code",
   "execution_count": 12,
   "metadata": {},
   "outputs": [],
   "source": [
    "def getTotalPurity(temp_df):\n",
    "    sum = 0\n",
    "    total_length = 0\n",
    "    for i in range(temp_df.shape[0]):\n",
    "        sum+= temp_df.iloc[i]['Purity']\n",
    "        total_length+= temp_df.iloc[i]['Length_Cluster']\n",
    "    return sum/total_length"
   ]
  },
  {
   "cell_type": "code",
   "execution_count": 13,
   "metadata": {},
   "outputs": [],
   "source": [
    "df_purity_4 = getDataframePurity(df_timewindow4,list_predict_4)\n",
    "df_purity_5 = getDataframePurity(df_timewindow5,list_predict_5)\n",
    "df_purity_6 = getDataframePurity(df_timewindow6,list_predict_6)\n",
    "df_purity_7 = getDataframePurity(df_timewindow7,list_predict_7)\n",
    "df_purity_8 = getDataframePurity(df_timewindow8,list_predict_8)\n",
    "df_purity_9 = getDataframePurity(df_timewindow9,list_predict_9)"
   ]
  },
  {
   "cell_type": "code",
   "execution_count": 14,
   "metadata": {},
   "outputs": [],
   "source": [
    "total_purity_4 = getTotalPurity(df_purity_4)\n",
    "total_purity_5 = getTotalPurity(df_purity_5)\n",
    "total_purity_6 = getTotalPurity(df_purity_6)\n",
    "total_purity_7 = getTotalPurity(df_purity_7)\n",
    "total_purity_8 = getTotalPurity(df_purity_8)\n",
    "total_purity_9 = getTotalPurity(df_purity_9)"
   ]
  },
  {
   "cell_type": "code",
   "execution_count": 15,
   "metadata": {},
   "outputs": [
    {
     "name": "stdout",
     "output_type": "stream",
     "text": [
      "219\n",
      "244\n",
      "259\n",
      "279\n",
      "295\n",
      "329\n"
     ]
    }
   ],
   "source": [
    "predicted_events_4 = df_purity_4.Predicted_Event.unique().tolist()\n",
    "print(len(predicted_events_4))\n",
    "predicted_events_5 = df_purity_5.Predicted_Event.unique().tolist()\n",
    "print(len(predicted_events_5))\n",
    "predicted_events_6 = df_purity_6.Predicted_Event.unique().tolist()\n",
    "print(len(predicted_events_6))\n",
    "predicted_events_7 = df_purity_7.Predicted_Event.unique().tolist()\n",
    "print(len(predicted_events_7))\n",
    "predicted_events_8 = df_purity_8.Predicted_Event.unique().tolist()\n",
    "print(len(predicted_events_8))\n",
    "predicted_events_9 = df_purity_9.Predicted_Event.unique().tolist()\n",
    "print(len(predicted_events_9))"
   ]
  },
  {
   "cell_type": "code",
   "execution_count": 16,
   "metadata": {},
   "outputs": [],
   "source": [
    "all_events = df.Event.unique().tolist()\n",
    "for i in range(len(all_events)):\n",
    "    all_events[i] = {'Event':all_events[i],'Index':i}"
   ]
  },
  {
   "cell_type": "code",
   "execution_count": 17,
   "metadata": {},
   "outputs": [],
   "source": [
    "def findIndex(all_events,temp):\n",
    "    for i in range(len(all_events)):\n",
    "        if(all_events[i]['Event']==temp):\n",
    "            return all_events[i]['Index']\n",
    "df_purity_4['Index_Event'] = [findIndex(all_events,temp) for temp in df_purity_4['Predicted_Event']]\n",
    "df_purity_5['Index_Event'] = [findIndex(all_events,temp) for temp in df_purity_5['Predicted_Event']]\n",
    "df_purity_6['Index_Event'] = [findIndex(all_events,temp) for temp in df_purity_6['Predicted_Event']]\n",
    "df_purity_7['Index_Event'] = [findIndex(all_events,temp) for temp in df_purity_7['Predicted_Event']]\n",
    "df_purity_8['Index_Event'] = [findIndex(all_events,temp) for temp in df_purity_8['Predicted_Event']]\n",
    "df_purity_9['Index_Event'] = [findIndex(all_events,temp) for temp in df_purity_9['Predicted_Event']]"
   ]
  },
  {
   "cell_type": "code",
   "execution_count": 18,
   "metadata": {},
   "outputs": [],
   "source": [
    "def findNotDetectEvents(df,length_events):\n",
    "    new_df = df.loc[df.Predicted_Event!=-1]\n",
    "    n_events = new_df.groupby(['Index_Event']).count().index.tolist()\n",
    "    list_detection_1 = [False] * (length_events+1)\n",
    "    for i in range(len(n_events)):\n",
    "        list_detection_1[int(n_events[i])] = True\n",
    "    not_detect_event_1 = []\n",
    "    for i in range(len(list_detection_1)):\n",
    "        if list_detection_1[i]==False:\n",
    "            not_detect_event_1.append(i)\n",
    "    return not_detect_event_1"
   ]
  },
  {
   "cell_type": "code",
   "execution_count": 19,
   "metadata": {},
   "outputs": [],
   "source": [
    "def getScore(df,length_events):\n",
    "    undetect_events = findNotDetectEvents(df,length_events)\n",
    "    detect_events = 1- (len(undetect_events))/(length_events)\n",
    "    return detect_events"
   ]
  },
  {
   "cell_type": "code",
   "execution_count": 20,
   "metadata": {},
   "outputs": [
    {
     "name": "stdout",
     "output_type": "stream",
     "text": [
      "Score: 0.6095505617977528\n",
      "Score: 0.6797752808988764\n",
      "Score: 0.7219101123595506\n",
      "Score: 0.7780898876404494\n",
      "Score: 0.8230337078651686\n",
      "Score: 0.9185393258426966\n"
     ]
    }
   ],
   "source": [
    "score_4 = getScore(df_purity_4,len(all_events))\n",
    "score_5 = getScore(df_purity_5,len(all_events))\n",
    "score_6 = getScore(df_purity_6,len(all_events))\n",
    "score_7 = getScore(df_purity_7,len(all_events))\n",
    "score_8 = getScore(df_purity_8,len(all_events))\n",
    "score_9 = getScore(df_purity_9,len(all_events))\n",
    "print(\"Score:\",score_4)\n",
    "print(\"Score:\",score_5)\n",
    "print(\"Score:\",score_6)\n",
    "print(\"Score:\",score_7)\n",
    "print(\"Score:\",score_8)\n",
    "print(\"Score:\",score_9)"
   ]
  },
  {
   "cell_type": "markdown",
   "metadata": {},
   "source": [
    "# Clustering Metrics"
   ]
  },
  {
   "cell_type": "code",
   "execution_count": 21,
   "metadata": {},
   "outputs": [],
   "source": [
    "def appendRowMean(df_evaluation,total_purity,score_detect,name):\n",
    "    x_object = {'Name' : name , \n",
    "#                 'adjusted_rand_score' : df_evaluation['adjusted_rand_score'].mean(),\n",
    "                'adjusted_mutual_info_score' : df_evaluation['adjusted_mutual_info_score'].mean(),\n",
    "                'homogeneity_score' : df_evaluation['homogeneity_score'].mean(),\n",
    "                'completeness_score':df_evaluation['completeness_score'].mean(),\n",
    "#                 'v_measure_score':df_evaluation['v_measure_score'].mean(),\n",
    "                'fowlkes_mallows_score':df_evaluation['fowlkes_mallows_score'].mean(),\n",
    "                'Purity':total_purity,\n",
    "                'Detected_Events':score_detect,\n",
    "               }\n",
    "    return x_object"
   ]
  },
  {
   "cell_type": "code",
   "execution_count": 22,
   "metadata": {},
   "outputs": [
    {
     "data": {
      "text/html": [
       "<div>\n",
       "<style scoped>\n",
       "    .dataframe tbody tr th:only-of-type {\n",
       "        vertical-align: middle;\n",
       "    }\n",
       "\n",
       "    .dataframe tbody tr th {\n",
       "        vertical-align: top;\n",
       "    }\n",
       "\n",
       "    .dataframe thead th {\n",
       "        text-align: right;\n",
       "    }\n",
       "</style>\n",
       "<table border=\"1\" class=\"dataframe\">\n",
       "  <thead>\n",
       "    <tr style=\"text-align: right;\">\n",
       "      <th></th>\n",
       "      <th>Name</th>\n",
       "      <th>adjusted_mutual_info_score</th>\n",
       "      <th>homogeneity_score</th>\n",
       "      <th>completeness_score</th>\n",
       "      <th>fowlkes_mallows_score</th>\n",
       "      <th>Detected_Events</th>\n",
       "      <th>Purity</th>\n",
       "    </tr>\n",
       "  </thead>\n",
       "  <tbody>\n",
       "    <tr>\n",
       "      <th>0</th>\n",
       "      <td>Time window 0.4</td>\n",
       "      <td>0.827755</td>\n",
       "      <td>0.934966</td>\n",
       "      <td>0.884898</td>\n",
       "      <td>0.947211</td>\n",
       "      <td>0.609551</td>\n",
       "      <td>0.983712</td>\n",
       "    </tr>\n",
       "    <tr>\n",
       "      <th>1</th>\n",
       "      <td>Time window 0.5</td>\n",
       "      <td>0.807886</td>\n",
       "      <td>0.925411</td>\n",
       "      <td>0.868346</td>\n",
       "      <td>0.939759</td>\n",
       "      <td>0.679775</td>\n",
       "      <td>0.984304</td>\n",
       "    </tr>\n",
       "    <tr>\n",
       "      <th>2</th>\n",
       "      <td>Time window 0.6</td>\n",
       "      <td>0.793707</td>\n",
       "      <td>0.914966</td>\n",
       "      <td>0.860544</td>\n",
       "      <td>0.939966</td>\n",
       "      <td>0.721910</td>\n",
       "      <td>0.984284</td>\n",
       "    </tr>\n",
       "    <tr>\n",
       "      <th>3</th>\n",
       "      <td>Time window 0.7</td>\n",
       "      <td>0.767344</td>\n",
       "      <td>0.899344</td>\n",
       "      <td>0.840459</td>\n",
       "      <td>0.929115</td>\n",
       "      <td>0.778090</td>\n",
       "      <td>0.983971</td>\n",
       "    </tr>\n",
       "    <tr>\n",
       "      <th>4</th>\n",
       "      <td>Time window 0.8</td>\n",
       "      <td>0.737116</td>\n",
       "      <td>0.862389</td>\n",
       "      <td>0.833449</td>\n",
       "      <td>0.922547</td>\n",
       "      <td>0.823034</td>\n",
       "      <td>0.980706</td>\n",
       "    </tr>\n",
       "    <tr>\n",
       "      <th>5</th>\n",
       "      <td>Time window 0.9</td>\n",
       "      <td>0.591193</td>\n",
       "      <td>0.645794</td>\n",
       "      <td>0.893257</td>\n",
       "      <td>0.866220</td>\n",
       "      <td>0.918539</td>\n",
       "      <td>0.931567</td>\n",
       "    </tr>\n",
       "  </tbody>\n",
       "</table>\n",
       "</div>"
      ],
      "text/plain": [
       "              Name  adjusted_mutual_info_score  homogeneity_score  \\\n",
       "0  Time window 0.4                    0.827755           0.934966   \n",
       "1  Time window 0.5                    0.807886           0.925411   \n",
       "2  Time window 0.6                    0.793707           0.914966   \n",
       "3  Time window 0.7                    0.767344           0.899344   \n",
       "4  Time window 0.8                    0.737116           0.862389   \n",
       "5  Time window 0.9                    0.591193           0.645794   \n",
       "\n",
       "   completeness_score  fowlkes_mallows_score  Detected_Events    Purity  \n",
       "0            0.884898               0.947211         0.609551  0.983712  \n",
       "1            0.868346               0.939759         0.679775  0.984304  \n",
       "2            0.860544               0.939966         0.721910  0.984284  \n",
       "3            0.840459               0.929115         0.778090  0.983971  \n",
       "4            0.833449               0.922547         0.823034  0.980706  \n",
       "5            0.893257               0.866220         0.918539  0.931567  "
      ]
     },
     "execution_count": 22,
     "metadata": {},
     "output_type": "execute_result"
    }
   ],
   "source": [
    "# columns=['Name','adjusted_rand_score','adjusted_mutual_info_score','homogeneity_score','completeness_score','v_measure_score','fowlkes_mallows_score']\n",
    "columns=['Name','adjusted_mutual_info_score','homogeneity_score','completeness_score','fowlkes_mallows_score']\n",
    "df_mean_values = pd.DataFrame(columns=columns)\n",
    "df_mean_values = df_mean_values.append(appendRowMean(df_evaluation_4,total_purity_4,score_4,'Time window 0.4'),ignore_index=True)\n",
    "df_mean_values = df_mean_values.append(appendRowMean(df_evaluation_5,total_purity_5,score_5,'Time window 0.5'),ignore_index=True)\n",
    "df_mean_values = df_mean_values.append(appendRowMean(df_evaluation_6,total_purity_6,score_6,'Time window 0.6'),ignore_index=True)\n",
    "df_mean_values = df_mean_values.append(appendRowMean(df_evaluation_7,total_purity_7,score_7,'Time window 0.7'),ignore_index=True)\n",
    "df_mean_values = df_mean_values.append(appendRowMean(df_evaluation_8,total_purity_8,score_8,'Time window 0.8'),ignore_index=True)\n",
    "df_mean_values = df_mean_values.append(appendRowMean(df_evaluation_9,total_purity_9,score_9,'Time window 0.9'),ignore_index=True)\n",
    "df_mean_values"
   ]
  },
  {
   "cell_type": "code",
   "execution_count": 23,
   "metadata": {},
   "outputs": [],
   "source": [
    "df_mean_values = df_mean_values.rename(index={0:df_mean_values.Name[0],1:df_mean_values.Name[1],\n",
    "                                              2:df_mean_values.Name[2],3:df_mean_values.Name[3],\n",
    "                                              4:df_mean_values.Name[4],5:df_mean_values.Name[5]})"
   ]
  },
  {
   "cell_type": "code",
   "execution_count": 24,
   "metadata": {},
   "outputs": [
    {
     "data": {
      "image/png": "[encoded data removed]",
      "text/plain": [
       "<Figure size 504x504 with 1 Axes>"
      ]
     },
     "metadata": {
      "needs_background": "light"
     },
     "output_type": "display_data"
    }
   ],
   "source": [
    "df_mean_values.plot(kind='bar',figsize=(7,7));"
   ]
  },
  {
   "cell_type": "code",
   "execution_count": 25,
   "metadata": {},
   "outputs": [
    {
     "data": {
      "text/html": [
       "<div>\n",
       "<style scoped>\n",
       "    .dataframe tbody tr th:only-of-type {\n",
       "        vertical-align: middle;\n",
       "    }\n",
       "\n",
       "    .dataframe tbody tr th {\n",
       "        vertical-align: top;\n",
       "    }\n",
       "\n",
       "    .dataframe thead th {\n",
       "        text-align: right;\n",
       "    }\n",
       "</style>\n",
       "<table border=\"1\" class=\"dataframe\">\n",
       "  <thead>\n",
       "    <tr style=\"text-align: right;\">\n",
       "      <th></th>\n",
       "      <th>adjusted_mutual_info_score</th>\n",
       "      <th>homogeneity_score</th>\n",
       "      <th>completeness_score</th>\n",
       "      <th>fowlkes_mallows_score</th>\n",
       "      <th>Detected_Events</th>\n",
       "      <th>Purity</th>\n",
       "    </tr>\n",
       "  </thead>\n",
       "  <tbody>\n",
       "    <tr>\n",
       "      <th>Time window 0.4</th>\n",
       "      <td>0.827755</td>\n",
       "      <td>0.934966</td>\n",
       "      <td>0.884898</td>\n",
       "      <td>0.947211</td>\n",
       "      <td>0.609551</td>\n",
       "      <td>0.983712</td>\n",
       "    </tr>\n",
       "    <tr>\n",
       "      <th>Time window 0.5</th>\n",
       "      <td>0.807886</td>\n",
       "      <td>0.925411</td>\n",
       "      <td>0.868346</td>\n",
       "      <td>0.939759</td>\n",
       "      <td>0.679775</td>\n",
       "      <td>0.984304</td>\n",
       "    </tr>\n",
       "    <tr>\n",
       "      <th>Time window 0.6</th>\n",
       "      <td>0.793707</td>\n",
       "      <td>0.914966</td>\n",
       "      <td>0.860544</td>\n",
       "      <td>0.939966</td>\n",
       "      <td>0.721910</td>\n",
       "      <td>0.984284</td>\n",
       "    </tr>\n",
       "    <tr>\n",
       "      <th>Time window 0.7</th>\n",
       "      <td>0.767344</td>\n",
       "      <td>0.899344</td>\n",
       "      <td>0.840459</td>\n",
       "      <td>0.929115</td>\n",
       "      <td>0.778090</td>\n",
       "      <td>0.983971</td>\n",
       "    </tr>\n",
       "    <tr>\n",
       "      <th>Time window 0.8</th>\n",
       "      <td>0.737116</td>\n",
       "      <td>0.862389</td>\n",
       "      <td>0.833449</td>\n",
       "      <td>0.922547</td>\n",
       "      <td>0.823034</td>\n",
       "      <td>0.980706</td>\n",
       "    </tr>\n",
       "    <tr>\n",
       "      <th>Time window 0.9</th>\n",
       "      <td>0.591193</td>\n",
       "      <td>0.645794</td>\n",
       "      <td>0.893257</td>\n",
       "      <td>0.866220</td>\n",
       "      <td>0.918539</td>\n",
       "      <td>0.931567</td>\n",
       "    </tr>\n",
       "  </tbody>\n",
       "</table>\n",
       "</div>"
      ],
      "text/plain": [
       "                 adjusted_mutual_info_score  homogeneity_score  \\\n",
       "Time window 0.4                    0.827755           0.934966   \n",
       "Time window 0.5                    0.807886           0.925411   \n",
       "Time window 0.6                    0.793707           0.914966   \n",
       "Time window 0.7                    0.767344           0.899344   \n",
       "Time window 0.8                    0.737116           0.862389   \n",
       "Time window 0.9                    0.591193           0.645794   \n",
       "\n",
       "                 completeness_score  fowlkes_mallows_score  Detected_Events  \\\n",
       "Time window 0.4            0.884898               0.947211         0.609551   \n",
       "Time window 0.5            0.868346               0.939759         0.679775   \n",
       "Time window 0.6            0.860544               0.939966         0.721910   \n",
       "Time window 0.7            0.840459               0.929115         0.778090   \n",
       "Time window 0.8            0.833449               0.922547         0.823034   \n",
       "Time window 0.9            0.893257               0.866220         0.918539   \n",
       "\n",
       "                   Purity  \n",
       "Time window 0.4  0.983712  \n",
       "Time window 0.5  0.984304  \n",
       "Time window 0.6  0.984284  \n",
       "Time window 0.7  0.983971  \n",
       "Time window 0.8  0.980706  \n",
       "Time window 0.9  0.931567  "
      ]
     },
     "execution_count": 25,
     "metadata": {},
     "output_type": "execute_result"
    }
   ],
   "source": [
    "df_mean_values = df_mean_values.drop(['Name'], axis=1)\n",
    "df_mean_values"
   ]
  },
  {
   "cell_type": "code",
   "execution_count": 26,
   "metadata": {},
   "outputs": [],
   "source": [
    "df_mean_values.to_csv(\"evaluationMeasures_2_3_grams.csv\",index=True)"
   ]
  }
 ],
 "metadata": {
  "kernelspec": {
   "display_name": "Python 3",
   "language": "python",
   "name": "python3"
  },
  "language_info": {
   "codemirror_mode": {
    "name": "ipython",
    "version": 3
   },
   "file_extension": ".py",
   "mimetype": "text/x-python",
   "name": "python",
   "nbconvert_exporter": "python",
   "pygments_lexer": "ipython3",
   "version": "3.7.6"
  }
 },
 "nbformat": 4,
 "nbformat_minor": 4
}
