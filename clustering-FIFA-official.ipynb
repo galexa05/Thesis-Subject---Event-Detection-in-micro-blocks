{
 "cells": [
  {
   "cell_type": "code",
   "execution_count": 1,
   "metadata": {},
   "outputs": [],
   "source": [
    "# Import libraries\n",
    "import pandas as pd\n",
    "import numpy as np\n",
    "import seaborn as sns\n",
    "import matplotlib.pyplot as plt\n",
    "from sklearn.feature_extraction.text import CountVectorizer\n",
    "import nltk \n",
    "import string\n",
    "import re\n",
    "import json\n",
    "%matplotlib inline\n",
    "pd.set_option('display.max_colwidth', 100)"
   ]
  },
  {
   "cell_type": "code",
   "execution_count": 2,
   "metadata": {},
   "outputs": [],
   "source": [
    "import hdbscan\n",
    "import nltk\n",
    "import numpy as np\n",
    "import pandas as pd\n",
    "import random\n",
    "import re\n",
    "import spacy\n",
    "import textacy\n",
    "\n",
    "from gmplot import gmplot\n",
    "from mapsplotlib import mapsplot as mplt\n",
    "from nltk.corpus import twitter_samples\n",
    "from nltk.tag import pos_tag_sents\n",
    "from pymprog import *\n",
    "from sklearn.cluster import DBSCAN\n",
    "from sklearn.neighbors import DistanceMetric"
   ]
  },
  {
   "cell_type": "code",
   "execution_count": 3,
   "metadata": {},
   "outputs": [],
   "source": [
    "import pandas as pd\n",
    "\n",
    "df = pd.read_csv(\"FIFA.csv\")"
   ]
  },
  {
   "cell_type": "code",
   "execution_count": 4,
   "metadata": {},
   "outputs": [
    {
     "data": {
      "text/plain": [
       "Index(['ID', 'lang', 'Date', 'Source', 'len', 'Orig_Tweet', 'Tweet', 'Likes',\n",
       "       'RTs', 'Hashtags', 'UserMentionNames', 'UserMentionID', 'Name', 'Place',\n",
       "       'Followers', 'Friends'],\n",
       "      dtype='object')"
      ]
     },
     "execution_count": 4,
     "metadata": {},
     "output_type": "execute_result"
    }
   ],
   "source": [
    "df.columns"
   ]
  },
  {
   "cell_type": "markdown",
   "metadata": {},
   "source": [
    "## Remove tweets that are not in English"
   ]
  },
  {
   "cell_type": "code",
   "execution_count": 5,
   "metadata": {},
   "outputs": [
    {
     "data": {
      "text/plain": [
       "Text(0.5, 1.0, 'Tweets in FIFA World Cup 2018')"
      ]
     },
     "execution_count": 5,
     "metadata": {},
     "output_type": "execute_result"
    },
    {
     "data": {
      "image/png": "[encoded data removed]",
      "text/plain": [
       "<Figure size 432x288 with 1 Axes>"
      ]
     },
     "metadata": {
      "needs_background": "light"
     },
     "output_type": "display_data"
    }
   ],
   "source": [
    "import matplotlib.pyplot as plt\n",
    "# plots number of tweets in each language\n",
    "counts = df['lang'].value_counts()\n",
    "plt.bar(counts.index, counts, align='center', alpha=0.5)\n",
    "plt.xlabel('Tweet Language')\n",
    "plt.ylabel('# of Tweets')\n",
    "plt.title('Tweets in FIFA World Cup 2018')"
   ]
  },
  {
   "cell_type": "code",
   "execution_count": 6,
   "metadata": {},
   "outputs": [],
   "source": [
    "df[\"Time\"] = np.array([datetime.split()[1] for datetime in df[\"Date\"]])\n",
    "df[\"Date\"] = np.array([datetime.split()[0] for datetime in df[\"Date\"]])"
   ]
  },
  {
   "cell_type": "markdown",
   "metadata": {},
   "source": [
    "# Flagging all potential eventful tweets"
   ]
  },
  {
   "cell_type": "code",
   "execution_count": 7,
   "metadata": {},
   "outputs": [],
   "source": [
    "# converting to a Datetime format by hour\n",
    "df2 = df.copy()\n",
    "df2['Datetime']= pd.to_datetime(df2['Date'].apply(str)+' '+df2['Time'].apply(lambda x: x.split(':')[0]) + df2['Time'].apply(lambda x: x.split(':')[1]))\n",
    "df2['DateHour'] = pd.to_datetime(df2['Date'].apply(str)+' '+df2['Time'].apply(lambda x: x.split(':')[0])+':00')\n",
    "\n",
    "tableFlag=[]\n"
   ]
  },
  {
   "cell_type": "code",
   "execution_count": 8,
   "metadata": {
    "scrolled": true
   },
   "outputs": [
    {
     "name": "stdout",
     "output_type": "stream",
     "text": [
      "2018-07-03 22:14:00\n",
      "22:14:32\n"
     ]
    }
   ],
   "source": [
    "print(df2[\"Datetime\"][100165])\n",
    "print(df2[\"Time\"][100165])"
   ]
  },
  {
   "cell_type": "code",
   "execution_count": 9,
   "metadata": {},
   "outputs": [
    {
     "data": {
      "text/plain": [
       "['2018-06-29',\n",
       " '2018-06-30',\n",
       " '2018-07-01',\n",
       " '2018-07-02',\n",
       " '2018-07-03',\n",
       " '2018-07-04',\n",
       " '2018-07-10',\n",
       " '2018-07-11',\n",
       " '2018-07-15']"
      ]
     },
     "execution_count": 9,
     "metadata": {},
     "output_type": "execute_result"
    }
   ],
   "source": [
    "data_sorted = df2.sort_values(by=['Date'],inplace=False)\n",
    "data_sorted = data_sorted.reset_index(drop=True)\n",
    "\n",
    "list_date = []\n",
    "for temp in data_sorted[\"Date\"]:\n",
    "    list_date.append(temp)\n",
    "\n",
    "list_date = list(dict.fromkeys(list_date))\n",
    "list_date"
   ]
  },
  {
   "cell_type": "code",
   "execution_count": 10,
   "metadata": {},
   "outputs": [
    {
     "data": {
      "text/plain": [
       "[]"
      ]
     },
     "execution_count": 10,
     "metadata": {},
     "output_type": "execute_result"
    }
   ],
   "source": [
    "tableFlag =[]\n",
    "i = 0\n",
    "tableCurrent = []\n",
    "dfchange = df2.loc[df2['Date']==list_date[3]]\n",
    "ts = dfchange.set_index('DateHour')\n",
    "vc = ts.groupby(\"Datetime\").count()\n",
    "col = ['ID']\n",
    "vc2 = vc[col]\n",
    "##calculating threshold to flag hours with more tweets\n",
    "th = vc2['ID'].mean()+2*vc2['ID'].std()\n",
    "#iterating through each row to find flags\n",
    "i=0\n",
    "for index, row in vc2.iterrows():\n",
    "    if (row[\"ID\"]>th):\n",
    "        tableFlag.append([i,index])\n",
    "        #tableCurrent.append([i,index])\n",
    "        i+=1\n",
    "        count+=1\n",
    "tableFlag"
   ]
  },
  {
   "cell_type": "code",
   "execution_count": 11,
   "metadata": {},
   "outputs": [],
   "source": [
    "# tableFlag = []\n",
    "# count = 0\n",
    "\n",
    "# for temp_date in list_date:\n",
    "#     i = 0\n",
    "#     tableCurrent = []\n",
    "#     dfchange = df2.loc[df2['Date']==temp_date]\n",
    "#     ts = dfchange.set_index('DateHour')\n",
    "#     vc = ts.groupby(\"Datetime\").count()\n",
    "#     col = ['ID']\n",
    "#     vc2 = vc[col]\n",
    "#     ##calculating threshold to flag hours with more tweets\n",
    "#     th = vc2['ID'].mean()+2*vc2['ID'].std()\n",
    "#     #iterating through each row to find flags\n",
    "#     i=0\n",
    "#     for index, row in vc2.iterrows():\n",
    "#         if (row[\"ID\"]>th):\n",
    "#             #tableFlag.append([i,index])\n",
    "#             tableCurrent.append([i,index])\n",
    "#             i+=1\n",
    "#             count+=1\n",
    "#     tableFlag.append(tableCurrent)\n",
    "# print(\"Count: \",count)\n",
    "# tableFlag"
   ]
  },
  {
   "cell_type": "code",
   "execution_count": 12,
   "metadata": {},
   "outputs": [],
   "source": [
    "# count = 0 \n",
    "# tableFlag = []\n",
    "# # graphing the threshold vs hourly tweet occurences\n",
    "# for temp_date in list_date: \n",
    "#     tableCurrent = []\n",
    "#     dfchange = df2.loc[df2['Date']==temp_date]\n",
    "#     ts = dfchange.set_index('DateHour')\n",
    "#     vc = ts.groupby('DateHour').count()\n",
    "#     col = ['ID']\n",
    "#     vc2 = vc[col]\n",
    "#     vc3 = vc2.copy()\n",
    "#     th = vc2['ID'].mean()+2*vc2['ID'].std()\n",
    "#     for index, row in vc2.iterrows():\n",
    "#         if (row[\"ID\"]>th):\n",
    "#             #tableFlag.append([count, index])\n",
    "#             tableCurrent.append([count,index])\n",
    "#             count+=1\n",
    "\n",
    "#     vc4 = vc2.copy()\n",
    "#     vc4.rename(columns={'ID':'Hourly'},inplace=True)\n",
    "#     vc3['ID'] = th\n",
    "#     vc3.rename(columns={'ID':'Threshold'},inplace=True)\n",
    "\n",
    "#     ax = vc2.plot()\n",
    "#     vc3.plot(ax = ax)\n",
    "#     tableFlag.append(tableCurrent)"
   ]
  },
  {
   "cell_type": "code",
   "execution_count": 13,
   "metadata": {
    "scrolled": true
   },
   "outputs": [
    {
     "name": "stdout",
     "output_type": "stream",
     "text": [
      "Count:  55\n"
     ]
    },
    {
     "data": {
      "text/plain": [
       "[[1, Timestamp('2018-06-30 16:17:00')],\n",
       " [1, Timestamp('2018-06-30 16:18:00')],\n",
       " [1, Timestamp('2018-06-30 16:19:00')],\n",
       " [1, Timestamp('2018-06-30 16:20:00')],\n",
       " [1, Timestamp('2018-06-30 16:21:00')],\n",
       " [1, Timestamp('2018-06-30 16:22:00')],\n",
       " [1, Timestamp('2018-06-30 16:23:00')],\n",
       " [1, Timestamp('2018-06-30 16:24:00')],\n",
       " [1, Timestamp('2018-06-30 16:25:00')],\n",
       " [1, Timestamp('2018-06-30 16:26:00')],\n",
       " [1, Timestamp('2018-06-30 16:27:00')],\n",
       " [1, Timestamp('2018-06-30 16:28:00')],\n",
       " [1, Timestamp('2018-06-30 16:29:00')],\n",
       " [1, Timestamp('2018-06-30 16:30:00')],\n",
       " [2, Timestamp('2018-07-01 20:45:00')],\n",
       " [2, Timestamp('2018-07-01 20:46:00')],\n",
       " [2, Timestamp('2018-07-01 20:47:00')],\n",
       " [2, Timestamp('2018-07-01 20:48:00')],\n",
       " [2, Timestamp('2018-07-01 20:49:00')],\n",
       " [2, Timestamp('2018-07-01 20:50:00')],\n",
       " [2, Timestamp('2018-07-01 20:51:00')],\n",
       " [2, Timestamp('2018-07-01 20:52:00')],\n",
       " [2, Timestamp('2018-07-01 20:53:00')],\n",
       " [2, Timestamp('2018-07-01 20:54:00')],\n",
       " [2, Timestamp('2018-07-01 20:55:00')],\n",
       " [2, Timestamp('2018-07-01 20:56:00')],\n",
       " [2, Timestamp('2018-07-01 20:57:00')],\n",
       " [2, Timestamp('2018-07-01 20:58:00')],\n",
       " [2, Timestamp('2018-07-01 20:59:00')],\n",
       " [6, Timestamp('2018-07-10 18:34:00')],\n",
       " [6, Timestamp('2018-07-10 18:46:00')],\n",
       " [6, Timestamp('2018-07-10 18:47:00')],\n",
       " [6, Timestamp('2018-07-10 18:48:00')],\n",
       " [6, Timestamp('2018-07-10 18:49:00')],\n",
       " [7, Timestamp('2018-07-11 19:27:00')],\n",
       " [8, Timestamp('2018-07-15 17:37:00')],\n",
       " [8, Timestamp('2018-07-15 17:38:00')],\n",
       " [8, Timestamp('2018-07-15 17:39:00')],\n",
       " [8, Timestamp('2018-07-15 17:40:00')],\n",
       " [8, Timestamp('2018-07-15 17:41:00')],\n",
       " [8, Timestamp('2018-07-15 17:42:00')],\n",
       " [8, Timestamp('2018-07-15 17:43:00')],\n",
       " [8, Timestamp('2018-07-15 17:44:00')],\n",
       " [8, Timestamp('2018-07-15 17:45:00')],\n",
       " [8, Timestamp('2018-07-15 17:46:00')],\n",
       " [8, Timestamp('2018-07-15 17:47:00')],\n",
       " [8, Timestamp('2018-07-15 17:48:00')],\n",
       " [8, Timestamp('2018-07-15 17:49:00')],\n",
       " [8, Timestamp('2018-07-15 17:50:00')],\n",
       " [8, Timestamp('2018-07-15 17:51:00')],\n",
       " [8, Timestamp('2018-07-15 17:52:00')],\n",
       " [8, Timestamp('2018-07-15 17:53:00')],\n",
       " [8, Timestamp('2018-07-15 17:54:00')],\n",
       " [8, Timestamp('2018-07-15 17:55:00')],\n",
       " [8, Timestamp('2018-07-15 17:56:00')]]"
      ]
     },
     "execution_count": 13,
     "metadata": {},
     "output_type": "execute_result"
    }
   ],
   "source": [
    "tableFlag = []\n",
    "count = 0\n",
    "for i in range(len(list_date)):\n",
    "    dfchange = df2.loc[df2['Date']==list_date[i]]\n",
    "    ts = dfchange.set_index('Date')\n",
    "    vc = ts.groupby(\"Datetime\").count()\n",
    "    col = ['ID']\n",
    "    vc2 = vc[col]\n",
    "    ##calculating threshold to flag hours with more tweets\n",
    "    th = vc2['ID'].mean()+2*vc2['ID'].std()\n",
    "    #iterating through each row to find flags\n",
    "    for index, row in vc2.iterrows():\n",
    "        if (row[\"ID\"]>th):\n",
    "            tableFlag.append([i,index])\n",
    "            count+=1\n",
    "print(\"Count: \",count)\n",
    "tableFlag"
   ]
  },
  {
   "cell_type": "code",
   "execution_count": 14,
   "metadata": {},
   "outputs": [
    {
     "data": {
      "text/plain": [
       "<matplotlib.axes._subplots.AxesSubplot at 0x1b6a00a9e48>"
      ]
     },
     "execution_count": 14,
     "metadata": {},
     "output_type": "execute_result"
    },
    {
     "data": {
      "image/png": "[encoded data removed]",
      "text/plain": [
       "<Figure size 432x288 with 1 Axes>"
      ]
     },
     "metadata": {
      "needs_background": "light"
     },
     "output_type": "display_data"
    }
   ],
   "source": [
    "# graphing the threshold vs hourly tweet occurences\n",
    "dfchange = df2.loc[df2['Date'] != -1]\n",
    "ts = dfchange.set_index('Datetime')\n",
    "vc = ts.groupby('Datetime').count()\n",
    "col = ['ID']\n",
    "vc2 = vc[col]\n",
    "vc3 = vc2.copy()\n",
    "th = vc2['ID'].mean()+2*vc2['ID'].std()\n",
    "for index, row in vc2.iterrows():\n",
    "    if (row[\"ID\"]>th):\n",
    "        tableFlag.append([i, index])\n",
    "        count+=1\n",
    "\n",
    "vc4 = vc2.copy()\n",
    "vc4.rename(columns={'ID':'Hourly'},inplace=True)\n",
    "vc3['ID'] = th\n",
    "vc3.rename(columns={'ID':'Threshold'},inplace=True)\n",
    "\n",
    "ax = vc2.plot()\n",
    "vc3.plot(ax = ax)"
   ]
  },
  {
   "cell_type": "code",
   "execution_count": 15,
   "metadata": {},
   "outputs": [
    {
     "data": {
      "text/plain": [
       "[[1, Timestamp('2018-06-30 16:17:00')],\n",
       " [1, Timestamp('2018-06-30 16:18:00')],\n",
       " [1, Timestamp('2018-06-30 16:19:00')],\n",
       " [1, Timestamp('2018-06-30 16:20:00')],\n",
       " [1, Timestamp('2018-06-30 16:21:00')],\n",
       " [1, Timestamp('2018-06-30 16:22:00')],\n",
       " [1, Timestamp('2018-06-30 16:23:00')],\n",
       " [1, Timestamp('2018-06-30 16:24:00')],\n",
       " [1, Timestamp('2018-06-30 16:25:00')],\n",
       " [1, Timestamp('2018-06-30 16:26:00')],\n",
       " [1, Timestamp('2018-06-30 16:27:00')],\n",
       " [1, Timestamp('2018-06-30 16:28:00')],\n",
       " [1, Timestamp('2018-06-30 16:29:00')],\n",
       " [1, Timestamp('2018-06-30 16:30:00')],\n",
       " [2, Timestamp('2018-07-01 20:45:00')],\n",
       " [2, Timestamp('2018-07-01 20:46:00')],\n",
       " [2, Timestamp('2018-07-01 20:47:00')],\n",
       " [2, Timestamp('2018-07-01 20:48:00')],\n",
       " [2, Timestamp('2018-07-01 20:49:00')],\n",
       " [2, Timestamp('2018-07-01 20:50:00')],\n",
       " [2, Timestamp('2018-07-01 20:51:00')],\n",
       " [2, Timestamp('2018-07-01 20:52:00')],\n",
       " [2, Timestamp('2018-07-01 20:53:00')],\n",
       " [2, Timestamp('2018-07-01 20:54:00')],\n",
       " [2, Timestamp('2018-07-01 20:55:00')],\n",
       " [2, Timestamp('2018-07-01 20:56:00')],\n",
       " [2, Timestamp('2018-07-01 20:57:00')],\n",
       " [2, Timestamp('2018-07-01 20:58:00')],\n",
       " [2, Timestamp('2018-07-01 20:59:00')],\n",
       " [6, Timestamp('2018-07-10 18:34:00')],\n",
       " [6, Timestamp('2018-07-10 18:46:00')],\n",
       " [6, Timestamp('2018-07-10 18:47:00')],\n",
       " [6, Timestamp('2018-07-10 18:48:00')],\n",
       " [6, Timestamp('2018-07-10 18:49:00')],\n",
       " [7, Timestamp('2018-07-11 19:27:00')],\n",
       " [8, Timestamp('2018-07-15 17:37:00')],\n",
       " [8, Timestamp('2018-07-15 17:38:00')],\n",
       " [8, Timestamp('2018-07-15 17:39:00')],\n",
       " [8, Timestamp('2018-07-15 17:40:00')],\n",
       " [8, Timestamp('2018-07-15 17:41:00')],\n",
       " [8, Timestamp('2018-07-15 17:42:00')],\n",
       " [8, Timestamp('2018-07-15 17:43:00')],\n",
       " [8, Timestamp('2018-07-15 17:44:00')],\n",
       " [8, Timestamp('2018-07-15 17:45:00')],\n",
       " [8, Timestamp('2018-07-15 17:46:00')],\n",
       " [8, Timestamp('2018-07-15 17:47:00')],\n",
       " [8, Timestamp('2018-07-15 17:48:00')],\n",
       " [8, Timestamp('2018-07-15 17:49:00')],\n",
       " [8, Timestamp('2018-07-15 17:50:00')],\n",
       " [8, Timestamp('2018-07-15 17:51:00')],\n",
       " [8, Timestamp('2018-07-15 17:52:00')],\n",
       " [8, Timestamp('2018-07-15 17:53:00')],\n",
       " [8, Timestamp('2018-07-15 17:54:00')],\n",
       " [8, Timestamp('2018-07-15 17:55:00')],\n",
       " [8, Timestamp('2018-07-15 17:56:00')],\n",
       " [8, Timestamp('2018-07-01 20:46:00')],\n",
       " [8, Timestamp('2018-07-01 20:47:00')],\n",
       " [8, Timestamp('2018-07-01 20:48:00')],\n",
       " [8, Timestamp('2018-07-01 20:49:00')],\n",
       " [8, Timestamp('2018-07-01 20:50:00')],\n",
       " [8, Timestamp('2018-07-11 19:27:00')],\n",
       " [8, Timestamp('2018-07-11 19:28:00')],\n",
       " [8, Timestamp('2018-07-11 19:29:00')],\n",
       " [8, Timestamp('2018-07-11 19:30:00')],\n",
       " [8, Timestamp('2018-07-11 21:21:00')],\n",
       " [8, Timestamp('2018-07-15 17:36:00')],\n",
       " [8, Timestamp('2018-07-15 17:37:00')],\n",
       " [8, Timestamp('2018-07-15 17:38:00')],\n",
       " [8, Timestamp('2018-07-15 17:39:00')],\n",
       " [8, Timestamp('2018-07-15 17:40:00')],\n",
       " [8, Timestamp('2018-07-15 17:41:00')],\n",
       " [8, Timestamp('2018-07-15 17:42:00')],\n",
       " [8, Timestamp('2018-07-15 17:43:00')],\n",
       " [8, Timestamp('2018-07-15 17:44:00')],\n",
       " [8, Timestamp('2018-07-15 17:45:00')],\n",
       " [8, Timestamp('2018-07-15 17:46:00')],\n",
       " [8, Timestamp('2018-07-15 17:47:00')],\n",
       " [8, Timestamp('2018-07-15 17:48:00')],\n",
       " [8, Timestamp('2018-07-15 17:49:00')],\n",
       " [8, Timestamp('2018-07-15 17:50:00')],\n",
       " [8, Timestamp('2018-07-15 17:51:00')],\n",
       " [8, Timestamp('2018-07-15 17:52:00')],\n",
       " [8, Timestamp('2018-07-15 17:53:00')],\n",
       " [8, Timestamp('2018-07-15 17:54:00')],\n",
       " [8, Timestamp('2018-07-15 17:55:00')],\n",
       " [8, Timestamp('2018-07-15 17:56:00')],\n",
       " [8, Timestamp('2018-07-15 17:57:00')],\n",
       " [8, Timestamp('2018-07-15 17:58:00')],\n",
       " [8, Timestamp('2018-07-15 17:59:00')],\n",
       " [8, Timestamp('2018-07-15 18:00:00')],\n",
       " [8, Timestamp('2018-07-15 18:01:00')],\n",
       " [8, Timestamp('2018-07-15 18:02:00')],\n",
       " [8, Timestamp('2018-07-15 18:03:00')],\n",
       " [8, Timestamp('2018-07-15 18:04:00')],\n",
       " [8, Timestamp('2018-07-15 18:05:00')],\n",
       " [8, Timestamp('2018-07-15 18:06:00')],\n",
       " [8, Timestamp('2018-07-15 18:07:00')],\n",
       " [8, Timestamp('2018-07-15 18:08:00')],\n",
       " [8, Timestamp('2018-07-15 18:09:00')],\n",
       " [8, Timestamp('2018-07-15 18:10:00')],\n",
       " [8, Timestamp('2018-07-15 18:11:00')],\n",
       " [8, Timestamp('2018-07-15 18:12:00')],\n",
       " [8, Timestamp('2018-07-15 18:13:00')],\n",
       " [8, Timestamp('2018-07-15 18:14:00')],\n",
       " [8, Timestamp('2018-07-15 18:15:00')]]"
      ]
     },
     "execution_count": 15,
     "metadata": {},
     "output_type": "execute_result"
    }
   ],
   "source": [
    "tableFlag"
   ]
  },
  {
   "cell_type": "code",
   "execution_count": 16,
   "metadata": {},
   "outputs": [],
   "source": [
    "while [] in tableFlag:\n",
    "    tableFlag.remove([])"
   ]
  },
  {
   "cell_type": "code",
   "execution_count": 17,
   "metadata": {},
   "outputs": [
    {
     "data": {
      "text/plain": [
       "[[1, Timestamp('2018-06-30 16:17:00')],\n",
       " [1, Timestamp('2018-06-30 16:18:00')],\n",
       " [1, Timestamp('2018-06-30 16:19:00')],\n",
       " [1, Timestamp('2018-06-30 16:20:00')],\n",
       " [1, Timestamp('2018-06-30 16:21:00')],\n",
       " [1, Timestamp('2018-06-30 16:22:00')],\n",
       " [1, Timestamp('2018-06-30 16:23:00')],\n",
       " [1, Timestamp('2018-06-30 16:24:00')],\n",
       " [1, Timestamp('2018-06-30 16:25:00')],\n",
       " [1, Timestamp('2018-06-30 16:26:00')],\n",
       " [1, Timestamp('2018-06-30 16:27:00')],\n",
       " [1, Timestamp('2018-06-30 16:28:00')],\n",
       " [1, Timestamp('2018-06-30 16:29:00')],\n",
       " [1, Timestamp('2018-06-30 16:30:00')],\n",
       " [2, Timestamp('2018-07-01 20:45:00')],\n",
       " [2, Timestamp('2018-07-01 20:46:00')],\n",
       " [2, Timestamp('2018-07-01 20:47:00')],\n",
       " [2, Timestamp('2018-07-01 20:48:00')],\n",
       " [2, Timestamp('2018-07-01 20:49:00')],\n",
       " [2, Timestamp('2018-07-01 20:50:00')],\n",
       " [2, Timestamp('2018-07-01 20:51:00')],\n",
       " [2, Timestamp('2018-07-01 20:52:00')],\n",
       " [2, Timestamp('2018-07-01 20:53:00')],\n",
       " [2, Timestamp('2018-07-01 20:54:00')],\n",
       " [2, Timestamp('2018-07-01 20:55:00')],\n",
       " [2, Timestamp('2018-07-01 20:56:00')],\n",
       " [2, Timestamp('2018-07-01 20:57:00')],\n",
       " [2, Timestamp('2018-07-01 20:58:00')],\n",
       " [2, Timestamp('2018-07-01 20:59:00')],\n",
       " [6, Timestamp('2018-07-10 18:34:00')],\n",
       " [6, Timestamp('2018-07-10 18:46:00')],\n",
       " [6, Timestamp('2018-07-10 18:47:00')],\n",
       " [6, Timestamp('2018-07-10 18:48:00')],\n",
       " [6, Timestamp('2018-07-10 18:49:00')],\n",
       " [7, Timestamp('2018-07-11 19:27:00')],\n",
       " [8, Timestamp('2018-07-15 17:37:00')],\n",
       " [8, Timestamp('2018-07-15 17:38:00')],\n",
       " [8, Timestamp('2018-07-15 17:39:00')],\n",
       " [8, Timestamp('2018-07-15 17:40:00')],\n",
       " [8, Timestamp('2018-07-15 17:41:00')],\n",
       " [8, Timestamp('2018-07-15 17:42:00')],\n",
       " [8, Timestamp('2018-07-15 17:43:00')],\n",
       " [8, Timestamp('2018-07-15 17:44:00')],\n",
       " [8, Timestamp('2018-07-15 17:45:00')],\n",
       " [8, Timestamp('2018-07-15 17:46:00')],\n",
       " [8, Timestamp('2018-07-15 17:47:00')],\n",
       " [8, Timestamp('2018-07-15 17:48:00')],\n",
       " [8, Timestamp('2018-07-15 17:49:00')],\n",
       " [8, Timestamp('2018-07-15 17:50:00')],\n",
       " [8, Timestamp('2018-07-15 17:51:00')],\n",
       " [8, Timestamp('2018-07-15 17:52:00')],\n",
       " [8, Timestamp('2018-07-15 17:53:00')],\n",
       " [8, Timestamp('2018-07-15 17:54:00')],\n",
       " [8, Timestamp('2018-07-15 17:55:00')],\n",
       " [8, Timestamp('2018-07-15 17:56:00')],\n",
       " [8, Timestamp('2018-07-01 20:46:00')],\n",
       " [8, Timestamp('2018-07-01 20:47:00')],\n",
       " [8, Timestamp('2018-07-01 20:48:00')],\n",
       " [8, Timestamp('2018-07-01 20:49:00')],\n",
       " [8, Timestamp('2018-07-01 20:50:00')],\n",
       " [8, Timestamp('2018-07-11 19:27:00')],\n",
       " [8, Timestamp('2018-07-11 19:28:00')],\n",
       " [8, Timestamp('2018-07-11 19:29:00')],\n",
       " [8, Timestamp('2018-07-11 19:30:00')],\n",
       " [8, Timestamp('2018-07-11 21:21:00')],\n",
       " [8, Timestamp('2018-07-15 17:36:00')],\n",
       " [8, Timestamp('2018-07-15 17:37:00')],\n",
       " [8, Timestamp('2018-07-15 17:38:00')],\n",
       " [8, Timestamp('2018-07-15 17:39:00')],\n",
       " [8, Timestamp('2018-07-15 17:40:00')],\n",
       " [8, Timestamp('2018-07-15 17:41:00')],\n",
       " [8, Timestamp('2018-07-15 17:42:00')],\n",
       " [8, Timestamp('2018-07-15 17:43:00')],\n",
       " [8, Timestamp('2018-07-15 17:44:00')],\n",
       " [8, Timestamp('2018-07-15 17:45:00')],\n",
       " [8, Timestamp('2018-07-15 17:46:00')],\n",
       " [8, Timestamp('2018-07-15 17:47:00')],\n",
       " [8, Timestamp('2018-07-15 17:48:00')],\n",
       " [8, Timestamp('2018-07-15 17:49:00')],\n",
       " [8, Timestamp('2018-07-15 17:50:00')],\n",
       " [8, Timestamp('2018-07-15 17:51:00')],\n",
       " [8, Timestamp('2018-07-15 17:52:00')],\n",
       " [8, Timestamp('2018-07-15 17:53:00')],\n",
       " [8, Timestamp('2018-07-15 17:54:00')],\n",
       " [8, Timestamp('2018-07-15 17:55:00')],\n",
       " [8, Timestamp('2018-07-15 17:56:00')],\n",
       " [8, Timestamp('2018-07-15 17:57:00')],\n",
       " [8, Timestamp('2018-07-15 17:58:00')],\n",
       " [8, Timestamp('2018-07-15 17:59:00')],\n",
       " [8, Timestamp('2018-07-15 18:00:00')],\n",
       " [8, Timestamp('2018-07-15 18:01:00')],\n",
       " [8, Timestamp('2018-07-15 18:02:00')],\n",
       " [8, Timestamp('2018-07-15 18:03:00')],\n",
       " [8, Timestamp('2018-07-15 18:04:00')],\n",
       " [8, Timestamp('2018-07-15 18:05:00')],\n",
       " [8, Timestamp('2018-07-15 18:06:00')],\n",
       " [8, Timestamp('2018-07-15 18:07:00')],\n",
       " [8, Timestamp('2018-07-15 18:08:00')],\n",
       " [8, Timestamp('2018-07-15 18:09:00')],\n",
       " [8, Timestamp('2018-07-15 18:10:00')],\n",
       " [8, Timestamp('2018-07-15 18:11:00')],\n",
       " [8, Timestamp('2018-07-15 18:12:00')],\n",
       " [8, Timestamp('2018-07-15 18:13:00')],\n",
       " [8, Timestamp('2018-07-15 18:14:00')],\n",
       " [8, Timestamp('2018-07-15 18:15:00')]]"
      ]
     },
     "execution_count": 17,
     "metadata": {},
     "output_type": "execute_result"
    }
   ],
   "source": [
    "tableFlag"
   ]
  },
  {
   "cell_type": "code",
   "execution_count": 18,
   "metadata": {},
   "outputs": [
    {
     "name": "stdout",
     "output_type": "stream",
     "text": [
      "0\n"
     ]
    },
    {
     "ename": "TypeError",
     "evalue": "'int' object is not subscriptable",
     "output_type": "error",
     "traceback": [
      "\u001b[1;31m---------------------------------------------------------------------------\u001b[0m",
      "\u001b[1;31mTypeError\u001b[0m                                 Traceback (most recent call last)",
      "\u001b[1;32m<ipython-input-18-fb48b5d0967d>\u001b[0m in \u001b[0;36m<module>\u001b[1;34m\u001b[0m\n\u001b[0;32m      5\u001b[0m     \u001b[1;32mfor\u001b[0m \u001b[0mindex\u001b[0m\u001b[1;33m,\u001b[0m \u001b[0marray\u001b[0m \u001b[1;32min\u001b[0m \u001b[0menumerate\u001b[0m\u001b[1;33m(\u001b[0m\u001b[0mcurrentTemp\u001b[0m\u001b[1;33m)\u001b[0m\u001b[1;33m:\u001b[0m\u001b[1;33m\u001b[0m\u001b[1;33m\u001b[0m\u001b[0m\n\u001b[0;32m      6\u001b[0m         \u001b[0mprint\u001b[0m\u001b[1;33m(\u001b[0m\u001b[0mcount\u001b[0m\u001b[1;33m)\u001b[0m\u001b[1;33m\u001b[0m\u001b[1;33m\u001b[0m\u001b[0m\n\u001b[1;32m----> 7\u001b[1;33m         \u001b[0mcluster\u001b[0m \u001b[1;33m=\u001b[0m \u001b[0marray\u001b[0m\u001b[1;33m[\u001b[0m\u001b[1;36m0\u001b[0m\u001b[1;33m]\u001b[0m\u001b[1;33m\u001b[0m\u001b[1;33m\u001b[0m\u001b[0m\n\u001b[0m\u001b[0;32m      8\u001b[0m         \u001b[0mtimestamp\u001b[0m \u001b[1;33m=\u001b[0m \u001b[0marray\u001b[0m\u001b[1;33m[\u001b[0m\u001b[1;36m1\u001b[0m\u001b[1;33m]\u001b[0m\u001b[1;33m\u001b[0m\u001b[1;33m\u001b[0m\u001b[0m\n\u001b[0;32m      9\u001b[0m         \u001b[0mdf2\u001b[0m\u001b[1;33m[\u001b[0m\u001b[1;34m'event_id'\u001b[0m\u001b[1;33m]\u001b[0m \u001b[1;33m=\u001b[0m \u001b[1;33m(\u001b[0m\u001b[0mnp\u001b[0m\u001b[1;33m.\u001b[0m\u001b[0mwhere\u001b[0m\u001b[1;33m(\u001b[0m\u001b[1;33m(\u001b[0m\u001b[0mdf2\u001b[0m\u001b[1;33m[\u001b[0m\u001b[1;34m'Datetime'\u001b[0m\u001b[1;33m]\u001b[0m \u001b[1;33m==\u001b[0m \u001b[0mtimestamp\u001b[0m\u001b[1;33m)\u001b[0m\u001b[1;33m,\u001b[0m \u001b[0mcount\u001b[0m\u001b[1;33m,\u001b[0m \u001b[0mdf2\u001b[0m\u001b[1;33m[\u001b[0m\u001b[1;34m\"event_id\"\u001b[0m\u001b[1;33m]\u001b[0m\u001b[1;33m)\u001b[0m\u001b[1;33m)\u001b[0m\u001b[1;33m\u001b[0m\u001b[1;33m\u001b[0m\u001b[0m\n",
      "\u001b[1;31mTypeError\u001b[0m: 'int' object is not subscriptable"
     ]
    }
   ],
   "source": [
    "# retrieve tweets associated with flagged timestamp\n",
    "df2['event_id'] = -1\n",
    "count=0\n",
    "for currentTemp in tableFlag:\n",
    "    for index, array in enumerate(currentTemp):\n",
    "        print(count)\n",
    "        cluster = array[0]\n",
    "        timestamp = array[1]\n",
    "        df2['event_id'] = (np.where((df2['Datetime'] == timestamp), count, df2[\"event_id\"]))\n",
    "        count+=1"
   ]
  },
  {
   "cell_type": "code",
   "execution_count": 19,
   "metadata": {},
   "outputs": [],
   "source": [
    "df2.to_pickle('events.pkl')"
   ]
  },
  {
   "cell_type": "code",
   "execution_count": 20,
   "metadata": {},
   "outputs": [],
   "source": [
    "events = pd.read_pickle('events.pkl')"
   ]
  },
  {
   "cell_type": "code",
   "execution_count": 21,
   "metadata": {},
   "outputs": [
    {
     "data": {
      "text/plain": [
       "Index(['ID', 'lang', 'Date', 'Source', 'len', 'Orig_Tweet', 'Tweet', 'Likes',\n",
       "       'RTs', 'Hashtags', 'UserMentionNames', 'UserMentionID', 'Name', 'Place',\n",
       "       'Followers', 'Friends', 'Time', 'Datetime', 'DateHour', 'event_id'],\n",
       "      dtype='object')"
      ]
     },
     "execution_count": 21,
     "metadata": {},
     "output_type": "execute_result"
    }
   ],
   "source": [
    "df2.columns"
   ]
  },
  {
   "cell_type": "markdown",
   "metadata": {},
   "source": [
    "## Find Similar Tweets"
   ]
  },
  {
   "cell_type": "code",
   "execution_count": 22,
   "metadata": {},
   "outputs": [],
   "source": [
    "from sklearn.cluster import DBSCAN\n",
    "import pandas as pd\n",
    "import re\n",
    "import nltk\n",
    "from nltk.stem.snowball import SnowballStemmer\n",
    "from sklearn.feature_extraction.text import TfidfVectorizer\n",
    "\n",
    "num_clusters = 10\n",
    "stemmer = SnowballStemmer(\"english\")"
   ]
  },
  {
   "cell_type": "markdown",
   "metadata": {},
   "source": [
    "<h3> Remove hashtags,mentions,retweets from the tweet and import them to a new column </h3>"
   ]
  },
  {
   "cell_type": "code",
   "execution_count": 23,
   "metadata": {},
   "outputs": [],
   "source": [
    "def remove_patterns(input_txt,mentions,hashtags,RT):\n",
    "    m = re.findall(mentions, input_txt)\n",
    "    h = re.findall(hashtags,input_txt)\n",
    "    r = re.findall(RT,input_txt)\n",
    "    u = re.findall(r\"http\\S+\",input_txt)\n",
    "    mention_list = []\n",
    "    hashtag_list = []\n",
    "    url_list = []\n",
    "    rt1 = 0\n",
    "    \n",
    "    \n",
    "    for i in u:\n",
    "        url_list.append(i)\n",
    "        #input_txt = re.sub(i,'',input_txt)\n",
    "    input_txt = re.sub(r\"http\\S+\",'',input_txt)\n",
    "    for i in m:\n",
    "        mention_list.append(i)\n",
    "        input_txt = re.sub(i, '', input_txt)\n",
    "    for i in h:\n",
    "        hashtag_list.append(i)\n",
    "        input_txt = re.sub(i,'',input_txt)\n",
    "    if r!=0 :\n",
    "        rt1 = 1\n",
    "    for i in r:\n",
    "        input_txt = re.sub(i,'',input_txt)\n",
    "    #Some json\n",
    "    x = {\"input_text\" : input_txt,\"user_mentions\":mention_list,\"hashtags\":hashtag_list,\"is_RT\":rt1,\"is_URL\":url_list}\n",
    "    #y = json.dumps(x)\n",
    "    return x\n",
    "\n",
    "temp = np.vectorize(remove_patterns)(df2['Orig_Tweet'],\"@[\\w]*\",\"#[\\w]*\",\"RT\")"
   ]
  },
  {
   "cell_type": "code",
   "execution_count": 24,
   "metadata": {},
   "outputs": [
    {
     "data": {
      "text/html": [
       "<div>\n",
       "<style scoped>\n",
       "    .dataframe tbody tr th:only-of-type {\n",
       "        vertical-align: middle;\n",
       "    }\n",
       "\n",
       "    .dataframe tbody tr th {\n",
       "        vertical-align: top;\n",
       "    }\n",
       "\n",
       "    .dataframe thead th {\n",
       "        text-align: right;\n",
       "    }\n",
       "</style>\n",
       "<table border=\"1\" class=\"dataframe\">\n",
       "  <thead>\n",
       "    <tr style=\"text-align: right;\">\n",
       "      <th></th>\n",
       "      <th>ID</th>\n",
       "      <th>lang</th>\n",
       "      <th>Date</th>\n",
       "      <th>Source</th>\n",
       "      <th>len</th>\n",
       "      <th>Orig_Tweet</th>\n",
       "      <th>Tweet</th>\n",
       "      <th>Likes</th>\n",
       "      <th>RTs</th>\n",
       "      <th>Hashtags</th>\n",
       "      <th>...</th>\n",
       "      <th>Friends</th>\n",
       "      <th>Time</th>\n",
       "      <th>Datetime</th>\n",
       "      <th>DateHour</th>\n",
       "      <th>event_id</th>\n",
       "      <th>text</th>\n",
       "      <th>hashtag</th>\n",
       "      <th>new_mentions</th>\n",
       "      <th>RT</th>\n",
       "      <th>URL</th>\n",
       "    </tr>\n",
       "  </thead>\n",
       "  <tbody>\n",
       "    <tr>\n",
       "      <th>0</th>\n",
       "      <td>1013597060640145408</td>\n",
       "      <td>en</td>\n",
       "      <td>2018-07-02</td>\n",
       "      <td>Twitter for Android</td>\n",
       "      <td>140</td>\n",
       "      <td>RT @Squawka: Only two goalkeepers have saved three penalties in a #WorldCup penalty shoot-out: \\...</td>\n",
       "      <td>Only two goalkeepers have saved three penalties in penalty shoot out Ricardo vs</td>\n",
       "      <td>0</td>\n",
       "      <td>477</td>\n",
       "      <td>WorldCup,POR,ENG</td>\n",
       "      <td>...</td>\n",
       "      <td>828</td>\n",
       "      <td>01:35:45</td>\n",
       "      <td>2018-07-02 01:35:00</td>\n",
       "      <td>2018-07-02 01:00:00</td>\n",
       "      <td>-1</td>\n",
       "      <td>: Only two goalkeepers have saved three penalties in a  penalty shoot-out: \\r\\n\\r\\n1/7/2006: 's...</td>\n",
       "      <td>[#WorldCup, #POR, #ENG]</td>\n",
       "      <td>[@Squawka]</td>\n",
       "      <td>1</td>\n",
       "      <td>[]</td>\n",
       "    </tr>\n",
       "    <tr>\n",
       "      <th>1</th>\n",
       "      <td>1013597056219295744</td>\n",
       "      <td>en</td>\n",
       "      <td>2018-07-02</td>\n",
       "      <td>Twitter for Android</td>\n",
       "      <td>139</td>\n",
       "      <td>RT @FCBarcelona: ?? @ivanrakitic scores the winning penalty to send @HNS_CFF into the #WorldCup ...</td>\n",
       "      <td>scores the winning penalty to send into the quarter finals where they will face Russia</td>\n",
       "      <td>0</td>\n",
       "      <td>1031</td>\n",
       "      <td>WorldCup</td>\n",
       "      <td>...</td>\n",
       "      <td>686</td>\n",
       "      <td>01:35:44</td>\n",
       "      <td>2018-07-02 01:35:00</td>\n",
       "      <td>2018-07-02 01:00:00</td>\n",
       "      <td>-1</td>\n",
       "      <td>: ??  scores the winning penalty to send  into the  quarter-finals, where they'll face Russia!…</td>\n",
       "      <td>[#WorldCup]</td>\n",
       "      <td>[@FCBarcelona, @ivanrakitic, @HNS_CFF]</td>\n",
       "      <td>1</td>\n",
       "      <td>[]</td>\n",
       "    </tr>\n",
       "    <tr>\n",
       "      <th>2</th>\n",
       "      <td>1013597047482544130</td>\n",
       "      <td>en</td>\n",
       "      <td>2018-07-02</td>\n",
       "      <td>Twitter for Android</td>\n",
       "      <td>107</td>\n",
       "      <td>RT @javierfernandez: Tonight we have big game.... @EvgeniPlushenko ?????? #worldcup https://t.co...</td>\n",
       "      <td>Tonight we have big game</td>\n",
       "      <td>0</td>\n",
       "      <td>488</td>\n",
       "      <td>worldcup</td>\n",
       "      <td>...</td>\n",
       "      <td>67</td>\n",
       "      <td>01:35:42</td>\n",
       "      <td>2018-07-02 01:35:00</td>\n",
       "      <td>2018-07-02 01:00:00</td>\n",
       "      <td>-1</td>\n",
       "      <td>: Tonight we have big game....  ??????</td>\n",
       "      <td>[#worldcup]</td>\n",
       "      <td>[@javierfernandez, @EvgeniPlushenko]</td>\n",
       "      <td>1</td>\n",
       "      <td>[https://t.co/LKifuNlubC]</td>\n",
       "    </tr>\n",
       "    <tr>\n",
       "      <th>3</th>\n",
       "      <td>1013597044198391808</td>\n",
       "      <td>en</td>\n",
       "      <td>2018-07-02</td>\n",
       "      <td>Twitter Web Client</td>\n",
       "      <td>142</td>\n",
       "      <td>We get stronger\\r\\nTurn the music up now\\r\\nWe got that power power~\\r\\n\\r\\n#PowerByEXO #WorldCu...</td>\n",
       "      <td>We get stronger Turn the music up now We got that power power</td>\n",
       "      <td>0</td>\n",
       "      <td>0</td>\n",
       "      <td>PowerByEXO,WorldCup,FIFAStadiumDJ,XiuminLeague</td>\n",
       "      <td>...</td>\n",
       "      <td>89</td>\n",
       "      <td>01:35:41</td>\n",
       "      <td>2018-07-02 01:35:00</td>\n",
       "      <td>2018-07-02 01:00:00</td>\n",
       "      <td>-1</td>\n",
       "      <td>We get stronger\\r\\nTurn the music up now\\r\\nWe got that power power~\\r\\n\\r\\n    \\r\\n</td>\n",
       "      <td>[#PowerByEXO, #WorldCup, #FIFAStadiumDJ, #XiuminLeague]</td>\n",
       "      <td>[@weareoneEXO, @FIFAWorldCup]</td>\n",
       "      <td>1</td>\n",
       "      <td>[]</td>\n",
       "    </tr>\n",
       "    <tr>\n",
       "      <th>4</th>\n",
       "      <td>1013597039999926272</td>\n",
       "      <td>en</td>\n",
       "      <td>2018-07-02</td>\n",
       "      <td>Twitter for Android</td>\n",
       "      <td>140</td>\n",
       "      <td>RT @Squawka: Only two goalkeepers have saved three penalties in a #WorldCup penalty shoot-out: \\...</td>\n",
       "      <td>Only two goalkeepers have saved three penalties in penalty shoot out Ricardo vs</td>\n",
       "      <td>0</td>\n",
       "      <td>477</td>\n",
       "      <td>WorldCup,POR,ENG</td>\n",
       "      <td>...</td>\n",
       "      <td>216</td>\n",
       "      <td>01:35:40</td>\n",
       "      <td>2018-07-02 01:35:00</td>\n",
       "      <td>2018-07-02 01:00:00</td>\n",
       "      <td>-1</td>\n",
       "      <td>: Only two goalkeepers have saved three penalties in a  penalty shoot-out: \\r\\n\\r\\n1/7/2006: 's...</td>\n",
       "      <td>[#WorldCup, #POR, #ENG]</td>\n",
       "      <td>[@Squawka]</td>\n",
       "      <td>1</td>\n",
       "      <td>[]</td>\n",
       "    </tr>\n",
       "  </tbody>\n",
       "</table>\n",
       "<p>5 rows × 25 columns</p>\n",
       "</div>"
      ],
      "text/plain": [
       "                    ID lang        Date               Source  len  \\\n",
       "0  1013597060640145408   en  2018-07-02  Twitter for Android  140   \n",
       "1  1013597056219295744   en  2018-07-02  Twitter for Android  139   \n",
       "2  1013597047482544130   en  2018-07-02  Twitter for Android  107   \n",
       "3  1013597044198391808   en  2018-07-02   Twitter Web Client  142   \n",
       "4  1013597039999926272   en  2018-07-02  Twitter for Android  140   \n",
       "\n",
       "                                                                                            Orig_Tweet  \\\n",
       "0  RT @Squawka: Only two goalkeepers have saved three penalties in a #WorldCup penalty shoot-out: \\...   \n",
       "1  RT @FCBarcelona: ?? @ivanrakitic scores the winning penalty to send @HNS_CFF into the #WorldCup ...   \n",
       "2  RT @javierfernandez: Tonight we have big game.... @EvgeniPlushenko ?????? #worldcup https://t.co...   \n",
       "3  We get stronger\\r\\nTurn the music up now\\r\\nWe got that power power~\\r\\n\\r\\n#PowerByEXO #WorldCu...   \n",
       "4  RT @Squawka: Only two goalkeepers have saved three penalties in a #WorldCup penalty shoot-out: \\...   \n",
       "\n",
       "                                                                                    Tweet  \\\n",
       "0         Only two goalkeepers have saved three penalties in penalty shoot out Ricardo vs   \n",
       "1  scores the winning penalty to send into the quarter finals where they will face Russia   \n",
       "2                                                                Tonight we have big game   \n",
       "3                           We get stronger Turn the music up now We got that power power   \n",
       "4         Only two goalkeepers have saved three penalties in penalty shoot out Ricardo vs   \n",
       "\n",
       "   Likes   RTs                                        Hashtags  \\\n",
       "0      0   477                                WorldCup,POR,ENG   \n",
       "1      0  1031                                        WorldCup   \n",
       "2      0   488                                        worldcup   \n",
       "3      0     0  PowerByEXO,WorldCup,FIFAStadiumDJ,XiuminLeague   \n",
       "4      0   477                                WorldCup,POR,ENG   \n",
       "\n",
       "             ...             Friends      Time            Datetime  \\\n",
       "0            ...                 828  01:35:45 2018-07-02 01:35:00   \n",
       "1            ...                 686  01:35:44 2018-07-02 01:35:00   \n",
       "2            ...                  67  01:35:42 2018-07-02 01:35:00   \n",
       "3            ...                  89  01:35:41 2018-07-02 01:35:00   \n",
       "4            ...                 216  01:35:40 2018-07-02 01:35:00   \n",
       "\n",
       "             DateHour  event_id  \\\n",
       "0 2018-07-02 01:00:00        -1   \n",
       "1 2018-07-02 01:00:00        -1   \n",
       "2 2018-07-02 01:00:00        -1   \n",
       "3 2018-07-02 01:00:00        -1   \n",
       "4 2018-07-02 01:00:00        -1   \n",
       "\n",
       "                                                                                                  text  \\\n",
       "0   : Only two goalkeepers have saved three penalties in a  penalty shoot-out: \\r\\n\\r\\n1/7/2006: 's...   \n",
       "1      : ??  scores the winning penalty to send  into the  quarter-finals, where they'll face Russia!…   \n",
       "2                                                             : Tonight we have big game....  ??????     \n",
       "3                We get stronger\\r\\nTurn the music up now\\r\\nWe got that power power~\\r\\n\\r\\n    \\r\\n    \n",
       "4   : Only two goalkeepers have saved three penalties in a  penalty shoot-out: \\r\\n\\r\\n1/7/2006: 's...   \n",
       "\n",
       "                                                   hashtag  \\\n",
       "0                                  [#WorldCup, #POR, #ENG]   \n",
       "1                                              [#WorldCup]   \n",
       "2                                              [#worldcup]   \n",
       "3  [#PowerByEXO, #WorldCup, #FIFAStadiumDJ, #XiuminLeague]   \n",
       "4                                  [#WorldCup, #POR, #ENG]   \n",
       "\n",
       "                             new_mentions RT                        URL  \n",
       "0                              [@Squawka]  1                         []  \n",
       "1  [@FCBarcelona, @ivanrakitic, @HNS_CFF]  1                         []  \n",
       "2    [@javierfernandez, @EvgeniPlushenko]  1  [https://t.co/LKifuNlubC]  \n",
       "3           [@weareoneEXO, @FIFAWorldCup]  1                         []  \n",
       "4                              [@Squawka]  1                         []  \n",
       "\n",
       "[5 rows x 25 columns]"
      ]
     },
     "execution_count": 24,
     "metadata": {},
     "output_type": "execute_result"
    }
   ],
   "source": [
    "#print(df[\"Orig_Tweet\"][12])\n",
    "df2[\"text\"] = np.array([text[\"input_text\"] for text in temp])\n",
    "df2[\"hashtag\"] = np.array([text[\"hashtags\"] for text in temp])\n",
    "df2[\"new_mentions\"] = np.array([text[\"user_mentions\"] for text in temp]) \n",
    "df2[\"RT\"] = np.array([text[\"is_RT\"] for text in temp])\n",
    "df2[\"URL\"] = np.array([text[\"is_URL\"] for text in temp])\n",
    "df2.head()"
   ]
  },
  {
   "cell_type": "markdown",
   "metadata": {},
   "source": [
    "<h3> Remove punctuation </h3>"
   ]
  },
  {
   "cell_type": "code",
   "execution_count": null,
   "metadata": {},
   "outputs": [],
   "source": [
    "string.punctuation"
   ]
  },
  {
   "cell_type": "code",
   "execution_count": null,
   "metadata": {},
   "outputs": [],
   "source": [
    "def remove_punct(text):\n",
    "    temp = string.punctuation+\"…\"\n",
    "    text  = \"\".join([char for char in text if char not in string.punctuation])\n",
    "    text = re.sub('[0-9]+', '', text)\n",
    "    return text\n",
    "\n",
    "df2['Tweet_punct'] = df2['text'].apply(lambda x: remove_punct(x))"
   ]
  },
  {
   "cell_type": "markdown",
   "metadata": {},
   "source": [
    "<h3>Tokenization</h3>"
   ]
  },
  {
   "cell_type": "code",
   "execution_count": null,
   "metadata": {},
   "outputs": [],
   "source": [
    "#data[\"Tweet_tokenized\"] = data[\"Tweet_punct\"].apply(lambda x: x.lower().split())"
   ]
  },
  {
   "cell_type": "code",
   "execution_count": null,
   "metadata": {},
   "outputs": [],
   "source": [
    "def tokenization(text):\n",
    "    text = re.split('\\W+', text)\n",
    "    #text = nltk.word_tokenize(text)\n",
    "    temp=[]\n",
    "    for i in text:\n",
    "        if i!='':\n",
    "            temp.append(i)\n",
    "    return temp\n",
    "\n",
    "df2['Tweet_tokenized'] = df2['Tweet_punct'].apply(lambda x: tokenization(x.lower()))\n",
    "df2.head()"
   ]
  },
  {
   "cell_type": "markdown",
   "metadata": {},
   "source": [
    "<h3>Remove stopwords</h3>"
   ]
  },
  {
   "cell_type": "code",
   "execution_count": null,
   "metadata": {},
   "outputs": [],
   "source": [
    "stopword = nltk.corpus.stopwords.words('english')"
   ]
  },
  {
   "cell_type": "code",
   "execution_count": null,
   "metadata": {},
   "outputs": [],
   "source": [
    "def remove_stopwords(text):\n",
    "     text = [word for word in text if word not in stopword]\n",
    "     return text\n",
    "    \n",
    "df2['Tweet_nonstop'] = df2['Tweet_tokenized'].apply(lambda x: remove_stopwords(x))"
   ]
  },
  {
   "cell_type": "code",
   "execution_count": null,
   "metadata": {},
   "outputs": [],
   "source": [
    "print(df2[\"Orig_Tweet\"][2])\n",
    "print(df2['Tweet_nonstop'][2])"
   ]
  },
  {
   "cell_type": "markdown",
   "metadata": {},
   "source": [
    "<h3>Stemming and Lammitization </h3>"
   ]
  },
  {
   "cell_type": "code",
   "execution_count": null,
   "metadata": {},
   "outputs": [],
   "source": [
    "from nltk.stem.snowball import SnowballStemmer\n",
    "from nltk.corpus import stopwords\n",
    "from bs4 import BeautifulSoup\n",
    "import re"
   ]
  },
  {
   "cell_type": "code",
   "execution_count": null,
   "metadata": {},
   "outputs": [],
   "source": [
    "df2.columns"
   ]
  },
  {
   "cell_type": "code",
   "execution_count": null,
   "metadata": {},
   "outputs": [],
   "source": [
    "# Stemming is the process of breaking a word down into its root.\n",
    "stemmer = SnowballStemmer('english')\n",
    "stops = set(stopwords.words(\"english\"))"
   ]
  },
  {
   "cell_type": "code",
   "execution_count": null,
   "metadata": {},
   "outputs": [],
   "source": [
    "def stemming_to_sent(words):\n",
    "    stemmed_words = [stemmer.stem(w) for w in words]\n",
    "    return(\" \".join(stemmed_words))\n",
    "def stemming_to_words(words):\n",
    "    stemmed_words = [stemmer.stem(w) for w in words]\n",
    "    return stemmed_words"
   ]
  },
  {
   "cell_type": "code",
   "execution_count": null,
   "metadata": {},
   "outputs": [],
   "source": [
    "df2[\"Stem_sent\"] = np.array([stemming_to_sent(temp) for temp in df2[\"Tweet_nonstop\"]])"
   ]
  },
  {
   "cell_type": "code",
   "execution_count": null,
   "metadata": {},
   "outputs": [],
   "source": [
    "df2[\"Stem_words\"] = np.array([stemming_to_words(temp) for temp in df2[\"Tweet_nonstop\"]])"
   ]
  },
  {
   "cell_type": "markdown",
   "metadata": {},
   "source": [
    "<h3>Creating Features from a Bag of Words (Using scikit-learn)</h3>"
   ]
  },
  {
   "cell_type": "code",
   "execution_count": null,
   "metadata": {},
   "outputs": [],
   "source": [
    "from sklearn.feature_extraction.text import CountVectorizer"
   ]
  },
  {
   "cell_type": "code",
   "execution_count": null,
   "metadata": {},
   "outputs": [],
   "source": [
    "def getBagofWords(clean_train,i):\n",
    "    # Initialize the \"CountVectorizer\" object, which is scikit-learn's bag of words tool.\n",
    "    vectorizer = CountVectorizer(analyzer = \"word\",tokenizer = None,preprocessor = None,stop_words = None,max_features = 5000)\n",
    "    # fit_transform() does two functions: First, it fits the model \n",
    "    # and learns the vocabulary; second, it transforms our training \n",
    "    # data into feature vectors. \n",
    "    # Input to fit_transform(): a list of strings \n",
    "    # Output: a document-term sparse matrix [n_samples, n_features]\n",
    "    train_data_features = vectorizer.fit_transform(clean_train)\n",
    "\n",
    "    # Numpy arrays are easy to work with, so convert the result to an array\n",
    "    train_data_features = train_data_features.toarray()\n",
    "    return {\"train_data_features\":train_data_features,\"vectorizer\":vectorizer,\"event_id\":i,\"clean_train\":clean_train}"
   ]
  },
  {
   "cell_type": "code",
   "execution_count": null,
   "metadata": {},
   "outputs": [],
   "source": [
    "maxn = df2[\"event_id\"].max()+1\n",
    "x_object = []\n",
    "for i in range(maxn):\n",
    "    strd=[]\n",
    "    dfchange = df2.loc[df2[\"event_id\"]==i]\n",
    "    for temp in dfchange[\"Stem_sent\"]:\n",
    "        strd.append(temp)\n",
    "    #print(strd)\n",
    "    if strd:\n",
    "        x_object.append(getBagofWords(strd,i))\n",
    "    #getBagofWords(strd)"
   ]
  },
  {
   "cell_type": "code",
   "execution_count": null,
   "metadata": {},
   "outputs": [],
   "source": [
    "train_data_features = x_object[0][\"train_data_features\"]\n",
    "train_data_features.shape"
   ]
  },
  {
   "cell_type": "code",
   "execution_count": null,
   "metadata": {
    "scrolled": false
   },
   "outputs": [],
   "source": [
    "vectorizer = x_object[0][\"vectorizer\"]\n",
    "vocab = vectorizer.get_feature_names()\n",
    "print(vocab)"
   ]
  },
  {
   "cell_type": "code",
   "execution_count": null,
   "metadata": {},
   "outputs": [],
   "source": [
    "def getTFIDFAndSim(tweets):\n",
    "    vect = TfidfVectorizer(max_df=0.8, max_features=200000,stop_words='english', use_idf=True, ngram_range=(1,3))\n",
    "    tfidf = vect.fit_transform(tweets)\n",
    "    sim = (tfidf * tfidf.T).A\n",
    "    return tfidf, sim"
   ]
  },
  {
   "cell_type": "code",
   "execution_count": null,
   "metadata": {},
   "outputs": [],
   "source": [
    "def stemAndTokenize(tweets):   \n",
    "    totalvocab_stemmed = []\n",
    "    totalvocab_tokenized = []\n",
    "    for i in tweets:\n",
    "        allwords_stemmed = tokenize_and_stem(i) # for each item in 'synopses', tokenize/stem\n",
    "        totalvocab_stemmed.extend(allwords_stemmed) # extend the 'totalvocab_stemmed' list\n",
    "\n",
    "        allwords_tokenized = tokenize_only(i)\n",
    "        totalvocab_tokenized.extend(allwords_tokenized)\n",
    "    \n",
    "    return totalvocab_stemmed, totalvocab_tokenized\n",
    "\n",
    "def tokenize_and_stem(text):\n",
    "    # first tokenize by sentence, then by word to ensure that punctuation is caught as it's own token\n",
    "    tokens = [word for sent in nltk.sent_tokenize(text) for word in nltk.word_tokenize(sent)]\n",
    "    filtered_tokens = []\n",
    "    # filter out any tokens not containing letters (e.g., numeric tokens, raw punctuation)\n",
    "    for token in tokens:\n",
    "        if re.search('[a-zA-Z]', token):\n",
    "            filtered_tokens.append(token)\n",
    "    stems = [stemmer.stem(t) for t in filtered_tokens]\n",
    "    return stems\n",
    "\n",
    "def tokenize_only(text):\n",
    "    # first tokenize by sentence, then by word to ensure that punctuation is caught as it's own token\n",
    "    tokens = [word.lower() for sent in nltk.sent_tokenize(text) for word in nltk.word_tokenize(sent)]\n",
    "    filtered_tokens = []\n",
    "    # filter out any tokens not containing letters (e.g., numeric tokens, raw punctuation)\n",
    "    for token in tokens:\n",
    "        if re.search('[a-zA-Z]', token):\n",
    "            filtered_tokens.append(token)\n",
    "    return filtered_tokens"
   ]
  },
  {
   "cell_type": "code",
   "execution_count": null,
   "metadata": {},
   "outputs": [],
   "source": [
    "def new_clean_data(i,df2):\n",
    "    sent = \"\"\n",
    "    for temp in df2[\"Stem_words\"].get(i):\n",
    "        sent+= temp + \" \"\n",
    "    for temp in df2[\"hashtag\"].get(i):\n",
    "        sent+= temp + \" \"\n",
    "    for temp in df2[\"new_mentions\"].get(i):\n",
    "        sent+= temp+ \" \"\n",
    "    for temp in df2[\"URL\"].get(i):\n",
    "        sent+= temp + \" \"\n",
    "    return sent\n",
    "\n",
    "df2[\"clean_data\"] = np.array([new_clean_data(i,df2) for i in range(df2.shape[0])])"
   ]
  },
  {
   "cell_type": "code",
   "execution_count": null,
   "metadata": {},
   "outputs": [],
   "source": [
    "def findSimilarTweets(tweets, tfidf,e):\n",
    "    clustering = DBSCAN(eps=e, min_samples=3).fit(tfidf)\n",
    "    #clustering = hdbscan.HDBSCAN(min_cluster_size=2).fit(tfidf)\n",
    "\n",
    "    clusters = clustering.labels_.tolist()\n",
    "    temp = clusters.copy()\n",
    "    temp.remove\n",
    "\n",
    "    addedCluster = tweets.copy()\n",
    "    addedCluster['Cluster'] = clusters\n",
    "\n",
    "    pd.options.display.max_colwidth = 100\n",
    "\n",
    "    cls = []\n",
    "    max_num_cluster = 0\n",
    "    for i in range(0, num_clusters):\n",
    "        tweetsInCluster = addedCluster[addedCluster['Cluster'] == i]\n",
    "        if(tweetsInCluster.shape[0] > 0):\n",
    "            cls.append(tweetsInCluster)\n",
    "            #print(\"cluster: \",i)\n",
    "            #print(\"Cluster\", i, \":\", tweetsInCluster.shape[0])\n",
    "            #print(tweetsInCluster.shape[0])\n",
    "            if (tweetsInCluster.shape[0]>max_num_cluster):\n",
    "                    max_num_cluster=tweetsInCluster.shape[0]\n",
    "                    max_i = i\n",
    "                    max_cluster = tweetsInCluster\n",
    "            #print(tweetsInCluster['Orig_Tweet'])\n",
    "            #    return True\n",
    "    print(\"Cluster\", max_i, \":\", max_cluster.shape[0])\n",
    "    print(max_cluster['Orig_Tweet'])    \n",
    "    return max_cluster"
   ]
  },
  {
   "cell_type": "code",
   "execution_count": null,
   "metadata": {},
   "outputs": [],
   "source": [
    "maxn = df2[\"event_id\"].max()\n",
    "tweetsPerEvent = []\n",
    "for i in range(0, maxn+1):\n",
    "    tweetsPerEvent.append(df2[df2['event_id'] == i])\n",
    "    #tweetsPerEvent[i][\"Clean_data\"] = np.array([temp for temp in df2[df2['event_id'] == i][\"Orig_Tweet\"]])"
   ]
  },
  {
   "cell_type": "code",
   "execution_count": null,
   "metadata": {
    "scrolled": false
   },
   "outputs": [],
   "source": [
    "count = 0\n",
    "df = pd.DataFrame();\n",
    "    \n",
    "# For each spike, clean the tweets, stem and tokenize the tweets, and find the TF-IDF vectors for the tweets. Then cluster\n",
    "# on the vectors to find similar tweets. If clusters are found, then take the largest cluster to find the tweets that define\n",
    "# the event.\n",
    "list_events = []\n",
    "for i in range(0, len(tweetsPerEvent)):\n",
    "#     if(tweetsPerEvent[i].shape[0] < 10):\n",
    "#         continue\n",
    "    \n",
    "    \n",
    "    \n",
    "    \n",
    "    count += 1\n",
    "    #tweets = cleanData(tweetsPerEvent[i])\n",
    "    #tweetsContent = tweets.copy()['clean_data']\n",
    "    tweets = tweetsPerEvent[i]\n",
    "    tweetsContent = tweets.copy()['clean_data']\n",
    "    tfidf, sim = getTFIDFAndSim(tweetsContent)\n",
    "    #totalvocab_stemmed, totalvocab_tokenized = stemAndTokenize(tweetsContent)\n",
    "    print(\"Event\", i, \":\")\n",
    "    print(\"Tweets: \",tweetsPerEvent[i].shape[0])\n",
    "    #print(tweetsPerEvent[i]['Orig_Tweet'])\n",
    "    #if(findSimilarTweets(tweets, tfidf,1.2)):\n",
    "    #    df = pd.concat([df, tweetsPerEvent[i]])\n",
    "\n",
    "    list_events.append(findSimilarTweets(tweets,tfidf,1.2))\n",
    "    print(\"\\n\")\n",
    "    \n",
    "print(count)"
   ]
  },
  {
   "cell_type": "code",
   "execution_count": null,
   "metadata": {},
   "outputs": [],
   "source": [
    "list_events[1]"
   ]
  }
 ],
 "metadata": {
  "kernelspec": {
   "display_name": "Python 3",
   "language": "python",
   "name": "python3"
  },
  "language_info": {
   "codemirror_mode": {
    "name": "ipython",
    "version": 3
   },
   "file_extension": ".py",
   "mimetype": "text/x-python",
   "name": "python",
   "nbconvert_exporter": "python",
   "pygments_lexer": "ipython3",
   "version": "3.7.1"
  }
 },
 "nbformat": 4,
 "nbformat_minor": 2
}
